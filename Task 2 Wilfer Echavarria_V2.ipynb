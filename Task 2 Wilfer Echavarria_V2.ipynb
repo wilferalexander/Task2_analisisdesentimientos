{
 "cells": [
  {
   "cell_type": "markdown",
   "id": "efd13444-2d97-4e09-ad95-cc29d47015ed",
   "metadata": {},
   "source": [
    "#  Student Information\n",
    "\n",
    "     "
   ]
  },
  {
   "cell_type": "markdown",
   "id": "6439bbd2-f3af-4d11-a234-ee1259e93261",
   "metadata": {},
   "source": [
    "### Wilfer Alexander Echavarria Vargas\n",
    "## Student Numer:\n",
    "    852538228     \n",
    "## Date: \n",
    "    2022-06-15\n",
    "    \n"
   ]
  },
  {
   "cell_type": "markdown",
   "id": "bf33c36a-22ec-4647-9608-dd5962cf42c9",
   "metadata": {},
   "source": [
    "# 2. Question 1. Task identification.\n",
    "     Given the assigned data set, is this an association rule mining problem or a text mining problem? Explain your reasoning. (Analyse with Python, compare, explain)"
   ]
  },
  {
   "cell_type": "markdown",
   "id": "e10634cc-4d75-453e-885b-595b2daa2fb1",
   "metadata": {},
   "source": [
    "<font color='blue'>\n",
    "When analyzing the data contained in this dataset on the positive and negative or neutral feelings of people in airlines, we find that this is a data mining set problem, but it can also be an association problem, but for the purposes of this exercise we will concentrate on the text mining to train our model properly\n",
    "The reason for choosing is a data mining problem because the chosen dataset allows us to organize and structure a complex text to clear the pertinent data. In addition, we will carry out the sentiment analysis, which consists of analyzing the emotions contained in the dataset.\n",
    "\n",
    "the data set is structured since this, although it is a twitter analysis, already has a defined structure which is already organized in 15 columns and 14640 rows with their respective labels, but it is important to understand that most of the problems Based in social networks and other technologies that collect information, this information is unstructured and through text mining we can go from unstructured text to structured text, which will allow us to build an efficient machine learning model to process a large amount of data.\n",
    "\n",
    "For this exercise we determine that it is a supervised learning model since we already have a previously labeled data set, that is, we already know the values of the target attributes for the data set we have, which are 3 Positive, Negative, Neutral\n",
    "\n",
    "for this exercise we can apply the classification algorithms when the result to be predicted is a categorical attribute"
   ]
  },
  {
   "cell_type": "code",
   "execution_count": 5,
   "id": "80664c9d-34ad-4ce7-8ea6-7afe9c51e943",
   "metadata": {},
   "outputs": [
    {
     "ename": "ModuleNotFoundError",
     "evalue": "No module named 'tensorflow'",
     "output_type": "error",
     "traceback": [
      "\u001b[1;31m---------------------------------------------------------------------------\u001b[0m",
      "\u001b[1;31mModuleNotFoundError\u001b[0m                       Traceback (most recent call last)",
      "\u001b[1;32mC:\\Users\\ADMIN-~3\\AppData\\Local\\Temp/ipykernel_15656/1038878839.py\u001b[0m in \u001b[0;36m<module>\u001b[1;34m\u001b[0m\n\u001b[0;32m     35\u001b[0m \u001b[1;31m#from wordcloud import WordCloud\u001b[0m\u001b[1;33m\u001b[0m\u001b[1;33m\u001b[0m\u001b[0m\n\u001b[0;32m     36\u001b[0m \u001b[1;32mfrom\u001b[0m \u001b[0msklearn\u001b[0m\u001b[1;33m.\u001b[0m\u001b[0mmodel_selection\u001b[0m \u001b[1;32mimport\u001b[0m \u001b[0mGridSearchCV\u001b[0m\u001b[1;33m\u001b[0m\u001b[1;33m\u001b[0m\u001b[0m\n\u001b[1;32m---> 37\u001b[1;33m \u001b[1;32mfrom\u001b[0m \u001b[0mkeras\u001b[0m\u001b[1;33m.\u001b[0m\u001b[0mpreprocessing\u001b[0m\u001b[1;33m.\u001b[0m\u001b[0mtext\u001b[0m \u001b[1;32mimport\u001b[0m \u001b[0mTokenizer\u001b[0m\u001b[1;33m\u001b[0m\u001b[1;33m\u001b[0m\u001b[0m\n\u001b[0m\u001b[0;32m     38\u001b[0m \u001b[1;32mfrom\u001b[0m \u001b[0mtermcolor\u001b[0m \u001b[1;32mimport\u001b[0m \u001b[0mcprint\u001b[0m\u001b[1;33m\u001b[0m\u001b[1;33m\u001b[0m\u001b[0m\n\u001b[0;32m     39\u001b[0m \u001b[1;32mimport\u001b[0m \u001b[0mseaborn\u001b[0m \u001b[1;32mas\u001b[0m \u001b[0msns\u001b[0m\u001b[1;33m\u001b[0m\u001b[1;33m\u001b[0m\u001b[0m\n",
      "\u001b[1;32mC:\\ProgramData\\Anaconda3\\lib\\site-packages\\keras\\__init__.py\u001b[0m in \u001b[0;36m<module>\u001b[1;34m\u001b[0m\n\u001b[0;32m     19\u001b[0m \"\"\"\n\u001b[0;32m     20\u001b[0m \u001b[1;31m# pylint: disable=unused-import\u001b[0m\u001b[1;33m\u001b[0m\u001b[1;33m\u001b[0m\u001b[0m\n\u001b[1;32m---> 21\u001b[1;33m \u001b[1;32mfrom\u001b[0m \u001b[0mtensorflow\u001b[0m\u001b[1;33m.\u001b[0m\u001b[0mpython\u001b[0m \u001b[1;32mimport\u001b[0m \u001b[0mtf2\u001b[0m\u001b[1;33m\u001b[0m\u001b[1;33m\u001b[0m\u001b[0m\n\u001b[0m\u001b[0;32m     22\u001b[0m \u001b[1;32mfrom\u001b[0m \u001b[0mkeras\u001b[0m \u001b[1;32mimport\u001b[0m \u001b[0mdistribute\u001b[0m\u001b[1;33m\u001b[0m\u001b[1;33m\u001b[0m\u001b[0m\n\u001b[0;32m     23\u001b[0m \u001b[1;33m\u001b[0m\u001b[0m\n",
      "\u001b[1;31mModuleNotFoundError\u001b[0m: No module named 'tensorflow'"
     ]
    }
   ],
   "source": [
    "import numpy as np # linear algebra\n",
    "import pandas as pd # data processing, CSV file I/O (e.g. pd.read_csv)\n",
    "import seaborn as sn \n",
    "import matplotlib.pyplot as plt\n",
    "import seaborn as sns\n",
    "import warnings\n",
    "warnings.filterwarnings('ignore')\n",
    "\n",
    "#sklearn for machine learning\n",
    "from sklearn.feature_extraction.text import TfidfVectorizer\n",
    "from sklearn.linear_model import LogisticRegression\n",
    "from sklearn.metrics import roc_auc_score, f1_score, confusion_matrix\n",
    "from sklearn.model_selection import train_test_split\n",
    "from nltk.corpus import stopwords\n",
    "from imblearn.over_sampling import SMOTE # Handling Imbalanced\n",
    "from nltk.sentiment.vader import SentimentIntensityAnalyzer\n",
    "# Text Preprocessing & Cleaning\n",
    "from sklearn.feature_extraction.text import TfidfVectorizer\n",
    "from nltk.corpus import stopwords\n",
    "import re\n",
    "\n",
    "# Model Building\n",
    "from sklearn.ensemble import GradientBoostingClassifier\n",
    "from sklearn.linear_model import LogisticRegression\n",
    "from sklearn.ensemble import RandomForestClassifier \n",
    "from sklearn.tree import DecisionTreeClassifier\n",
    "from sklearn.naive_bayes import MultinomialNB\n",
    "from xgboost import XGBClassifier\n",
    "from sklearn.svm import SVC\n",
    "\n",
    "from sklearn.metrics import classification_report , confusion_matrix , accuracy_score # Performance Metrics  \n",
    "\n",
    "# Data Visualization \n",
    "import matplotlib.pyplot as plt\n",
    "#from wordcloud import WordCloud\n",
    "from sklearn.model_selection import GridSearchCV\n",
    "from keras.preprocessing.text import Tokenizer\n",
    "from termcolor import cprint\n",
    "import seaborn as sns\n",
    "import warnings   \n",
    "\n",
    "from nltk.corpus import stopwords\n",
    "from nltk.util import ngrams\n",
    "from nltk.stem import WordNetLemmatizer\n",
    "from nltk.sentiment.vader import SentimentIntensityAnalyzer\n",
    "from keras.preprocessing.sequence import pad_sequences\n",
    "from tensorflow.python import tf2\n",
    "from tensorflow.python import tf2\n",
    "import re\n",
    "from textblob import TextBlob\n",
    "from sklearn.model_selection import StratifiedKFold,train_test_split\n",
    "from sklearn.feature_extraction.text import TfidfVectorizer, CountVectorizer\n",
    "from sklearn.linear_model import LogisticRegression\n",
    "from sklearn.metrics import accuracy_score, precision_score, recall_score, confusion_matrix\n",
    "from sklearn.pipeline import Pipeline\n",
    "from sklearn.model_selection import GridSearchCV\n",
    "\n",
    "from keras.preprocessing.text import Tokenizer\n",
    "from keras.preprocessing.sequence import pad_sequences\n",
    "\n",
    "from gensim.models import Word2Vec\n",
    "from gensim.models.keyedvectors import KeyedVectors\n",
    "import time\n",
    "from keras.layers import Dense, Input, Flatten, LSTM, Bidirectional,Embedding, Dropout\n",
    "from keras.layers import Conv1D, MaxPooling1D, Embedding\n",
    "from keras.models import Sequential, load_model\n",
    "from keras import losses\n",
    "\n",
    "\n",
    "from keras.preprocessing.sequence import pad_sequences\n",
    "from keras.utils.vis_utils import plot_model\n",
    "from keras.callbacks import EarlyStopping\n",
    "\n",
    "warnings.filterwarnings('ignore')\n",
    "%matplotlib inline  "
   ]
  },
  {
   "cell_type": "markdown",
   "id": "83274a92-36eb-448f-ab5a-f45882387c99",
   "metadata": {
    "tags": []
   },
   "source": [
    "#  Tweets Data reading and constant value addition"
   ]
  },
  {
   "cell_type": "markdown",
   "id": "652bd281-84e3-4edb-a5b5-44c0466e392f",
   "metadata": {},
   "source": [
    "# LOAD DATA"
   ]
  },
  {
   "cell_type": "code",
   "execution_count": 6,
   "id": "d5a3840f-c81a-4604-989c-70495f05ed9e",
   "metadata": {},
   "outputs": [],
   "source": [
    "# Import csv file\n",
    "df_Tweets= pd.read_csv(\"Tweets.csv\")"
   ]
  },
  {
   "cell_type": "code",
   "execution_count": 7,
   "id": "36bddab0-0edf-4c38-8f3c-0285d928c0e3",
   "metadata": {},
   "outputs": [
    {
     "data": {
      "text/html": [
       "<div>\n",
       "<style scoped>\n",
       "    .dataframe tbody tr th:only-of-type {\n",
       "        vertical-align: middle;\n",
       "    }\n",
       "\n",
       "    .dataframe tbody tr th {\n",
       "        vertical-align: top;\n",
       "    }\n",
       "\n",
       "    .dataframe thead th {\n",
       "        text-align: right;\n",
       "    }\n",
       "</style>\n",
       "<table border=\"1\" class=\"dataframe\">\n",
       "  <thead>\n",
       "    <tr style=\"text-align: right;\">\n",
       "      <th></th>\n",
       "      <th>tweet_id</th>\n",
       "      <th>airline_sentiment</th>\n",
       "      <th>airline_sentiment_confidence</th>\n",
       "      <th>negativereason</th>\n",
       "      <th>negativereason_confidence</th>\n",
       "      <th>airline</th>\n",
       "      <th>airline_sentiment_gold</th>\n",
       "      <th>name</th>\n",
       "      <th>negativereason_gold</th>\n",
       "      <th>retweet_count</th>\n",
       "      <th>text</th>\n",
       "      <th>tweet_coord</th>\n",
       "      <th>tweet_created</th>\n",
       "      <th>tweet_location</th>\n",
       "      <th>user_timezone</th>\n",
       "    </tr>\n",
       "  </thead>\n",
       "  <tbody>\n",
       "    <tr>\n",
       "      <th>0</th>\n",
       "      <td>570306133677760513</td>\n",
       "      <td>neutral</td>\n",
       "      <td>1.0000</td>\n",
       "      <td>NaN</td>\n",
       "      <td>NaN</td>\n",
       "      <td>Virgin America</td>\n",
       "      <td>NaN</td>\n",
       "      <td>cairdin</td>\n",
       "      <td>NaN</td>\n",
       "      <td>0</td>\n",
       "      <td>@VirginAmerica What @dhepburn said.</td>\n",
       "      <td>NaN</td>\n",
       "      <td>2015-02-24 11:35:52 -0800</td>\n",
       "      <td>NaN</td>\n",
       "      <td>Eastern Time (US &amp; Canada)</td>\n",
       "    </tr>\n",
       "    <tr>\n",
       "      <th>1</th>\n",
       "      <td>570301130888122368</td>\n",
       "      <td>positive</td>\n",
       "      <td>0.3486</td>\n",
       "      <td>NaN</td>\n",
       "      <td>0.0000</td>\n",
       "      <td>Virgin America</td>\n",
       "      <td>NaN</td>\n",
       "      <td>jnardino</td>\n",
       "      <td>NaN</td>\n",
       "      <td>0</td>\n",
       "      <td>@VirginAmerica plus you've added commercials t...</td>\n",
       "      <td>NaN</td>\n",
       "      <td>2015-02-24 11:15:59 -0800</td>\n",
       "      <td>NaN</td>\n",
       "      <td>Pacific Time (US &amp; Canada)</td>\n",
       "    </tr>\n",
       "    <tr>\n",
       "      <th>2</th>\n",
       "      <td>570301083672813571</td>\n",
       "      <td>neutral</td>\n",
       "      <td>0.6837</td>\n",
       "      <td>NaN</td>\n",
       "      <td>NaN</td>\n",
       "      <td>Virgin America</td>\n",
       "      <td>NaN</td>\n",
       "      <td>yvonnalynn</td>\n",
       "      <td>NaN</td>\n",
       "      <td>0</td>\n",
       "      <td>@VirginAmerica I didn't today... Must mean I n...</td>\n",
       "      <td>NaN</td>\n",
       "      <td>2015-02-24 11:15:48 -0800</td>\n",
       "      <td>Lets Play</td>\n",
       "      <td>Central Time (US &amp; Canada)</td>\n",
       "    </tr>\n",
       "    <tr>\n",
       "      <th>3</th>\n",
       "      <td>570301031407624196</td>\n",
       "      <td>negative</td>\n",
       "      <td>1.0000</td>\n",
       "      <td>Bad Flight</td>\n",
       "      <td>0.7033</td>\n",
       "      <td>Virgin America</td>\n",
       "      <td>NaN</td>\n",
       "      <td>jnardino</td>\n",
       "      <td>NaN</td>\n",
       "      <td>0</td>\n",
       "      <td>@VirginAmerica it's really aggressive to blast...</td>\n",
       "      <td>NaN</td>\n",
       "      <td>2015-02-24 11:15:36 -0800</td>\n",
       "      <td>NaN</td>\n",
       "      <td>Pacific Time (US &amp; Canada)</td>\n",
       "    </tr>\n",
       "    <tr>\n",
       "      <th>4</th>\n",
       "      <td>570300817074462722</td>\n",
       "      <td>negative</td>\n",
       "      <td>1.0000</td>\n",
       "      <td>Can't Tell</td>\n",
       "      <td>1.0000</td>\n",
       "      <td>Virgin America</td>\n",
       "      <td>NaN</td>\n",
       "      <td>jnardino</td>\n",
       "      <td>NaN</td>\n",
       "      <td>0</td>\n",
       "      <td>@VirginAmerica and it's a really big bad thing...</td>\n",
       "      <td>NaN</td>\n",
       "      <td>2015-02-24 11:14:45 -0800</td>\n",
       "      <td>NaN</td>\n",
       "      <td>Pacific Time (US &amp; Canada)</td>\n",
       "    </tr>\n",
       "  </tbody>\n",
       "</table>\n",
       "</div>"
      ],
      "text/plain": [
       "             tweet_id airline_sentiment  airline_sentiment_confidence  \\\n",
       "0  570306133677760513           neutral                        1.0000   \n",
       "1  570301130888122368          positive                        0.3486   \n",
       "2  570301083672813571           neutral                        0.6837   \n",
       "3  570301031407624196          negative                        1.0000   \n",
       "4  570300817074462722          negative                        1.0000   \n",
       "\n",
       "  negativereason  negativereason_confidence         airline  \\\n",
       "0            NaN                        NaN  Virgin America   \n",
       "1            NaN                     0.0000  Virgin America   \n",
       "2            NaN                        NaN  Virgin America   \n",
       "3     Bad Flight                     0.7033  Virgin America   \n",
       "4     Can't Tell                     1.0000  Virgin America   \n",
       "\n",
       "  airline_sentiment_gold        name negativereason_gold  retweet_count  \\\n",
       "0                    NaN     cairdin                 NaN              0   \n",
       "1                    NaN    jnardino                 NaN              0   \n",
       "2                    NaN  yvonnalynn                 NaN              0   \n",
       "3                    NaN    jnardino                 NaN              0   \n",
       "4                    NaN    jnardino                 NaN              0   \n",
       "\n",
       "                                                text tweet_coord  \\\n",
       "0                @VirginAmerica What @dhepburn said.         NaN   \n",
       "1  @VirginAmerica plus you've added commercials t...         NaN   \n",
       "2  @VirginAmerica I didn't today... Must mean I n...         NaN   \n",
       "3  @VirginAmerica it's really aggressive to blast...         NaN   \n",
       "4  @VirginAmerica and it's a really big bad thing...         NaN   \n",
       "\n",
       "               tweet_created tweet_location               user_timezone  \n",
       "0  2015-02-24 11:35:52 -0800            NaN  Eastern Time (US & Canada)  \n",
       "1  2015-02-24 11:15:59 -0800            NaN  Pacific Time (US & Canada)  \n",
       "2  2015-02-24 11:15:48 -0800      Lets Play  Central Time (US & Canada)  \n",
       "3  2015-02-24 11:15:36 -0800            NaN  Pacific Time (US & Canada)  \n",
       "4  2015-02-24 11:14:45 -0800            NaN  Pacific Time (US & Canada)  "
      ]
     },
     "execution_count": 7,
     "metadata": {},
     "output_type": "execute_result"
    }
   ],
   "source": [
    "#Get first five records\n",
    "df_Tweets.head()"
   ]
  },
  {
   "cell_type": "markdown",
   "id": "a0590146-91a6-43b2-a9d4-e0a87657f283",
   "metadata": {},
   "source": [
    "# Exploratory data analysis"
   ]
  },
  {
   "cell_type": "markdown",
   "id": "914df422-a780-404e-8c10-9776399ee4f7",
   "metadata": {},
   "source": [
    "# DATA VISUALIZATION"
   ]
  },
  {
   "cell_type": "code",
   "execution_count": 8,
   "id": "a63d66a7-b121-48f6-ace7-12edf73d7c45",
   "metadata": {},
   "outputs": [
    {
     "name": "stdout",
     "output_type": "stream",
     "text": [
      "<class 'pandas.core.frame.DataFrame'>\n",
      "RangeIndex: 14640 entries, 0 to 14639\n",
      "Data columns (total 15 columns):\n",
      " #   Column                        Non-Null Count  Dtype  \n",
      "---  ------                        --------------  -----  \n",
      " 0   tweet_id                      14640 non-null  int64  \n",
      " 1   airline_sentiment             14640 non-null  object \n",
      " 2   airline_sentiment_confidence  14640 non-null  float64\n",
      " 3   negativereason                9178 non-null   object \n",
      " 4   negativereason_confidence     10522 non-null  float64\n",
      " 5   airline                       14640 non-null  object \n",
      " 6   airline_sentiment_gold        40 non-null     object \n",
      " 7   name                          14640 non-null  object \n",
      " 8   negativereason_gold           32 non-null     object \n",
      " 9   retweet_count                 14640 non-null  int64  \n",
      " 10  text                          14640 non-null  object \n",
      " 11  tweet_coord                   1019 non-null   object \n",
      " 12  tweet_created                 14640 non-null  object \n",
      " 13  tweet_location                9907 non-null   object \n",
      " 14  user_timezone                 9820 non-null   object \n",
      "dtypes: float64(2), int64(2), object(11)\n",
      "memory usage: 1.7+ MB\n"
     ]
    }
   ],
   "source": [
    "#We are going to \"sniff\" the data, seeing its composition, statistics etc...\n",
    "df_Tweets.info()"
   ]
  },
  {
   "cell_type": "code",
   "execution_count": 9,
   "id": "5f3181b0-3c2f-41d6-952f-5ebdd58d2850",
   "metadata": {},
   "outputs": [
    {
     "data": {
      "text/plain": [
       "(14640, 15)"
      ]
     },
     "execution_count": 9,
     "metadata": {},
     "output_type": "execute_result"
    }
   ],
   "source": [
    "df_Tweets.shape\n",
    "#our dataset contains 14640 records and 15 columns"
   ]
  },
  {
   "cell_type": "code",
   "execution_count": 11,
   "id": "f9fef951-c1c6-463d-9113-9a4cbc8d092e",
   "metadata": {},
   "outputs": [
    {
     "name": "stdout",
     "output_type": "stream",
     "text": [
      "\u001b[32mTotal Null Values in Dataset :\u001b[0m\n",
      "tweet_id                            0\n",
      "airline_sentiment                   0\n",
      "airline_sentiment_confidence        0\n",
      "negativereason                   5462\n",
      "negativereason_confidence        4118\n",
      "airline                             0\n",
      "airline_sentiment_gold          14600\n",
      "name                                0\n",
      "negativereason_gold             14608\n",
      "retweet_count                       0\n",
      "text                                0\n",
      "tweet_coord                     13621\n",
      "tweet_created                       0\n",
      "tweet_location                   4733\n",
      "user_timezone                    4820\n",
      "dtype: int64\n"
     ]
    },
    {
     "data": {
      "image/png": "[encoded data removed]",
      "text/plain": [
       "<Figure size 1008x576 with 2 Axes>"
      ]
     },
     "metadata": {
      "needs_background": "light"
     },
     "output_type": "display_data"
    }
   ],
   "source": [
    "cprint('Total Null Values in Dataset :','green')\n",
    "print(df_Tweets.isnull().sum()) # showing null values of train data\n",
    "plt.figure(figsize=(14,8))\n",
    "\n",
    "\n",
    "# visualize null values\n",
    "sns.heatmap(df_Tweets.isnull(), yticklabels = False, cmap='magma')\n",
    "plt.title('Total null values of dataset',size=20);"
   ]
  },
  {
   "cell_type": "code",
   "execution_count": 12,
   "id": "bfbb192d-284d-4d3c-8778-71bc958b9441",
   "metadata": {},
   "outputs": [
    {
     "data": {
      "text/html": [
       "<div>\n",
       "<style scoped>\n",
       "    .dataframe tbody tr th:only-of-type {\n",
       "        vertical-align: middle;\n",
       "    }\n",
       "\n",
       "    .dataframe tbody tr th {\n",
       "        vertical-align: top;\n",
       "    }\n",
       "\n",
       "    .dataframe thead th {\n",
       "        text-align: right;\n",
       "    }\n",
       "</style>\n",
       "<table border=\"1\" class=\"dataframe\">\n",
       "  <thead>\n",
       "    <tr style=\"text-align: right;\">\n",
       "      <th></th>\n",
       "      <th>tweet_id</th>\n",
       "      <th>airline_sentiment</th>\n",
       "      <th>airline_sentiment_confidence</th>\n",
       "      <th>negativereason</th>\n",
       "      <th>negativereason_confidence</th>\n",
       "      <th>airline</th>\n",
       "      <th>airline_sentiment_gold</th>\n",
       "      <th>name</th>\n",
       "      <th>negativereason_gold</th>\n",
       "      <th>retweet_count</th>\n",
       "      <th>text</th>\n",
       "      <th>tweet_coord</th>\n",
       "      <th>tweet_created</th>\n",
       "      <th>tweet_location</th>\n",
       "      <th>user_timezone</th>\n",
       "    </tr>\n",
       "  </thead>\n",
       "  <tbody>\n",
       "    <tr>\n",
       "      <th>0</th>\n",
       "      <td>570306133677760513</td>\n",
       "      <td>neutral</td>\n",
       "      <td>1.0000</td>\n",
       "      <td>Eastern Time (US &amp; Canada)</td>\n",
       "      <td>Eastern Time (US &amp; Canada)</td>\n",
       "      <td>Virgin America</td>\n",
       "      <td>Eastern Time (US &amp; Canada)</td>\n",
       "      <td>cairdin</td>\n",
       "      <td>Eastern Time (US &amp; Canada)</td>\n",
       "      <td>0</td>\n",
       "      <td>@VirginAmerica What @dhepburn said.</td>\n",
       "      <td>Eastern Time (US &amp; Canada)</td>\n",
       "      <td>2015-02-24 11:35:52 -0800</td>\n",
       "      <td>Eastern Time (US &amp; Canada)</td>\n",
       "      <td>Eastern Time (US &amp; Canada)</td>\n",
       "    </tr>\n",
       "    <tr>\n",
       "      <th>1</th>\n",
       "      <td>570301130888122368</td>\n",
       "      <td>positive</td>\n",
       "      <td>0.3486</td>\n",
       "      <td>Pacific Time (US &amp; Canada)</td>\n",
       "      <td>Pacific Time (US &amp; Canada)</td>\n",
       "      <td>Virgin America</td>\n",
       "      <td>Pacific Time (US &amp; Canada)</td>\n",
       "      <td>jnardino</td>\n",
       "      <td>Pacific Time (US &amp; Canada)</td>\n",
       "      <td>0</td>\n",
       "      <td>@VirginAmerica plus you've added commercials t...</td>\n",
       "      <td>Pacific Time (US &amp; Canada)</td>\n",
       "      <td>2015-02-24 11:15:59 -0800</td>\n",
       "      <td>Pacific Time (US &amp; Canada)</td>\n",
       "      <td>Pacific Time (US &amp; Canada)</td>\n",
       "    </tr>\n",
       "  </tbody>\n",
       "</table>\n",
       "</div>"
      ],
      "text/plain": [
       "             tweet_id airline_sentiment  airline_sentiment_confidence  \\\n",
       "0  570306133677760513           neutral                        1.0000   \n",
       "1  570301130888122368          positive                        0.3486   \n",
       "\n",
       "               negativereason   negativereason_confidence         airline  \\\n",
       "0  Eastern Time (US & Canada)  Eastern Time (US & Canada)  Virgin America   \n",
       "1  Pacific Time (US & Canada)  Pacific Time (US & Canada)  Virgin America   \n",
       "\n",
       "       airline_sentiment_gold      name         negativereason_gold  \\\n",
       "0  Eastern Time (US & Canada)   cairdin  Eastern Time (US & Canada)   \n",
       "1  Pacific Time (US & Canada)  jnardino  Pacific Time (US & Canada)   \n",
       "\n",
       "   retweet_count                                               text  \\\n",
       "0              0                @VirginAmerica What @dhepburn said.   \n",
       "1              0  @VirginAmerica plus you've added commercials t...   \n",
       "\n",
       "                  tweet_coord              tweet_created  \\\n",
       "0  Eastern Time (US & Canada)  2015-02-24 11:35:52 -0800   \n",
       "1  Pacific Time (US & Canada)  2015-02-24 11:15:59 -0800   \n",
       "\n",
       "               tweet_location               user_timezone  \n",
       "0  Eastern Time (US & Canada)  Eastern Time (US & Canada)  \n",
       "1  Pacific Time (US & Canada)  Pacific Time (US & Canada)  "
      ]
     },
     "execution_count": 12,
     "metadata": {},
     "output_type": "execute_result"
    }
   ],
   "source": [
    "#We are going to fill it with zeros\n",
    "df_Tweets[\"negativereason\"] = df_Tweets[\"negativereason_confidence\"] = df_Tweets[\"negativereason_confidence\"] = df_Tweets[\"airline_sentiment_gold\"] = df_Tweets[\"negativereason_gold\"] = df_Tweets[\"tweet_coord\"] = df_Tweets[\"tweet_location\"]  = df_Tweets[\"user_timezone\"].fillna(0)\n",
    "df_Tweets.head(2)"
   ]
  },
  {
   "cell_type": "code",
   "execution_count": 13,
   "id": "075848c8-2ba6-4494-ae91-25420438b82a",
   "metadata": {},
   "outputs": [
    {
     "name": "stdout",
     "output_type": "stream",
     "text": [
      "\u001b[32mTotal number of sentiments of tweets :\u001b[0m\n",
      "negative    9178\n",
      "neutral     3099\n",
      "positive    2363\n",
      "Name: airline_sentiment, dtype: int64\n"
     ]
    },
    {
     "data": {
      "image/png": "[encoded data removed]",
      "text/plain": [
       "<Figure size 720x576 with 1 Axes>"
      ]
     },
     "metadata": {
      "needs_background": "light"
     },
     "output_type": "display_data"
    }
   ],
   "source": [
    "cprint(\"Total number of sentiments of tweets :\",'green')\n",
    "print(df_Tweets.airline_sentiment.value_counts())\n",
    "plt.figure(figsize = (10, 8))\n",
    "ax = sns.countplot(x = 'airline_sentiment', data = df_Tweets, palette = 'pastel')\n",
    "ax.set_title(label = 'Total number of sentiments of tweets', fontsize = 20)\n",
    "plt.show()"
   ]
  },
  {
   "cell_type": "code",
   "execution_count": 14,
   "id": "451773cf-3352-4580-a186-f84767970ef9",
   "metadata": {},
   "outputs": [
    {
     "data": {
      "text/plain": [
       "negative    9178\n",
       "neutral     3099\n",
       "positive    2363\n",
       "Name: airline_sentiment, dtype: int64"
      ]
     },
     "execution_count": 14,
     "metadata": {},
     "output_type": "execute_result"
    }
   ],
   "source": [
    "#Number of sentiments in each category\n",
    "df_Tweets.airline_sentiment.value_counts()"
   ]
  },
  {
   "cell_type": "markdown",
   "id": "b9bc0268-c256-4f81-ab75-c1fd36907296",
   "metadata": {},
   "source": [
    "our possible target values are negative which contains negative 9178, neutral 3099 and positive 2363"
   ]
  },
  {
   "cell_type": "code",
   "execution_count": 15,
   "id": "8df2d60e-f4e0-4bf7-b212-415e7410d425",
   "metadata": {},
   "outputs": [
    {
     "name": "stdout",
     "output_type": "stream",
     "text": [
      "Airlines: ['Virgin America' 'United' 'Southwest' 'Delta' 'US Airways' 'American']\n"
     ]
    }
   ],
   "source": [
    "#List of airlines\n",
    "airlines = df_Tweets['airline'].unique()\n",
    "print(\"Airlines:\", airlines)"
   ]
  },
  {
   "cell_type": "markdown",
   "id": "e2b18fe8-50be-440f-8a5d-55ea36c18dce",
   "metadata": {},
   "source": [
    "# Positive, neutral and negative airline_sentiment per airline\n"
   ]
  },
  {
   "cell_type": "code",
   "execution_count": 16,
   "id": "340a90b3-ae70-4c31-ad62-285f6c5fccee",
   "metadata": {},
   "outputs": [
    {
     "data": {
      "text/html": [
       "<div>\n",
       "<style scoped>\n",
       "    .dataframe tbody tr th:only-of-type {\n",
       "        vertical-align: middle;\n",
       "    }\n",
       "\n",
       "    .dataframe tbody tr th {\n",
       "        vertical-align: top;\n",
       "    }\n",
       "\n",
       "    .dataframe thead th {\n",
       "        text-align: right;\n",
       "    }\n",
       "</style>\n",
       "<table border=\"1\" class=\"dataframe\">\n",
       "  <thead>\n",
       "    <tr style=\"text-align: right;\">\n",
       "      <th></th>\n",
       "      <th>neutrals</th>\n",
       "      <th>positives</th>\n",
       "      <th>negatives</th>\n",
       "    </tr>\n",
       "  </thead>\n",
       "  <tbody>\n",
       "    <tr>\n",
       "      <th>Virgin America</th>\n",
       "      <td>171</td>\n",
       "      <td>152</td>\n",
       "      <td>181</td>\n",
       "    </tr>\n",
       "    <tr>\n",
       "      <th>United</th>\n",
       "      <td>697</td>\n",
       "      <td>492</td>\n",
       "      <td>2633</td>\n",
       "    </tr>\n",
       "    <tr>\n",
       "      <th>Southwest</th>\n",
       "      <td>664</td>\n",
       "      <td>570</td>\n",
       "      <td>1186</td>\n",
       "    </tr>\n",
       "    <tr>\n",
       "      <th>Delta</th>\n",
       "      <td>723</td>\n",
       "      <td>544</td>\n",
       "      <td>955</td>\n",
       "    </tr>\n",
       "    <tr>\n",
       "      <th>US Airways</th>\n",
       "      <td>381</td>\n",
       "      <td>269</td>\n",
       "      <td>2263</td>\n",
       "    </tr>\n",
       "    <tr>\n",
       "      <th>American</th>\n",
       "      <td>463</td>\n",
       "      <td>336</td>\n",
       "      <td>1960</td>\n",
       "    </tr>\n",
       "  </tbody>\n",
       "</table>\n",
       "</div>"
      ],
      "text/plain": [
       "                neutrals  positives  negatives\n",
       "Virgin America       171        152        181\n",
       "United               697        492       2633\n",
       "Southwest            664        570       1186\n",
       "Delta                723        544        955\n",
       "US Airways           381        269       2263\n",
       "American             463        336       1960"
      ]
     },
     "execution_count": 16,
     "metadata": {},
     "output_type": "execute_result"
    }
   ],
   "source": [
    "def get_sentiment(df_Tweets, airlines):\n",
    "    positives = []\n",
    "    negatives = []\n",
    "    neutrals = []\n",
    "\n",
    "    for airline in airlines:\n",
    "        positive = df_Tweets.query('@airline == airline and airline_sentiment == \"positive\"')['tweet_id'].count()\n",
    "        negative = df_Tweets.query('@airline == airline and airline_sentiment == \"negative\"')['tweet_id'].count()\n",
    "        neutral = df_Tweets.query('@airline == airline and airline_sentiment == \"neutral\"')['tweet_id'].count()\n",
    "        \n",
    "        positives.append(positive)\n",
    "        negatives.append(negative)\n",
    "        neutrals.append(neutral)\n",
    "          \n",
    "    return positives, negatives, neutrals\n",
    "        \n",
    "\n",
    "     \n",
    "positives, negatives, neutrals = get_sentiment(df_Tweets, airlines)\n",
    "\n",
    "sentiment_airlines_df = pd.DataFrame(index = airlines);\n",
    "sentiment_airlines_df['neutrals'] = neutrals\n",
    "sentiment_airlines_df['positives'] = positives\n",
    "sentiment_airlines_df['negatives'] = negatives\n",
    "sentiment_airlines_df"
   ]
  },
  {
   "cell_type": "code",
   "execution_count": 17,
   "id": "d64e4f14-2965-4e67-9e8e-09331d379a3b",
   "metadata": {},
   "outputs": [
    {
     "data": {
      "image/png": "[encoded data removed]",
      "text/plain": [
       "<Figure size 756x720 with 6 Axes>"
      ]
     },
     "metadata": {
      "needs_background": "light"
     },
     "output_type": "display_data"
    }
   ],
   "source": [
    "g = sns.FacetGrid(df_Tweets, col=\"airline\", col_wrap=3, height=5, aspect =0.7)\n",
    "g = g.map(sns.countplot, \"airline_sentiment\",order =df_Tweets.airline_sentiment.value_counts().index, palette='plasma')\n",
    "plt.show()"
   ]
  },
  {
   "cell_type": "code",
   "execution_count": 18,
   "id": "0a227597-3ff4-4352-a328-b7f8aea4d221",
   "metadata": {},
   "outputs": [
    {
     "name": "stdout",
     "output_type": "stream",
     "text": [
      "\u001b[32mTotal number of tweets for each airline :\u001b[0m\n",
      "airline\n",
      "American          2759\n",
      "Delta             2222\n",
      "Southwest         2420\n",
      "US Airways        2913\n",
      "United            3822\n",
      "Virgin America     504\n",
      "Name: airline_sentiment, dtype: int64\n"
     ]
    },
    {
     "data": {
      "image/png": "[encoded data removed]",
      "text/plain": [
       "<Figure size 720x576 with 1 Axes>"
      ]
     },
     "metadata": {
      "needs_background": "light"
     },
     "output_type": "display_data"
    },
    {
     "name": "stdout",
     "output_type": "stream",
     "text": [
      "\u001b[32mTotal number of sentiment tweets for each airline :\u001b[0m\n",
      "US Airways : \n",
      " negative    2263\n",
      "neutral      381\n",
      "positive     269\n",
      "Name: airline_sentiment, dtype: int64\n",
      "United : \n",
      " negative    2633\n",
      "neutral      697\n",
      "positive     492\n",
      "Name: airline_sentiment, dtype: int64\n",
      "American : \n",
      " negative    1960\n",
      "neutral      463\n",
      "positive     336\n",
      "Name: airline_sentiment, dtype: int64\n",
      "Southwest : \n",
      " negative    1186\n",
      "neutral      664\n",
      "positive     570\n",
      "Name: airline_sentiment, dtype: int64\n",
      "Delta : \n",
      " negative    955\n",
      "neutral     723\n",
      "positive    544\n",
      "Name: airline_sentiment, dtype: int64\n",
      "Virgin America : \n",
      " negative    181\n",
      "neutral     171\n",
      "positive    152\n",
      "Name: airline_sentiment, dtype: int64\n"
     ]
    }
   ],
   "source": [
    "#otal number of tweets for each airline :\n",
    "cprint(\"Total number of tweets for each airline :\",'green')\n",
    "print(df_Tweets.groupby('airline')['airline_sentiment'].count())\n",
    "\n",
    "\n",
    "\n",
    "plt.figure(figsize = (10, 8))\n",
    "ax = sns.countplot(x = 'airline', data = df_Tweets, palette = 'pastel')\n",
    "ax.set_title(label = 'Total number of tweets for each airline', fontsize = 20)\n",
    "plt.show()\n",
    "\n",
    "\n",
    "cprint(\"Total number of sentiment tweets for each airline :\",'green')\n",
    "airlines= ['US Airways','United','American','Southwest','Delta','Virgin America']\n",
    "for i in airlines :\n",
    "    print('{} : \\n'.format(i),df_Tweets.loc[df_Tweets.airline == i].airline_sentiment.value_counts())"
   ]
  },
  {
   "cell_type": "markdown",
   "id": "742cc212-dd6e-4a54-a1e1-d230b36b6b1c",
   "metadata": {},
   "source": [
    "# Positive, neutral and negative airline_sentiment per airline in percentage (%)"
   ]
  },
  {
   "cell_type": "code",
   "execution_count": 19,
   "id": "f87dd3ff-0428-48e2-8e00-011cdb50fee3",
   "metadata": {},
   "outputs": [
    {
     "data": {
      "text/html": [
       "<div>\n",
       "<style scoped>\n",
       "    .dataframe tbody tr th:only-of-type {\n",
       "        vertical-align: middle;\n",
       "    }\n",
       "\n",
       "    .dataframe tbody tr th {\n",
       "        vertical-align: top;\n",
       "    }\n",
       "\n",
       "    .dataframe thead th {\n",
       "        text-align: right;\n",
       "    }\n",
       "</style>\n",
       "<table border=\"1\" class=\"dataframe\">\n",
       "  <thead>\n",
       "    <tr style=\"text-align: right;\">\n",
       "      <th></th>\n",
       "      <th>neutrals (%)</th>\n",
       "      <th>positives (%)</th>\n",
       "      <th>negatives (%)</th>\n",
       "    </tr>\n",
       "  </thead>\n",
       "  <tbody>\n",
       "    <tr>\n",
       "      <th>US Airways</th>\n",
       "      <td>5.517909</td>\n",
       "      <td>6.432501</td>\n",
       "      <td>1.972107</td>\n",
       "    </tr>\n",
       "    <tr>\n",
       "      <th>United</th>\n",
       "      <td>22.491126</td>\n",
       "      <td>20.820990</td>\n",
       "      <td>28.688167</td>\n",
       "    </tr>\n",
       "    <tr>\n",
       "      <th>American</th>\n",
       "      <td>21.426267</td>\n",
       "      <td>24.121879</td>\n",
       "      <td>12.922205</td>\n",
       "    </tr>\n",
       "    <tr>\n",
       "      <th>Southwest</th>\n",
       "      <td>23.330106</td>\n",
       "      <td>23.021583</td>\n",
       "      <td>10.405317</td>\n",
       "    </tr>\n",
       "    <tr>\n",
       "      <th>Delta</th>\n",
       "      <td>12.294288</td>\n",
       "      <td>11.383834</td>\n",
       "      <td>24.656788</td>\n",
       "    </tr>\n",
       "    <tr>\n",
       "      <th>Virgin America</th>\n",
       "      <td>14.940303</td>\n",
       "      <td>14.219213</td>\n",
       "      <td>21.355415</td>\n",
       "    </tr>\n",
       "  </tbody>\n",
       "</table>\n",
       "</div>"
      ],
      "text/plain": [
       "                neutrals (%)  positives (%)  negatives (%)\n",
       "US Airways          5.517909       6.432501       1.972107\n",
       "United             22.491126      20.820990      28.688167\n",
       "American           21.426267      24.121879      12.922205\n",
       "Southwest          23.330106      23.021583      10.405317\n",
       "Delta              12.294288      11.383834      24.656788\n",
       "Virgin America     14.940303      14.219213      21.355415"
      ]
     },
     "execution_count": 19,
     "metadata": {},
     "output_type": "execute_result"
    }
   ],
   "source": [
    "sentiment_airlines_percentage_df = pd.DataFrame(index = airlines);\n",
    "sentiment_airlines_percentage_df['neutrals (%)'] = list(map(lambda n: n / sum(neutrals) * 100, neutrals))\n",
    "sentiment_airlines_percentage_df['positives (%)'] = list(map(lambda n: n / sum(positives) * 100, positives))\n",
    "sentiment_airlines_percentage_df['negatives (%)'] = list(map(lambda n: n / sum(negatives) * 100, negatives))\n",
    "sentiment_airlines_percentage_df"
   ]
  },
  {
   "cell_type": "markdown",
   "id": "eb0680a9-d5d5-4bf3-96d6-dd6846e25ee9",
   "metadata": {},
   "source": [
    "<font color='blue'>\n",
    "If we import the data and check/confirm the data types by reading, data mining for text allows us to detect and segregate as the problem requires, on this data set we will have a text mining problem, since we are analyzing the tweets made by users to understand which is the best airline according to the feelings of its users. That is why we can say that based on that we perform a text analysis to determine the best airline according to users. We define that this data set is structured and to avoid problems of class imbalance we will use models such as smote and others that allow us to work with that class imbalance which will also help us to test the model"
   ]
  },
  {
   "cell_type": "markdown",
   "id": "6e1ced94-5389-4bc6-8a23-959487a24cea",
   "metadata": {},
   "source": [
    "# Ratio of 'Negative', 'Positive' and 'Neutral"
   ]
  },
  {
   "cell_type": "code",
   "execution_count": 20,
   "id": "1234e021-5593-4c6f-a08b-4baeaf3e9d00",
   "metadata": {},
   "outputs": [
    {
     "data": {
      "image/png": "[encoded data removed]",
      "text/plain": [
       "<Figure size 432x288 with 1 Axes>"
      ]
     },
     "metadata": {},
     "output_type": "display_data"
    }
   ],
   "source": [
    "label=['Negative','Neutral','Positive']\n",
    "plt.pie(df_Tweets.groupby('airline_sentiment')['airline_sentiment'].count(),autopct=\"%.1f%%\",labels=label)\n",
    "plt.show()"
   ]
  },
  {
   "cell_type": "markdown",
   "id": "beeb880d-ec3c-4380-ba16-5424bc2dccc5",
   "metadata": {},
   "source": [
    "# Ratio of airplanes"
   ]
  },
  {
   "cell_type": "code",
   "execution_count": 21,
   "id": "3bbecc08-0dce-49e9-9262-7e01e94a4543",
   "metadata": {},
   "outputs": [
    {
     "data": {
      "image/png": "[encoded data removed]",
      "text/plain": [
       "<Figure size 432x288 with 1 Axes>"
      ]
     },
     "metadata": {},
     "output_type": "display_data"
    }
   ],
   "source": [
    "label=['American', 'Delta', 'Southwest', 'US Airways', 'United',\n",
    "       'Virgin America']\n",
    "plt.pie(df_Tweets.groupby('airline')['airline_sentiment'].count(),autopct=\"%.1f%%\",labels=label)\n",
    "plt.show()"
   ]
  },
  {
   "cell_type": "code",
   "execution_count": 22,
   "id": "75608689-04f4-4a03-a3f4-245df2bdcc87",
   "metadata": {
    "scrolled": true
   },
   "outputs": [
    {
     "data": {
      "image/png": "[encoded data removed]",
      "text/plain": [
       "<Figure size 1440x360 with 1 Axes>"
      ]
     },
     "metadata": {
      "needs_background": "light"
     },
     "output_type": "display_data"
    }
   ],
   "source": [
    "sentiment_airlines_df.plot.bar(rot=0, figsize=(20,5))\n",
    "plt.title('Sentiment count by airlines')\n",
    "plt.xlabel('Airlines')\n",
    "plt.ylabel('number of sentiments')\n",
    "plt.show()"
   ]
  },
  {
   "cell_type": "code",
   "execution_count": 23,
   "id": "8cf3e55c-62cc-4c2a-8161-e43e9b52c8bb",
   "metadata": {},
   "outputs": [],
   "source": [
    "# Split text of Sentiments    \n",
    "positive = df_Tweets[df_Tweets['airline_sentiment'] == 'positive'].text\n",
    "neutral  = df_Tweets[df_Tweets['airline_sentiment'] == 'neutral'].text\n",
    "negative  = df_Tweets[df_Tweets['airline_sentiment'] == 'negative'].text"
   ]
  },
  {
   "cell_type": "markdown",
   "id": "2727579c",
   "metadata": {},
   "source": [
    "<font color='red'>\n",
    "Feedback: \n",
    "    \n",
    "  An extensive desciptive analysis is done with help of charts. The solution includes basic definitional explanations, e.g. what is the difference between structured and unstructured data, is the analysis type unsupervised, supervised or both, some important characteristics of the convenient analysis type. Missing values are also checked and statistical properties of the data are provided with help if visual elements.\n",
    "    \n",
    "</font>"
   ]
  },
  {
   "cell_type": "markdown",
   "id": "09ca19ff-469f-4684-8e44-efc3e93e18ff",
   "metadata": {},
   "source": [
    "# Question 2. Analyse the dataset potential.\n",
    "## Does the dataset you have been assigned have a specific class associated to the instances of the dataset? Can this be considered a classification problem, regression, or would ## clustering be a better choice? Are there problems in the dataset? What other analysis can you think about? What about the features of the dataset, anything important to report?\n",
    "## Explain your reasoning and use charting where appropriate. (Analyse with Python, compare, explain.)"
   ]
  },
  {
   "cell_type": "markdown",
   "id": "097bc501-ab00-43ea-bb1a-1d7a9ac1a684",
   "metadata": {},
   "source": [
    "<font color='blue'>\n",
    "We create a new data set with the variables that interest us, which are our categorical variables, that we are only going to need 2 columns of the entire data set, with which we solve the problem of missing data for the analysis, that is why We are not going to analyze the missing data anymore since they are we will be able to carry out the correct analysis"
   ]
  },
  {
   "cell_type": "markdown",
   "id": "d44667fc-80dc-4f60-9914-1e05632bb2f9",
   "metadata": {},
   "source": [
    "<font color='blue'>\n",
    "our dataset no longer has missing values so we can train the model"
   ]
  },
  {
   "cell_type": "markdown",
   "id": "64437f22-2513-4416-8235-08fb176ffbf3",
   "metadata": {},
   "source": [
    "# Apply histogram (distribution of data) on airline_sentiment to check for potential class imbalance"
   ]
  },
  {
   "cell_type": "markdown",
   "id": "c3c70c18-bc3e-41a0-889a-c108bd98aea3",
   "metadata": {},
   "source": [
    "What is the worst negative reason ?"
   ]
  },
  {
   "cell_type": "markdown",
   "id": "97923caa-a841-415b-991b-bcdb450ab57f",
   "metadata": {},
   "source": [
    "<font color='blue'>\n",
    "when validating the data we find that the class is unbalanced! Negative class overrepresented! For this case, what we will do is balance our data set to be able to train the models and facilitate the analysis of the data.\n",
    "    \n",
    "Since we already know that the dataset is very unbalanced, what we will do is take it towards the positive value to take a more reliable data sample and be able to balance the datase\n",
    "\n",
    "We will also create a model treating the categorical values by converting them into numbers in order to train a linear regression model."
   ]
  },
  {
   "cell_type": "code",
   "execution_count": 25,
   "id": "2256ce1c-ef3d-4329-a216-e0187dc6c424",
   "metadata": {},
   "outputs": [],
   "source": [
    "dfnegative=df_Tweets.loc[df_Tweets['airline_sentiment']=='negative']\n",
    "dfpositive=df_Tweets.loc[df_Tweets['airline_sentiment']=='positive']\n",
    "dfneutral=df_Tweets.loc[df_Tweets['airline_sentiment']=='neutral']"
   ]
  },
  {
   "cell_type": "code",
   "execution_count": 26,
   "id": "ccb73726-695f-455d-a285-a5eca1a7a31b",
   "metadata": {},
   "outputs": [
    {
     "data": {
      "text/plain": [
       "2363"
      ]
     },
     "execution_count": 26,
     "metadata": {},
     "output_type": "execute_result"
    }
   ],
   "source": [
    "dfnegative=dfnegative.sample(n=2363)\n",
    "dfneutral=dfneutral.sample(n=2363)\n",
    "len(dfnegative)\n",
    "len(dfneutral)"
   ]
  },
  {
   "cell_type": "code",
   "execution_count": 27,
   "id": "1188dbe9-85ca-46b0-a33b-0a2750985ff8",
   "metadata": {},
   "outputs": [
    {
     "data": {
      "text/plain": [
       "<AxesSubplot:>"
      ]
     },
     "execution_count": 27,
     "metadata": {},
     "output_type": "execute_result"
    },
    {
     "data": {
      "image/png": "[encoded data removed]",
      "text/plain": [
       "<Figure size 432x288 with 1 Axes>"
      ]
     },
     "metadata": {
      "needs_background": "light"
     },
     "output_type": "display_data"
    }
   ],
   "source": [
    "dfnegative['airline_sentiment'].hist()\n",
    "dfpositive['airline_sentiment'].hist()\n",
    "dfneutral['airline_sentiment'].hist()"
   ]
  },
  {
   "cell_type": "markdown",
   "id": "e7982e71-7c82-4fa5-89d6-4ecb666339ae",
   "metadata": {},
   "source": [
    "<font color='blue'>\n",
    "we already have our balanced data sample"
   ]
  },
  {
   "cell_type": "code",
   "execution_count": 28,
   "id": "ce9dcfc4-a139-49de-8b13-ef865c164d34",
   "metadata": {},
   "outputs": [
    {
     "data": {
      "text/plain": [
       "7089"
      ]
     },
     "execution_count": 28,
     "metadata": {},
     "output_type": "execute_result"
    }
   ],
   "source": [
    "df_Tweets=dfnegative.append(dfneutral).append(dfpositive)\n",
    "len(df_Tweets)\n",
    "\n",
    "# new sample 7089"
   ]
  },
  {
   "cell_type": "markdown",
   "id": "26e2f0a6-4d8d-4ac8-bdf7-0b0fa18b20d0",
   "metadata": {
    "jp-MarkdownHeadingCollapsed": true,
    "tags": []
   },
   "source": [
    " # Can this be considered a classification problem, regression, or would clustering be a better choice? \n",
    " \n",
    " <font color='blue'>\n",
    "This is not a regression problem since we are not looking at numerical data.\n",
    "it can be grouping since we can group several data or similar aspects in the data set.\n",
    "But really this is a classification since it is categorical which will not allow analyzing specific words in the data set.\n",
    "\n",
    "For this data set we could also take the 3 classes negative, positive and neutral to numerical values to perform a regression problem, which we will also detail below.\n",
    "  "
   ]
  },
  {
   "cell_type": "markdown",
   "id": "91ac17b3-eabe-4c89-90ac-b1ba638f7463",
   "metadata": {},
   "source": [
    "# Are there problems in the dataset?\n",
    " <font color='blue'>\n",
    "This data model can present problems between the classification of neutral and positive tweets, it is the only thing that could give us problems in the data analysis that we are carrying out.\n",
    "\n",
    "in the data set there are several problems such as missing values in the data, which were solved by creating a new data set and validating that there were no missing values, and those missing values were replaced by 0 so as not to have problems with missing data. We also found that the classes they are unbalanced but these are balanced by creating a new data set by taking the sample values of the classes to the total of the positive classes in the data set."
   ]
  },
  {
   "cell_type": "code",
   "execution_count": 29,
   "id": "224cc35e-f995-40f5-ab43-e3685166e893",
   "metadata": {},
   "outputs": [
    {
     "name": "stdout",
     "output_type": "stream",
     "text": [
      "airline_sentiment\n",
      "negative    2363\n",
      "neutral     2363\n",
      "positive    2363\n",
      "dtype: int64\n"
     ]
    }
   ],
   "source": [
    "print(df_Tweets.groupby('airline_sentiment').size())"
   ]
  },
  {
   "cell_type": "code",
   "execution_count": 30,
   "id": "d2c1af07-ec26-4cb1-8b65-46b4f97c8686",
   "metadata": {},
   "outputs": [
    {
     "name": "stdout",
     "output_type": "stream",
     "text": [
      "text\n",
      "\"LOL you guys are so on it\" - me, had this been 4 months ago...“@JetBlue: Our fleet's on fleek. http://t.co/LYcARlTFHl”                    1\n",
      "#Real RT @JetBlue: Our fleet's on fleek. http://t.co/ERzht75kqZ                                                                            1\n",
      ". @SouthwestAir condescension must be a quality your co rewards. Your tone reeks of it                                                     1\n",
      "..... Can you not? “@JetBlue: Our fleet's on fleek. http://t.co/udPq0flIQo”                                                                1\n",
      ".@AmericanAir @C2Next Would be great to get some help too! I've been trying since last night to get through.                               1\n",
      "                                                                                                                                          ..\n",
      "😢😢 RT“@JetBlue: @Peaches275 Oh no! Unfortunately, the code must be entered at the time of purchase in order to qualify for the points.”    1\n",
      "😩😂😂😂😂 “@JetBlue: Our fleet's on fleek. http://t.co/yco9dikpt9”                                                                             1\n",
      "😩😩😩 “@JetBlue: Our fleet's on fleek. http://t.co/46am1BSi2G”                                                                               1\n",
      "😩😩😩“@JetBlue: Our fleet's on fleek. http://t.co/BBHTlZgH2C”                                                                                1\n",
      "😳 LOLOLOLOLOL “@JetBlue: Our fleet's on fleek. http://t.co/YXSwFq9tGP”                                                                     1\n",
      "Length: 6983, dtype: int64\n"
     ]
    }
   ],
   "source": [
    "print(df_Tweets.groupby('text').size())"
   ]
  },
  {
   "cell_type": "code",
   "execution_count": 31,
   "id": "c0b806e4-d79d-4568-914c-8538665289ad",
   "metadata": {},
   "outputs": [
    {
     "data": {
      "image/png": "[encoded data removed]",
      "text/plain": [
       "<Figure size 432x288 with 4 Axes>"
      ]
     },
     "metadata": {
      "needs_background": "light"
     },
     "output_type": "display_data"
    }
   ],
   "source": [
    "df_Tweets.drop(['airline_sentiment'],1).hist()\n",
    "plt.show()"
   ]
  },
  {
   "cell_type": "markdown",
   "id": "58fe2880-30f9-4795-a73e-24ed50770b75",
   "metadata": {},
   "source": [
    "# We are going to deal with non-numeric data"
   ]
  },
  {
   "cell_type": "code",
   "execution_count": 32,
   "id": "6138fec9-ee04-460d-8527-8fd668fcdc75",
   "metadata": {},
   "outputs": [
    {
     "data": {
      "text/plain": [
       "array(['negative', 'neutral', 'positive'], dtype=object)"
      ]
     },
     "execution_count": 32,
     "metadata": {},
     "output_type": "execute_result"
    }
   ],
   "source": [
    "#We are going to deal with non-numeric data\n",
    "df_Tweets['airline_sentiment'].unique()"
   ]
  },
  {
   "cell_type": "code",
   "execution_count": 33,
   "id": "ba12e0e2-396b-4a12-852f-f2c787485d70",
   "metadata": {},
   "outputs": [
    {
     "data": {
      "text/html": [
       "<div>\n",
       "<style scoped>\n",
       "    .dataframe tbody tr th:only-of-type {\n",
       "        vertical-align: middle;\n",
       "    }\n",
       "\n",
       "    .dataframe tbody tr th {\n",
       "        vertical-align: top;\n",
       "    }\n",
       "\n",
       "    .dataframe thead th {\n",
       "        text-align: right;\n",
       "    }\n",
       "</style>\n",
       "<table border=\"1\" class=\"dataframe\">\n",
       "  <thead>\n",
       "    <tr style=\"text-align: right;\">\n",
       "      <th></th>\n",
       "      <th>tweet_id</th>\n",
       "      <th>airline_sentiment</th>\n",
       "      <th>airline_sentiment_confidence</th>\n",
       "      <th>negativereason</th>\n",
       "      <th>negativereason_confidence</th>\n",
       "      <th>airline</th>\n",
       "      <th>airline_sentiment_gold</th>\n",
       "      <th>name</th>\n",
       "      <th>negativereason_gold</th>\n",
       "      <th>retweet_count</th>\n",
       "      <th>text</th>\n",
       "      <th>tweet_coord</th>\n",
       "      <th>tweet_created</th>\n",
       "      <th>tweet_location</th>\n",
       "      <th>user_timezone</th>\n",
       "    </tr>\n",
       "  </thead>\n",
       "  <tbody>\n",
       "    <tr>\n",
       "      <th>11123</th>\n",
       "      <td>568491905903939584</td>\n",
       "      <td>3</td>\n",
       "      <td>1.0000</td>\n",
       "      <td>Central Time (US &amp; Canada)</td>\n",
       "      <td>Central Time (US &amp; Canada)</td>\n",
       "      <td>US Airways</td>\n",
       "      <td>Central Time (US &amp; Canada)</td>\n",
       "      <td>jekyllandheid12</td>\n",
       "      <td>Central Time (US &amp; Canada)</td>\n",
       "      <td>0</td>\n",
       "      <td>@USAirways your app is bad, and you should fee...</td>\n",
       "      <td>Central Time (US &amp; Canada)</td>\n",
       "      <td>2015-02-19 11:26:47 -0800</td>\n",
       "      <td>Central Time (US &amp; Canada)</td>\n",
       "      <td>Central Time (US &amp; Canada)</td>\n",
       "    </tr>\n",
       "    <tr>\n",
       "      <th>6225</th>\n",
       "      <td>568110095646781440</td>\n",
       "      <td>3</td>\n",
       "      <td>1.0000</td>\n",
       "      <td>Central Time (US &amp; Canada)</td>\n",
       "      <td>Central Time (US &amp; Canada)</td>\n",
       "      <td>Southwest</td>\n",
       "      <td>Central Time (US &amp; Canada)</td>\n",
       "      <td>brendanpshannon</td>\n",
       "      <td>Central Time (US &amp; Canada)</td>\n",
       "      <td>0</td>\n",
       "      <td>5 hour delay = shortly?“@SouthwestAir: @brenda...</td>\n",
       "      <td>Central Time (US &amp; Canada)</td>\n",
       "      <td>2015-02-18 10:09:36 -0800</td>\n",
       "      <td>Central Time (US &amp; Canada)</td>\n",
       "      <td>Central Time (US &amp; Canada)</td>\n",
       "    </tr>\n",
       "    <tr>\n",
       "      <th>5154</th>\n",
       "      <td>569301668904329216</td>\n",
       "      <td>3</td>\n",
       "      <td>1.0000</td>\n",
       "      <td>0</td>\n",
       "      <td>0</td>\n",
       "      <td>Southwest</td>\n",
       "      <td>0</td>\n",
       "      <td>Laughable_con</td>\n",
       "      <td>0</td>\n",
       "      <td>0</td>\n",
       "      <td>@SouthwestAir you are the worst airline. Congr...</td>\n",
       "      <td>0</td>\n",
       "      <td>2015-02-21 17:04:29 -0800</td>\n",
       "      <td>0</td>\n",
       "      <td>NaN</td>\n",
       "    </tr>\n",
       "    <tr>\n",
       "      <th>6557</th>\n",
       "      <td>567780076926693376</td>\n",
       "      <td>3</td>\n",
       "      <td>1.0000</td>\n",
       "      <td>0</td>\n",
       "      <td>0</td>\n",
       "      <td>Southwest</td>\n",
       "      <td>0</td>\n",
       "      <td>KentScheidegger</td>\n",
       "      <td>0</td>\n",
       "      <td>0</td>\n",
       "      <td>@SouthwestAir How? It is not possible to call ...</td>\n",
       "      <td>0</td>\n",
       "      <td>2015-02-17 12:18:13 -0800</td>\n",
       "      <td>0</td>\n",
       "      <td>NaN</td>\n",
       "    </tr>\n",
       "    <tr>\n",
       "      <th>9950</th>\n",
       "      <td>569602860020850688</td>\n",
       "      <td>3</td>\n",
       "      <td>1.0000</td>\n",
       "      <td>0</td>\n",
       "      <td>0</td>\n",
       "      <td>US Airways</td>\n",
       "      <td>0</td>\n",
       "      <td>JeffersRich</td>\n",
       "      <td>0</td>\n",
       "      <td>0</td>\n",
       "      <td>@USAirways  Flight 4454 aircraft at gate, but ...</td>\n",
       "      <td>0</td>\n",
       "      <td>2015-02-22 13:01:19 -0800</td>\n",
       "      <td>0</td>\n",
       "      <td>NaN</td>\n",
       "    </tr>\n",
       "    <tr>\n",
       "      <th>...</th>\n",
       "      <td>...</td>\n",
       "      <td>...</td>\n",
       "      <td>...</td>\n",
       "      <td>...</td>\n",
       "      <td>...</td>\n",
       "      <td>...</td>\n",
       "      <td>...</td>\n",
       "      <td>...</td>\n",
       "      <td>...</td>\n",
       "      <td>...</td>\n",
       "      <td>...</td>\n",
       "      <td>...</td>\n",
       "      <td>...</td>\n",
       "      <td>...</td>\n",
       "      <td>...</td>\n",
       "    </tr>\n",
       "    <tr>\n",
       "      <th>14623</th>\n",
       "      <td>569590013278756865</td>\n",
       "      <td>2</td>\n",
       "      <td>0.6274</td>\n",
       "      <td>Eastern Time (US &amp; Canada)</td>\n",
       "      <td>Eastern Time (US &amp; Canada)</td>\n",
       "      <td>American</td>\n",
       "      <td>Eastern Time (US &amp; Canada)</td>\n",
       "      <td>Flora_Lola_NYC</td>\n",
       "      <td>Eastern Time (US &amp; Canada)</td>\n",
       "      <td>0</td>\n",
       "      <td>@AmericanAir Love the new planes for the JFK-L...</td>\n",
       "      <td>Eastern Time (US &amp; Canada)</td>\n",
       "      <td>2015-02-22 12:10:16 -0800</td>\n",
       "      <td>Eastern Time (US &amp; Canada)</td>\n",
       "      <td>Eastern Time (US &amp; Canada)</td>\n",
       "    </tr>\n",
       "    <tr>\n",
       "      <th>14625</th>\n",
       "      <td>569589643487928321</td>\n",
       "      <td>2</td>\n",
       "      <td>1.0000</td>\n",
       "      <td>0</td>\n",
       "      <td>0</td>\n",
       "      <td>American</td>\n",
       "      <td>0</td>\n",
       "      <td>DrCaseyJRudkin</td>\n",
       "      <td>0</td>\n",
       "      <td>0</td>\n",
       "      <td>@AmericanAir Flight 236 was great. Fantastic c...</td>\n",
       "      <td>0</td>\n",
       "      <td>2015-02-22 12:08:48 -0800</td>\n",
       "      <td>0</td>\n",
       "      <td>NaN</td>\n",
       "    </tr>\n",
       "    <tr>\n",
       "      <th>14628</th>\n",
       "      <td>569588651925098496</td>\n",
       "      <td>2</td>\n",
       "      <td>1.0000</td>\n",
       "      <td>Eastern Time (US &amp; Canada)</td>\n",
       "      <td>Eastern Time (US &amp; Canada)</td>\n",
       "      <td>American</td>\n",
       "      <td>Eastern Time (US &amp; Canada)</td>\n",
       "      <td>jlhalldc</td>\n",
       "      <td>Eastern Time (US &amp; Canada)</td>\n",
       "      <td>0</td>\n",
       "      <td>Thank you. “@AmericanAir: @jlhalldc Customer R...</td>\n",
       "      <td>Eastern Time (US &amp; Canada)</td>\n",
       "      <td>2015-02-22 12:04:51 -0800</td>\n",
       "      <td>Eastern Time (US &amp; Canada)</td>\n",
       "      <td>Eastern Time (US &amp; Canada)</td>\n",
       "    </tr>\n",
       "    <tr>\n",
       "      <th>14630</th>\n",
       "      <td>569588473050611712</td>\n",
       "      <td>2</td>\n",
       "      <td>1.0000</td>\n",
       "      <td>0</td>\n",
       "      <td>0</td>\n",
       "      <td>American</td>\n",
       "      <td>0</td>\n",
       "      <td>Laurelinesblog</td>\n",
       "      <td>0</td>\n",
       "      <td>0</td>\n",
       "      <td>@AmericanAir Thanks! He is.</td>\n",
       "      <td>0</td>\n",
       "      <td>2015-02-22 12:04:09 -0800</td>\n",
       "      <td>0</td>\n",
       "      <td>NaN</td>\n",
       "    </tr>\n",
       "    <tr>\n",
       "      <th>14635</th>\n",
       "      <td>569587686496825344</td>\n",
       "      <td>2</td>\n",
       "      <td>0.3487</td>\n",
       "      <td>0</td>\n",
       "      <td>0</td>\n",
       "      <td>American</td>\n",
       "      <td>0</td>\n",
       "      <td>KristenReenders</td>\n",
       "      <td>0</td>\n",
       "      <td>0</td>\n",
       "      <td>@AmericanAir thank you we got on a different f...</td>\n",
       "      <td>0</td>\n",
       "      <td>2015-02-22 12:01:01 -0800</td>\n",
       "      <td>0</td>\n",
       "      <td>NaN</td>\n",
       "    </tr>\n",
       "  </tbody>\n",
       "</table>\n",
       "<p>7089 rows × 15 columns</p>\n",
       "</div>"
      ],
      "text/plain": [
       "                 tweet_id  airline_sentiment  airline_sentiment_confidence  \\\n",
       "11123  568491905903939584                  3                        1.0000   \n",
       "6225   568110095646781440                  3                        1.0000   \n",
       "5154   569301668904329216                  3                        1.0000   \n",
       "6557   567780076926693376                  3                        1.0000   \n",
       "9950   569602860020850688                  3                        1.0000   \n",
       "...                   ...                ...                           ...   \n",
       "14623  569590013278756865                  2                        0.6274   \n",
       "14625  569589643487928321                  2                        1.0000   \n",
       "14628  569588651925098496                  2                        1.0000   \n",
       "14630  569588473050611712                  2                        1.0000   \n",
       "14635  569587686496825344                  2                        0.3487   \n",
       "\n",
       "                   negativereason   negativereason_confidence     airline  \\\n",
       "11123  Central Time (US & Canada)  Central Time (US & Canada)  US Airways   \n",
       "6225   Central Time (US & Canada)  Central Time (US & Canada)   Southwest   \n",
       "5154                            0                           0   Southwest   \n",
       "6557                            0                           0   Southwest   \n",
       "9950                            0                           0  US Airways   \n",
       "...                           ...                         ...         ...   \n",
       "14623  Eastern Time (US & Canada)  Eastern Time (US & Canada)    American   \n",
       "14625                           0                           0    American   \n",
       "14628  Eastern Time (US & Canada)  Eastern Time (US & Canada)    American   \n",
       "14630                           0                           0    American   \n",
       "14635                           0                           0    American   \n",
       "\n",
       "           airline_sentiment_gold             name  \\\n",
       "11123  Central Time (US & Canada)  jekyllandheid12   \n",
       "6225   Central Time (US & Canada)  brendanpshannon   \n",
       "5154                            0    Laughable_con   \n",
       "6557                            0  KentScheidegger   \n",
       "9950                            0      JeffersRich   \n",
       "...                           ...              ...   \n",
       "14623  Eastern Time (US & Canada)   Flora_Lola_NYC   \n",
       "14625                           0   DrCaseyJRudkin   \n",
       "14628  Eastern Time (US & Canada)         jlhalldc   \n",
       "14630                           0   Laurelinesblog   \n",
       "14635                           0  KristenReenders   \n",
       "\n",
       "              negativereason_gold  retweet_count  \\\n",
       "11123  Central Time (US & Canada)              0   \n",
       "6225   Central Time (US & Canada)              0   \n",
       "5154                            0              0   \n",
       "6557                            0              0   \n",
       "9950                            0              0   \n",
       "...                           ...            ...   \n",
       "14623  Eastern Time (US & Canada)              0   \n",
       "14625                           0              0   \n",
       "14628  Eastern Time (US & Canada)              0   \n",
       "14630                           0              0   \n",
       "14635                           0              0   \n",
       "\n",
       "                                                    text  \\\n",
       "11123  @USAirways your app is bad, and you should fee...   \n",
       "6225   5 hour delay = shortly?“@SouthwestAir: @brenda...   \n",
       "5154   @SouthwestAir you are the worst airline. Congr...   \n",
       "6557   @SouthwestAir How? It is not possible to call ...   \n",
       "9950   @USAirways  Flight 4454 aircraft at gate, but ...   \n",
       "...                                                  ...   \n",
       "14623  @AmericanAir Love the new planes for the JFK-L...   \n",
       "14625  @AmericanAir Flight 236 was great. Fantastic c...   \n",
       "14628  Thank you. “@AmericanAir: @jlhalldc Customer R...   \n",
       "14630                        @AmericanAir Thanks! He is.   \n",
       "14635  @AmericanAir thank you we got on a different f...   \n",
       "\n",
       "                      tweet_coord              tweet_created  \\\n",
       "11123  Central Time (US & Canada)  2015-02-19 11:26:47 -0800   \n",
       "6225   Central Time (US & Canada)  2015-02-18 10:09:36 -0800   \n",
       "5154                            0  2015-02-21 17:04:29 -0800   \n",
       "6557                            0  2015-02-17 12:18:13 -0800   \n",
       "9950                            0  2015-02-22 13:01:19 -0800   \n",
       "...                           ...                        ...   \n",
       "14623  Eastern Time (US & Canada)  2015-02-22 12:10:16 -0800   \n",
       "14625                           0  2015-02-22 12:08:48 -0800   \n",
       "14628  Eastern Time (US & Canada)  2015-02-22 12:04:51 -0800   \n",
       "14630                           0  2015-02-22 12:04:09 -0800   \n",
       "14635                           0  2015-02-22 12:01:01 -0800   \n",
       "\n",
       "                   tweet_location               user_timezone  \n",
       "11123  Central Time (US & Canada)  Central Time (US & Canada)  \n",
       "6225   Central Time (US & Canada)  Central Time (US & Canada)  \n",
       "5154                            0                         NaN  \n",
       "6557                            0                         NaN  \n",
       "9950                            0                         NaN  \n",
       "...                           ...                         ...  \n",
       "14623  Eastern Time (US & Canada)  Eastern Time (US & Canada)  \n",
       "14625                           0                         NaN  \n",
       "14628  Eastern Time (US & Canada)  Eastern Time (US & Canada)  \n",
       "14630                           0                         NaN  \n",
       "14635                           0                         NaN  \n",
       "\n",
       "[7089 rows x 15 columns]"
      ]
     },
     "execution_count": 33,
     "metadata": {},
     "output_type": "execute_result"
    }
   ],
   "source": [
    "# I replace them with a numerical value\n",
    "valores_cross = {\"airline_sentiment\":  {'neutral':1, 'positive':2, 'negative':3}}\n",
    "df_Tweets.replace(valores_cross, inplace=True)\n",
    "df_Tweets"
   ]
  },
  {
   "cell_type": "code",
   "execution_count": 34,
   "id": "eda53d21-b9d8-4675-8c37-2ae1044295b0",
   "metadata": {},
   "outputs": [
    {
     "data": {
      "text/plain": [
       "array([3, 1, 2], dtype=int64)"
      ]
     },
     "execution_count": 34,
     "metadata": {},
     "output_type": "execute_result"
    }
   ],
   "source": [
    "df_Tweets['airline_sentiment'].unique()"
   ]
  },
  {
   "cell_type": "code",
   "execution_count": 35,
   "id": "ad68353f-9697-47f6-a66f-be4e3e429832",
   "metadata": {},
   "outputs": [
    {
     "data": {
      "text/plain": [
       "array(['US Airways', 'Southwest', 'United', 'American', 'Delta',\n",
       "       'Virgin America'], dtype=object)"
      ]
     },
     "execution_count": 35,
     "metadata": {},
     "output_type": "execute_result"
    }
   ],
   "source": [
    "df_Tweets['airline'].unique()"
   ]
  },
  {
   "cell_type": "code",
   "execution_count": 36,
   "id": "dc83a634-c45f-4f6f-8792-9ac5b38f1636",
   "metadata": {},
   "outputs": [
    {
     "data": {
      "text/html": [
       "<div>\n",
       "<style scoped>\n",
       "    .dataframe tbody tr th:only-of-type {\n",
       "        vertical-align: middle;\n",
       "    }\n",
       "\n",
       "    .dataframe tbody tr th {\n",
       "        vertical-align: top;\n",
       "    }\n",
       "\n",
       "    .dataframe thead th {\n",
       "        text-align: right;\n",
       "    }\n",
       "</style>\n",
       "<table border=\"1\" class=\"dataframe\">\n",
       "  <thead>\n",
       "    <tr style=\"text-align: right;\">\n",
       "      <th></th>\n",
       "      <th>tweet_id</th>\n",
       "      <th>airline_sentiment</th>\n",
       "      <th>airline_sentiment_confidence</th>\n",
       "      <th>negativereason</th>\n",
       "      <th>negativereason_confidence</th>\n",
       "      <th>airline</th>\n",
       "      <th>airline_sentiment_gold</th>\n",
       "      <th>name</th>\n",
       "      <th>negativereason_gold</th>\n",
       "      <th>retweet_count</th>\n",
       "      <th>text</th>\n",
       "      <th>tweet_coord</th>\n",
       "      <th>tweet_created</th>\n",
       "      <th>tweet_location</th>\n",
       "      <th>user_timezone</th>\n",
       "    </tr>\n",
       "  </thead>\n",
       "  <tbody>\n",
       "    <tr>\n",
       "      <th>11123</th>\n",
       "      <td>568491905903939584</td>\n",
       "      <td>3</td>\n",
       "      <td>1.0000</td>\n",
       "      <td>Central Time (US &amp; Canada)</td>\n",
       "      <td>Central Time (US &amp; Canada)</td>\n",
       "      <td>1</td>\n",
       "      <td>Central Time (US &amp; Canada)</td>\n",
       "      <td>jekyllandheid12</td>\n",
       "      <td>Central Time (US &amp; Canada)</td>\n",
       "      <td>0</td>\n",
       "      <td>@USAirways your app is bad, and you should fee...</td>\n",
       "      <td>Central Time (US &amp; Canada)</td>\n",
       "      <td>2015-02-19 11:26:47 -0800</td>\n",
       "      <td>Central Time (US &amp; Canada)</td>\n",
       "      <td>Central Time (US &amp; Canada)</td>\n",
       "    </tr>\n",
       "    <tr>\n",
       "      <th>6225</th>\n",
       "      <td>568110095646781440</td>\n",
       "      <td>3</td>\n",
       "      <td>1.0000</td>\n",
       "      <td>Central Time (US &amp; Canada)</td>\n",
       "      <td>Central Time (US &amp; Canada)</td>\n",
       "      <td>3</td>\n",
       "      <td>Central Time (US &amp; Canada)</td>\n",
       "      <td>brendanpshannon</td>\n",
       "      <td>Central Time (US &amp; Canada)</td>\n",
       "      <td>0</td>\n",
       "      <td>5 hour delay = shortly?“@SouthwestAir: @brenda...</td>\n",
       "      <td>Central Time (US &amp; Canada)</td>\n",
       "      <td>2015-02-18 10:09:36 -0800</td>\n",
       "      <td>Central Time (US &amp; Canada)</td>\n",
       "      <td>Central Time (US &amp; Canada)</td>\n",
       "    </tr>\n",
       "    <tr>\n",
       "      <th>5154</th>\n",
       "      <td>569301668904329216</td>\n",
       "      <td>3</td>\n",
       "      <td>1.0000</td>\n",
       "      <td>0</td>\n",
       "      <td>0</td>\n",
       "      <td>3</td>\n",
       "      <td>0</td>\n",
       "      <td>Laughable_con</td>\n",
       "      <td>0</td>\n",
       "      <td>0</td>\n",
       "      <td>@SouthwestAir you are the worst airline. Congr...</td>\n",
       "      <td>0</td>\n",
       "      <td>2015-02-21 17:04:29 -0800</td>\n",
       "      <td>0</td>\n",
       "      <td>NaN</td>\n",
       "    </tr>\n",
       "    <tr>\n",
       "      <th>6557</th>\n",
       "      <td>567780076926693376</td>\n",
       "      <td>3</td>\n",
       "      <td>1.0000</td>\n",
       "      <td>0</td>\n",
       "      <td>0</td>\n",
       "      <td>3</td>\n",
       "      <td>0</td>\n",
       "      <td>KentScheidegger</td>\n",
       "      <td>0</td>\n",
       "      <td>0</td>\n",
       "      <td>@SouthwestAir How? It is not possible to call ...</td>\n",
       "      <td>0</td>\n",
       "      <td>2015-02-17 12:18:13 -0800</td>\n",
       "      <td>0</td>\n",
       "      <td>NaN</td>\n",
       "    </tr>\n",
       "    <tr>\n",
       "      <th>9950</th>\n",
       "      <td>569602860020850688</td>\n",
       "      <td>3</td>\n",
       "      <td>1.0000</td>\n",
       "      <td>0</td>\n",
       "      <td>0</td>\n",
       "      <td>1</td>\n",
       "      <td>0</td>\n",
       "      <td>JeffersRich</td>\n",
       "      <td>0</td>\n",
       "      <td>0</td>\n",
       "      <td>@USAirways  Flight 4454 aircraft at gate, but ...</td>\n",
       "      <td>0</td>\n",
       "      <td>2015-02-22 13:01:19 -0800</td>\n",
       "      <td>0</td>\n",
       "      <td>NaN</td>\n",
       "    </tr>\n",
       "    <tr>\n",
       "      <th>...</th>\n",
       "      <td>...</td>\n",
       "      <td>...</td>\n",
       "      <td>...</td>\n",
       "      <td>...</td>\n",
       "      <td>...</td>\n",
       "      <td>...</td>\n",
       "      <td>...</td>\n",
       "      <td>...</td>\n",
       "      <td>...</td>\n",
       "      <td>...</td>\n",
       "      <td>...</td>\n",
       "      <td>...</td>\n",
       "      <td>...</td>\n",
       "      <td>...</td>\n",
       "      <td>...</td>\n",
       "    </tr>\n",
       "    <tr>\n",
       "      <th>14623</th>\n",
       "      <td>569590013278756865</td>\n",
       "      <td>2</td>\n",
       "      <td>0.6274</td>\n",
       "      <td>Eastern Time (US &amp; Canada)</td>\n",
       "      <td>Eastern Time (US &amp; Canada)</td>\n",
       "      <td>4</td>\n",
       "      <td>Eastern Time (US &amp; Canada)</td>\n",
       "      <td>Flora_Lola_NYC</td>\n",
       "      <td>Eastern Time (US &amp; Canada)</td>\n",
       "      <td>0</td>\n",
       "      <td>@AmericanAir Love the new planes for the JFK-L...</td>\n",
       "      <td>Eastern Time (US &amp; Canada)</td>\n",
       "      <td>2015-02-22 12:10:16 -0800</td>\n",
       "      <td>Eastern Time (US &amp; Canada)</td>\n",
       "      <td>Eastern Time (US &amp; Canada)</td>\n",
       "    </tr>\n",
       "    <tr>\n",
       "      <th>14625</th>\n",
       "      <td>569589643487928321</td>\n",
       "      <td>2</td>\n",
       "      <td>1.0000</td>\n",
       "      <td>0</td>\n",
       "      <td>0</td>\n",
       "      <td>4</td>\n",
       "      <td>0</td>\n",
       "      <td>DrCaseyJRudkin</td>\n",
       "      <td>0</td>\n",
       "      <td>0</td>\n",
       "      <td>@AmericanAir Flight 236 was great. Fantastic c...</td>\n",
       "      <td>0</td>\n",
       "      <td>2015-02-22 12:08:48 -0800</td>\n",
       "      <td>0</td>\n",
       "      <td>NaN</td>\n",
       "    </tr>\n",
       "    <tr>\n",
       "      <th>14628</th>\n",
       "      <td>569588651925098496</td>\n",
       "      <td>2</td>\n",
       "      <td>1.0000</td>\n",
       "      <td>Eastern Time (US &amp; Canada)</td>\n",
       "      <td>Eastern Time (US &amp; Canada)</td>\n",
       "      <td>4</td>\n",
       "      <td>Eastern Time (US &amp; Canada)</td>\n",
       "      <td>jlhalldc</td>\n",
       "      <td>Eastern Time (US &amp; Canada)</td>\n",
       "      <td>0</td>\n",
       "      <td>Thank you. “@AmericanAir: @jlhalldc Customer R...</td>\n",
       "      <td>Eastern Time (US &amp; Canada)</td>\n",
       "      <td>2015-02-22 12:04:51 -0800</td>\n",
       "      <td>Eastern Time (US &amp; Canada)</td>\n",
       "      <td>Eastern Time (US &amp; Canada)</td>\n",
       "    </tr>\n",
       "    <tr>\n",
       "      <th>14630</th>\n",
       "      <td>569588473050611712</td>\n",
       "      <td>2</td>\n",
       "      <td>1.0000</td>\n",
       "      <td>0</td>\n",
       "      <td>0</td>\n",
       "      <td>4</td>\n",
       "      <td>0</td>\n",
       "      <td>Laurelinesblog</td>\n",
       "      <td>0</td>\n",
       "      <td>0</td>\n",
       "      <td>@AmericanAir Thanks! He is.</td>\n",
       "      <td>0</td>\n",
       "      <td>2015-02-22 12:04:09 -0800</td>\n",
       "      <td>0</td>\n",
       "      <td>NaN</td>\n",
       "    </tr>\n",
       "    <tr>\n",
       "      <th>14635</th>\n",
       "      <td>569587686496825344</td>\n",
       "      <td>2</td>\n",
       "      <td>0.3487</td>\n",
       "      <td>0</td>\n",
       "      <td>0</td>\n",
       "      <td>4</td>\n",
       "      <td>0</td>\n",
       "      <td>KristenReenders</td>\n",
       "      <td>0</td>\n",
       "      <td>0</td>\n",
       "      <td>@AmericanAir thank you we got on a different f...</td>\n",
       "      <td>0</td>\n",
       "      <td>2015-02-22 12:01:01 -0800</td>\n",
       "      <td>0</td>\n",
       "      <td>NaN</td>\n",
       "    </tr>\n",
       "  </tbody>\n",
       "</table>\n",
       "<p>7089 rows × 15 columns</p>\n",
       "</div>"
      ],
      "text/plain": [
       "                 tweet_id  airline_sentiment  airline_sentiment_confidence  \\\n",
       "11123  568491905903939584                  3                        1.0000   \n",
       "6225   568110095646781440                  3                        1.0000   \n",
       "5154   569301668904329216                  3                        1.0000   \n",
       "6557   567780076926693376                  3                        1.0000   \n",
       "9950   569602860020850688                  3                        1.0000   \n",
       "...                   ...                ...                           ...   \n",
       "14623  569590013278756865                  2                        0.6274   \n",
       "14625  569589643487928321                  2                        1.0000   \n",
       "14628  569588651925098496                  2                        1.0000   \n",
       "14630  569588473050611712                  2                        1.0000   \n",
       "14635  569587686496825344                  2                        0.3487   \n",
       "\n",
       "                   negativereason   negativereason_confidence  airline  \\\n",
       "11123  Central Time (US & Canada)  Central Time (US & Canada)        1   \n",
       "6225   Central Time (US & Canada)  Central Time (US & Canada)        3   \n",
       "5154                            0                           0        3   \n",
       "6557                            0                           0        3   \n",
       "9950                            0                           0        1   \n",
       "...                           ...                         ...      ...   \n",
       "14623  Eastern Time (US & Canada)  Eastern Time (US & Canada)        4   \n",
       "14625                           0                           0        4   \n",
       "14628  Eastern Time (US & Canada)  Eastern Time (US & Canada)        4   \n",
       "14630                           0                           0        4   \n",
       "14635                           0                           0        4   \n",
       "\n",
       "           airline_sentiment_gold             name  \\\n",
       "11123  Central Time (US & Canada)  jekyllandheid12   \n",
       "6225   Central Time (US & Canada)  brendanpshannon   \n",
       "5154                            0    Laughable_con   \n",
       "6557                            0  KentScheidegger   \n",
       "9950                            0      JeffersRich   \n",
       "...                           ...              ...   \n",
       "14623  Eastern Time (US & Canada)   Flora_Lola_NYC   \n",
       "14625                           0   DrCaseyJRudkin   \n",
       "14628  Eastern Time (US & Canada)         jlhalldc   \n",
       "14630                           0   Laurelinesblog   \n",
       "14635                           0  KristenReenders   \n",
       "\n",
       "              negativereason_gold  retweet_count  \\\n",
       "11123  Central Time (US & Canada)              0   \n",
       "6225   Central Time (US & Canada)              0   \n",
       "5154                            0              0   \n",
       "6557                            0              0   \n",
       "9950                            0              0   \n",
       "...                           ...            ...   \n",
       "14623  Eastern Time (US & Canada)              0   \n",
       "14625                           0              0   \n",
       "14628  Eastern Time (US & Canada)              0   \n",
       "14630                           0              0   \n",
       "14635                           0              0   \n",
       "\n",
       "                                                    text  \\\n",
       "11123  @USAirways your app is bad, and you should fee...   \n",
       "6225   5 hour delay = shortly?“@SouthwestAir: @brenda...   \n",
       "5154   @SouthwestAir you are the worst airline. Congr...   \n",
       "6557   @SouthwestAir How? It is not possible to call ...   \n",
       "9950   @USAirways  Flight 4454 aircraft at gate, but ...   \n",
       "...                                                  ...   \n",
       "14623  @AmericanAir Love the new planes for the JFK-L...   \n",
       "14625  @AmericanAir Flight 236 was great. Fantastic c...   \n",
       "14628  Thank you. “@AmericanAir: @jlhalldc Customer R...   \n",
       "14630                        @AmericanAir Thanks! He is.   \n",
       "14635  @AmericanAir thank you we got on a different f...   \n",
       "\n",
       "                      tweet_coord              tweet_created  \\\n",
       "11123  Central Time (US & Canada)  2015-02-19 11:26:47 -0800   \n",
       "6225   Central Time (US & Canada)  2015-02-18 10:09:36 -0800   \n",
       "5154                            0  2015-02-21 17:04:29 -0800   \n",
       "6557                            0  2015-02-17 12:18:13 -0800   \n",
       "9950                            0  2015-02-22 13:01:19 -0800   \n",
       "...                           ...                        ...   \n",
       "14623  Eastern Time (US & Canada)  2015-02-22 12:10:16 -0800   \n",
       "14625                           0  2015-02-22 12:08:48 -0800   \n",
       "14628  Eastern Time (US & Canada)  2015-02-22 12:04:51 -0800   \n",
       "14630                           0  2015-02-22 12:04:09 -0800   \n",
       "14635                           0  2015-02-22 12:01:01 -0800   \n",
       "\n",
       "                   tweet_location               user_timezone  \n",
       "11123  Central Time (US & Canada)  Central Time (US & Canada)  \n",
       "6225   Central Time (US & Canada)  Central Time (US & Canada)  \n",
       "5154                            0                         NaN  \n",
       "6557                            0                         NaN  \n",
       "9950                            0                         NaN  \n",
       "...                           ...                         ...  \n",
       "14623  Eastern Time (US & Canada)  Eastern Time (US & Canada)  \n",
       "14625                           0                         NaN  \n",
       "14628  Eastern Time (US & Canada)  Eastern Time (US & Canada)  \n",
       "14630                           0                         NaN  \n",
       "14635                           0                         NaN  \n",
       "\n",
       "[7089 rows x 15 columns]"
      ]
     },
     "execution_count": 36,
     "metadata": {},
     "output_type": "execute_result"
    }
   ],
   "source": [
    "# I replace them with a numerical value\n",
    "valores_cross = {\"airline\":  {'US Airways':1, 'United':2, 'Southwest':3, 'American':4,'Delta':5,'Virgin America':6}}\n",
    "df_Tweets.replace(valores_cross, inplace=True)\n",
    "df_Tweets"
   ]
  },
  {
   "cell_type": "code",
   "execution_count": 37,
   "id": "c3133681-6f7c-4c78-b04a-68ebbb8f989b",
   "metadata": {},
   "outputs": [
    {
     "data": {
      "image/png": "[encoded data removed]",
      "text/plain": [
       "<Figure size 432x288 with 1 Axes>"
      ]
     },
     "metadata": {
      "needs_background": "light"
     },
     "output_type": "display_data"
    }
   ],
   "source": [
    "#Let's analyze them again, painting some graphs\n",
    "import matplotlib.pyplot as plt\n",
    "plt.scatter(x = df_Tweets['airline_sentiment'], y=df_Tweets['airline'])\n",
    "plt.title('airline_sentiment Vs airline')\n",
    "plt.xlabel('airline_sentiment')\n",
    "plt.ylabel('airline')\n",
    "plt.show()"
   ]
  },
  {
   "cell_type": "code",
   "execution_count": 38,
   "id": "24b0e452-50ea-4b42-afa1-ddfeb3523ca3",
   "metadata": {},
   "outputs": [],
   "source": [
    "sentiment_df_train= df_Tweets.sample(frac=0.8,random_state=0)\n",
    "datos_test = df_Tweets.drop(sentiment_df_train.index)"
   ]
  },
  {
   "cell_type": "code",
   "execution_count": 39,
   "id": "0902c490-81b0-4041-99fc-99602dcd1f14",
   "metadata": {},
   "outputs": [
    {
     "data": {
      "text/html": [
       "<div>\n",
       "<style scoped>\n",
       "    .dataframe tbody tr th:only-of-type {\n",
       "        vertical-align: middle;\n",
       "    }\n",
       "\n",
       "    .dataframe tbody tr th {\n",
       "        vertical-align: top;\n",
       "    }\n",
       "\n",
       "    .dataframe thead th {\n",
       "        text-align: right;\n",
       "    }\n",
       "</style>\n",
       "<table border=\"1\" class=\"dataframe\">\n",
       "  <thead>\n",
       "    <tr style=\"text-align: right;\">\n",
       "      <th></th>\n",
       "      <th>tweet_id</th>\n",
       "      <th>airline_sentiment</th>\n",
       "      <th>airline_sentiment_confidence</th>\n",
       "      <th>negativereason</th>\n",
       "      <th>negativereason_confidence</th>\n",
       "      <th>airline</th>\n",
       "      <th>airline_sentiment_gold</th>\n",
       "      <th>name</th>\n",
       "      <th>negativereason_gold</th>\n",
       "      <th>retweet_count</th>\n",
       "      <th>text</th>\n",
       "      <th>tweet_coord</th>\n",
       "      <th>tweet_created</th>\n",
       "      <th>tweet_location</th>\n",
       "      <th>user_timezone</th>\n",
       "    </tr>\n",
       "  </thead>\n",
       "  <tbody>\n",
       "    <tr>\n",
       "      <th>191</th>\n",
       "      <td>569304030847090688</td>\n",
       "      <td>3</td>\n",
       "      <td>1.0000</td>\n",
       "      <td>Eastern Time (US &amp; Canada)</td>\n",
       "      <td>Eastern Time (US &amp; Canada)</td>\n",
       "      <td>6</td>\n",
       "      <td>Eastern Time (US &amp; Canada)</td>\n",
       "      <td>alexrkonrad</td>\n",
       "      <td>Eastern Time (US &amp; Canada)</td>\n",
       "      <td>0</td>\n",
       "      <td>@VirginAmerica trying to book a flight with yo...</td>\n",
       "      <td>Eastern Time (US &amp; Canada)</td>\n",
       "      <td>2015-02-21 17:13:52 -0800</td>\n",
       "      <td>Eastern Time (US &amp; Canada)</td>\n",
       "      <td>Eastern Time (US &amp; Canada)</td>\n",
       "    </tr>\n",
       "    <tr>\n",
       "      <th>10576</th>\n",
       "      <td>569167658698067970</td>\n",
       "      <td>3</td>\n",
       "      <td>1.0000</td>\n",
       "      <td>Eastern Time (US &amp; Canada)</td>\n",
       "      <td>Eastern Time (US &amp; Canada)</td>\n",
       "      <td>1</td>\n",
       "      <td>Eastern Time (US &amp; Canada)</td>\n",
       "      <td>smash_tag</td>\n",
       "      <td>Eastern Time (US &amp; Canada)</td>\n",
       "      <td>0</td>\n",
       "      <td>@USAirways \"Owen F\" at DCA Gate 42: #rude.</td>\n",
       "      <td>Eastern Time (US &amp; Canada)</td>\n",
       "      <td>2015-02-21 08:11:59 -0800</td>\n",
       "      <td>Eastern Time (US &amp; Canada)</td>\n",
       "      <td>Eastern Time (US &amp; Canada)</td>\n",
       "    </tr>\n",
       "    <tr>\n",
       "      <th>8144</th>\n",
       "      <td>568724024362037248</td>\n",
       "      <td>1</td>\n",
       "      <td>0.6907</td>\n",
       "      <td>0</td>\n",
       "      <td>0</td>\n",
       "      <td>5</td>\n",
       "      <td>0</td>\n",
       "      <td>donnatoo61</td>\n",
       "      <td>0</td>\n",
       "      <td>0</td>\n",
       "      <td>@JetBlue Is it June yet? 😊</td>\n",
       "      <td>0</td>\n",
       "      <td>2015-02-20 02:49:08 -0800</td>\n",
       "      <td>0</td>\n",
       "      <td>NaN</td>\n",
       "    </tr>\n",
       "    <tr>\n",
       "      <th>4665</th>\n",
       "      <td>569951879825907713</td>\n",
       "      <td>2</td>\n",
       "      <td>1.0000</td>\n",
       "      <td>Eastern Time (US &amp; Canada)</td>\n",
       "      <td>Eastern Time (US &amp; Canada)</td>\n",
       "      <td>3</td>\n",
       "      <td>Eastern Time (US &amp; Canada)</td>\n",
       "      <td>AnnCompton</td>\n",
       "      <td>Eastern Time (US &amp; Canada)</td>\n",
       "      <td>1</td>\n",
       "      <td>@SouthwestAir Your Terry is our hero! Got my h...</td>\n",
       "      <td>Eastern Time (US &amp; Canada)</td>\n",
       "      <td>2015-02-23 12:08:12 -0800</td>\n",
       "      <td>Eastern Time (US &amp; Canada)</td>\n",
       "      <td>Eastern Time (US &amp; Canada)</td>\n",
       "    </tr>\n",
       "    <tr>\n",
       "      <th>2647</th>\n",
       "      <td>568972136322375680</td>\n",
       "      <td>2</td>\n",
       "      <td>0.6749</td>\n",
       "      <td>0</td>\n",
       "      <td>0</td>\n",
       "      <td>2</td>\n",
       "      <td>0</td>\n",
       "      <td>DManonog</td>\n",
       "      <td>0</td>\n",
       "      <td>0</td>\n",
       "      <td>@united thank you.</td>\n",
       "      <td>0</td>\n",
       "      <td>2015-02-20 19:15:02 -0800</td>\n",
       "      <td>0</td>\n",
       "      <td>NaN</td>\n",
       "    </tr>\n",
       "    <tr>\n",
       "      <th>...</th>\n",
       "      <td>...</td>\n",
       "      <td>...</td>\n",
       "      <td>...</td>\n",
       "      <td>...</td>\n",
       "      <td>...</td>\n",
       "      <td>...</td>\n",
       "      <td>...</td>\n",
       "      <td>...</td>\n",
       "      <td>...</td>\n",
       "      <td>...</td>\n",
       "      <td>...</td>\n",
       "      <td>...</td>\n",
       "      <td>...</td>\n",
       "      <td>...</td>\n",
       "      <td>...</td>\n",
       "    </tr>\n",
       "    <tr>\n",
       "      <th>12423</th>\n",
       "      <td>570192886689628160</td>\n",
       "      <td>2</td>\n",
       "      <td>1.0000</td>\n",
       "      <td>Eastern Time (US &amp; Canada)</td>\n",
       "      <td>Eastern Time (US &amp; Canada)</td>\n",
       "      <td>4</td>\n",
       "      <td>Eastern Time (US &amp; Canada)</td>\n",
       "      <td>rkflyga</td>\n",
       "      <td>Eastern Time (US &amp; Canada)</td>\n",
       "      <td>0</td>\n",
       "      <td>@AmericanAir thanks! Flight 2160 today. Great ...</td>\n",
       "      <td>Eastern Time (US &amp; Canada)</td>\n",
       "      <td>2015-02-24 04:05:52 -0800</td>\n",
       "      <td>Eastern Time (US &amp; Canada)</td>\n",
       "      <td>Eastern Time (US &amp; Canada)</td>\n",
       "    </tr>\n",
       "    <tr>\n",
       "      <th>5972</th>\n",
       "      <td>568452051740413952</td>\n",
       "      <td>2</td>\n",
       "      <td>1.0000</td>\n",
       "      <td>Pacific Time (US &amp; Canada)</td>\n",
       "      <td>Pacific Time (US &amp; Canada)</td>\n",
       "      <td>3</td>\n",
       "      <td>Pacific Time (US &amp; Canada)</td>\n",
       "      <td>erinpeep</td>\n",
       "      <td>Pacific Time (US &amp; Canada)</td>\n",
       "      <td>0</td>\n",
       "      <td>@SouthwestAir That would be great. Thank you! ...</td>\n",
       "      <td>Pacific Time (US &amp; Canada)</td>\n",
       "      <td>2015-02-19 08:48:25 -0800</td>\n",
       "      <td>Pacific Time (US &amp; Canada)</td>\n",
       "      <td>Pacific Time (US &amp; Canada)</td>\n",
       "    </tr>\n",
       "    <tr>\n",
       "      <th>8465</th>\n",
       "      <td>568237879337422848</td>\n",
       "      <td>2</td>\n",
       "      <td>0.6857</td>\n",
       "      <td>Atlantic Time (Canada)</td>\n",
       "      <td>Atlantic Time (Canada)</td>\n",
       "      <td>5</td>\n",
       "      <td>Atlantic Time (Canada)</td>\n",
       "      <td>amourEspinosa</td>\n",
       "      <td>Atlantic Time (Canada)</td>\n",
       "      <td>0</td>\n",
       "      <td>@JetBlue u cool</td>\n",
       "      <td>Atlantic Time (Canada)</td>\n",
       "      <td>2015-02-18 18:37:22 -0800</td>\n",
       "      <td>Atlantic Time (Canada)</td>\n",
       "      <td>Atlantic Time (Canada)</td>\n",
       "    </tr>\n",
       "    <tr>\n",
       "      <th>14391</th>\n",
       "      <td>569621883282280448</td>\n",
       "      <td>2</td>\n",
       "      <td>1.0000</td>\n",
       "      <td>Eastern Time (US &amp; Canada)</td>\n",
       "      <td>Eastern Time (US &amp; Canada)</td>\n",
       "      <td>4</td>\n",
       "      <td>Eastern Time (US &amp; Canada)</td>\n",
       "      <td>kidith_paulino</td>\n",
       "      <td>Eastern Time (US &amp; Canada)</td>\n",
       "      <td>0</td>\n",
       "      <td>@AmericanAir AA2416 on time and awesome flight...</td>\n",
       "      <td>Eastern Time (US &amp; Canada)</td>\n",
       "      <td>2015-02-22 14:16:54 -0800</td>\n",
       "      <td>Eastern Time (US &amp; Canada)</td>\n",
       "      <td>Eastern Time (US &amp; Canada)</td>\n",
       "    </tr>\n",
       "    <tr>\n",
       "      <th>7900</th>\n",
       "      <td>569036471232892929</td>\n",
       "      <td>2</td>\n",
       "      <td>0.6742</td>\n",
       "      <td>Eastern Time (US &amp; Canada)</td>\n",
       "      <td>Eastern Time (US &amp; Canada)</td>\n",
       "      <td>5</td>\n",
       "      <td>Eastern Time (US &amp; Canada)</td>\n",
       "      <td>traciglee</td>\n",
       "      <td>Eastern Time (US &amp; Canada)</td>\n",
       "      <td>0</td>\n",
       "      <td>@JetBlue 162, SMF to JFK!</td>\n",
       "      <td>Eastern Time (US &amp; Canada)</td>\n",
       "      <td>2015-02-20 23:30:41 -0800</td>\n",
       "      <td>Eastern Time (US &amp; Canada)</td>\n",
       "      <td>Eastern Time (US &amp; Canada)</td>\n",
       "    </tr>\n",
       "  </tbody>\n",
       "</table>\n",
       "<p>5671 rows × 15 columns</p>\n",
       "</div>"
      ],
      "text/plain": [
       "                 tweet_id  airline_sentiment  airline_sentiment_confidence  \\\n",
       "191    569304030847090688                  3                        1.0000   \n",
       "10576  569167658698067970                  3                        1.0000   \n",
       "8144   568724024362037248                  1                        0.6907   \n",
       "4665   569951879825907713                  2                        1.0000   \n",
       "2647   568972136322375680                  2                        0.6749   \n",
       "...                   ...                ...                           ...   \n",
       "12423  570192886689628160                  2                        1.0000   \n",
       "5972   568452051740413952                  2                        1.0000   \n",
       "8465   568237879337422848                  2                        0.6857   \n",
       "14391  569621883282280448                  2                        1.0000   \n",
       "7900   569036471232892929                  2                        0.6742   \n",
       "\n",
       "                   negativereason   negativereason_confidence  airline  \\\n",
       "191    Eastern Time (US & Canada)  Eastern Time (US & Canada)        6   \n",
       "10576  Eastern Time (US & Canada)  Eastern Time (US & Canada)        1   \n",
       "8144                            0                           0        5   \n",
       "4665   Eastern Time (US & Canada)  Eastern Time (US & Canada)        3   \n",
       "2647                            0                           0        2   \n",
       "...                           ...                         ...      ...   \n",
       "12423  Eastern Time (US & Canada)  Eastern Time (US & Canada)        4   \n",
       "5972   Pacific Time (US & Canada)  Pacific Time (US & Canada)        3   \n",
       "8465       Atlantic Time (Canada)      Atlantic Time (Canada)        5   \n",
       "14391  Eastern Time (US & Canada)  Eastern Time (US & Canada)        4   \n",
       "7900   Eastern Time (US & Canada)  Eastern Time (US & Canada)        5   \n",
       "\n",
       "           airline_sentiment_gold            name         negativereason_gold  \\\n",
       "191    Eastern Time (US & Canada)     alexrkonrad  Eastern Time (US & Canada)   \n",
       "10576  Eastern Time (US & Canada)       smash_tag  Eastern Time (US & Canada)   \n",
       "8144                            0      donnatoo61                           0   \n",
       "4665   Eastern Time (US & Canada)      AnnCompton  Eastern Time (US & Canada)   \n",
       "2647                            0        DManonog                           0   \n",
       "...                           ...             ...                         ...   \n",
       "12423  Eastern Time (US & Canada)         rkflyga  Eastern Time (US & Canada)   \n",
       "5972   Pacific Time (US & Canada)        erinpeep  Pacific Time (US & Canada)   \n",
       "8465       Atlantic Time (Canada)   amourEspinosa      Atlantic Time (Canada)   \n",
       "14391  Eastern Time (US & Canada)  kidith_paulino  Eastern Time (US & Canada)   \n",
       "7900   Eastern Time (US & Canada)       traciglee  Eastern Time (US & Canada)   \n",
       "\n",
       "       retweet_count                                               text  \\\n",
       "191                0  @VirginAmerica trying to book a flight with yo...   \n",
       "10576              0         @USAirways \"Owen F\" at DCA Gate 42: #rude.   \n",
       "8144               0                         @JetBlue Is it June yet? 😊   \n",
       "4665               1  @SouthwestAir Your Terry is our hero! Got my h...   \n",
       "2647               0                                 @united thank you.   \n",
       "...              ...                                                ...   \n",
       "12423              0  @AmericanAir thanks! Flight 2160 today. Great ...   \n",
       "5972               0  @SouthwestAir That would be great. Thank you! ...   \n",
       "8465               0                                    @JetBlue u cool   \n",
       "14391              0  @AmericanAir AA2416 on time and awesome flight...   \n",
       "7900               0                          @JetBlue 162, SMF to JFK!   \n",
       "\n",
       "                      tweet_coord              tweet_created  \\\n",
       "191    Eastern Time (US & Canada)  2015-02-21 17:13:52 -0800   \n",
       "10576  Eastern Time (US & Canada)  2015-02-21 08:11:59 -0800   \n",
       "8144                            0  2015-02-20 02:49:08 -0800   \n",
       "4665   Eastern Time (US & Canada)  2015-02-23 12:08:12 -0800   \n",
       "2647                            0  2015-02-20 19:15:02 -0800   \n",
       "...                           ...                        ...   \n",
       "12423  Eastern Time (US & Canada)  2015-02-24 04:05:52 -0800   \n",
       "5972   Pacific Time (US & Canada)  2015-02-19 08:48:25 -0800   \n",
       "8465       Atlantic Time (Canada)  2015-02-18 18:37:22 -0800   \n",
       "14391  Eastern Time (US & Canada)  2015-02-22 14:16:54 -0800   \n",
       "7900   Eastern Time (US & Canada)  2015-02-20 23:30:41 -0800   \n",
       "\n",
       "                   tweet_location               user_timezone  \n",
       "191    Eastern Time (US & Canada)  Eastern Time (US & Canada)  \n",
       "10576  Eastern Time (US & Canada)  Eastern Time (US & Canada)  \n",
       "8144                            0                         NaN  \n",
       "4665   Eastern Time (US & Canada)  Eastern Time (US & Canada)  \n",
       "2647                            0                         NaN  \n",
       "...                           ...                         ...  \n",
       "12423  Eastern Time (US & Canada)  Eastern Time (US & Canada)  \n",
       "5972   Pacific Time (US & Canada)  Pacific Time (US & Canada)  \n",
       "8465       Atlantic Time (Canada)      Atlantic Time (Canada)  \n",
       "14391  Eastern Time (US & Canada)  Eastern Time (US & Canada)  \n",
       "7900   Eastern Time (US & Canada)  Eastern Time (US & Canada)  \n",
       "\n",
       "[5671 rows x 15 columns]"
      ]
     },
     "execution_count": 39,
     "metadata": {},
     "output_type": "execute_result"
    }
   ],
   "source": [
    "sentiment_df_train"
   ]
  },
  {
   "cell_type": "code",
   "execution_count": 40,
   "id": "4ae7dba6-c2b2-4ee6-8ca4-464258af4b65",
   "metadata": {},
   "outputs": [
    {
     "data": {
      "text/html": [
       "<div>\n",
       "<style scoped>\n",
       "    .dataframe tbody tr th:only-of-type {\n",
       "        vertical-align: middle;\n",
       "    }\n",
       "\n",
       "    .dataframe tbody tr th {\n",
       "        vertical-align: top;\n",
       "    }\n",
       "\n",
       "    .dataframe thead th {\n",
       "        text-align: right;\n",
       "    }\n",
       "</style>\n",
       "<table border=\"1\" class=\"dataframe\">\n",
       "  <thead>\n",
       "    <tr style=\"text-align: right;\">\n",
       "      <th></th>\n",
       "      <th>tweet_id</th>\n",
       "      <th>airline_sentiment</th>\n",
       "      <th>airline_sentiment_confidence</th>\n",
       "      <th>negativereason</th>\n",
       "      <th>negativereason_confidence</th>\n",
       "      <th>airline</th>\n",
       "      <th>airline_sentiment_gold</th>\n",
       "      <th>name</th>\n",
       "      <th>negativereason_gold</th>\n",
       "      <th>retweet_count</th>\n",
       "      <th>text</th>\n",
       "      <th>tweet_coord</th>\n",
       "      <th>tweet_created</th>\n",
       "      <th>tweet_location</th>\n",
       "      <th>user_timezone</th>\n",
       "    </tr>\n",
       "  </thead>\n",
       "  <tbody>\n",
       "    <tr>\n",
       "      <th>11123</th>\n",
       "      <td>568491905903939584</td>\n",
       "      <td>3</td>\n",
       "      <td>1.0000</td>\n",
       "      <td>Central Time (US &amp; Canada)</td>\n",
       "      <td>Central Time (US &amp; Canada)</td>\n",
       "      <td>1</td>\n",
       "      <td>Central Time (US &amp; Canada)</td>\n",
       "      <td>jekyllandheid12</td>\n",
       "      <td>Central Time (US &amp; Canada)</td>\n",
       "      <td>0</td>\n",
       "      <td>@USAirways your app is bad, and you should fee...</td>\n",
       "      <td>Central Time (US &amp; Canada)</td>\n",
       "      <td>2015-02-19 11:26:47 -0800</td>\n",
       "      <td>Central Time (US &amp; Canada)</td>\n",
       "      <td>Central Time (US &amp; Canada)</td>\n",
       "    </tr>\n",
       "    <tr>\n",
       "      <th>9824</th>\n",
       "      <td>569650751598944256</td>\n",
       "      <td>3</td>\n",
       "      <td>1.0000</td>\n",
       "      <td>Eastern Time (US &amp; Canada)</td>\n",
       "      <td>Eastern Time (US &amp; Canada)</td>\n",
       "      <td>1</td>\n",
       "      <td>Eastern Time (US &amp; Canada)</td>\n",
       "      <td>Little_BeerGirl</td>\n",
       "      <td>Eastern Time (US &amp; Canada)</td>\n",
       "      <td>0</td>\n",
       "      <td>@USAirways any way to tell our gate we are goi...</td>\n",
       "      <td>Eastern Time (US &amp; Canada)</td>\n",
       "      <td>2015-02-22 16:11:37 -0800</td>\n",
       "      <td>Eastern Time (US &amp; Canada)</td>\n",
       "      <td>Eastern Time (US &amp; Canada)</td>\n",
       "    </tr>\n",
       "    <tr>\n",
       "      <th>11322</th>\n",
       "      <td>568213769798578176</td>\n",
       "      <td>3</td>\n",
       "      <td>1.0000</td>\n",
       "      <td>0</td>\n",
       "      <td>0</td>\n",
       "      <td>1</td>\n",
       "      <td>0</td>\n",
       "      <td>LinseyGarwood</td>\n",
       "      <td>0</td>\n",
       "      <td>0</td>\n",
       "      <td>@USAirways ...Loosing a lot of business by usi...</td>\n",
       "      <td>0</td>\n",
       "      <td>2015-02-18 17:01:34 -0800</td>\n",
       "      <td>0</td>\n",
       "      <td>NaN</td>\n",
       "    </tr>\n",
       "    <tr>\n",
       "      <th>10549</th>\n",
       "      <td>569192350607671297</td>\n",
       "      <td>3</td>\n",
       "      <td>1.0000</td>\n",
       "      <td>0</td>\n",
       "      <td>0</td>\n",
       "      <td>1</td>\n",
       "      <td>0</td>\n",
       "      <td>The_Dan_Kelly</td>\n",
       "      <td>0</td>\n",
       "      <td>0</td>\n",
       "      <td>@USAirways chose you for a flight with very ti...</td>\n",
       "      <td>0</td>\n",
       "      <td>2015-02-21 09:50:06 -0800</td>\n",
       "      <td>0</td>\n",
       "      <td>NaN</td>\n",
       "    </tr>\n",
       "    <tr>\n",
       "      <th>11006</th>\n",
       "      <td>568620349027323905</td>\n",
       "      <td>3</td>\n",
       "      <td>1.0000</td>\n",
       "      <td>0</td>\n",
       "      <td>0</td>\n",
       "      <td>1</td>\n",
       "      <td>0</td>\n",
       "      <td>Allisonjones704</td>\n",
       "      <td>0</td>\n",
       "      <td>0</td>\n",
       "      <td>@USAirways I can't even use my return flight h...</td>\n",
       "      <td>0</td>\n",
       "      <td>2015-02-19 19:57:10 -0800</td>\n",
       "      <td>0</td>\n",
       "      <td>NaN</td>\n",
       "    </tr>\n",
       "    <tr>\n",
       "      <th>...</th>\n",
       "      <td>...</td>\n",
       "      <td>...</td>\n",
       "      <td>...</td>\n",
       "      <td>...</td>\n",
       "      <td>...</td>\n",
       "      <td>...</td>\n",
       "      <td>...</td>\n",
       "      <td>...</td>\n",
       "      <td>...</td>\n",
       "      <td>...</td>\n",
       "      <td>...</td>\n",
       "      <td>...</td>\n",
       "      <td>...</td>\n",
       "      <td>...</td>\n",
       "      <td>...</td>\n",
       "    </tr>\n",
       "    <tr>\n",
       "      <th>14318</th>\n",
       "      <td>569635291490693120</td>\n",
       "      <td>2</td>\n",
       "      <td>1.0000</td>\n",
       "      <td>Eastern Time (US &amp; Canada)</td>\n",
       "      <td>Eastern Time (US &amp; Canada)</td>\n",
       "      <td>4</td>\n",
       "      <td>Eastern Time (US &amp; Canada)</td>\n",
       "      <td>ChipAcker</td>\n",
       "      <td>Eastern Time (US &amp; Canada)</td>\n",
       "      <td>0</td>\n",
       "      <td>@AmericanAir 1138 got us to LGA safely. Thanks...</td>\n",
       "      <td>Eastern Time (US &amp; Canada)</td>\n",
       "      <td>2015-02-22 15:10:11 -0800</td>\n",
       "      <td>Eastern Time (US &amp; Canada)</td>\n",
       "      <td>Eastern Time (US &amp; Canada)</td>\n",
       "    </tr>\n",
       "    <tr>\n",
       "      <th>14423</th>\n",
       "      <td>569618056605016064</td>\n",
       "      <td>2</td>\n",
       "      <td>1.0000</td>\n",
       "      <td>0</td>\n",
       "      <td>0</td>\n",
       "      <td>4</td>\n",
       "      <td>0</td>\n",
       "      <td>TrueChief77</td>\n",
       "      <td>0</td>\n",
       "      <td>0</td>\n",
       "      <td>@AmericanAir Flight 2954, Dallas to Grand Junc...</td>\n",
       "      <td>0</td>\n",
       "      <td>2015-02-22 14:01:42 -0800</td>\n",
       "      <td>0</td>\n",
       "      <td>NaN</td>\n",
       "    </tr>\n",
       "    <tr>\n",
       "      <th>14430</th>\n",
       "      <td>569616839761743872</td>\n",
       "      <td>2</td>\n",
       "      <td>1.0000</td>\n",
       "      <td>Central Time (US &amp; Canada)</td>\n",
       "      <td>Central Time (US &amp; Canada)</td>\n",
       "      <td>4</td>\n",
       "      <td>Central Time (US &amp; Canada)</td>\n",
       "      <td>brentblume</td>\n",
       "      <td>Central Time (US &amp; Canada)</td>\n",
       "      <td>0</td>\n",
       "      <td>@AmericanAir - yep , they've been good.  Now c...</td>\n",
       "      <td>Central Time (US &amp; Canada)</td>\n",
       "      <td>2015-02-22 13:56:52 -0800</td>\n",
       "      <td>Central Time (US &amp; Canada)</td>\n",
       "      <td>Central Time (US &amp; Canada)</td>\n",
       "    </tr>\n",
       "    <tr>\n",
       "      <th>14529</th>\n",
       "      <td>569603991551782913</td>\n",
       "      <td>2</td>\n",
       "      <td>0.6401</td>\n",
       "      <td>0</td>\n",
       "      <td>0</td>\n",
       "      <td>4</td>\n",
       "      <td>0</td>\n",
       "      <td>HybridMovementC</td>\n",
       "      <td>0</td>\n",
       "      <td>0</td>\n",
       "      <td>@AmericanAir  Mad love http://t.co/4ojrSDWPkK ...</td>\n",
       "      <td>0</td>\n",
       "      <td>2015-02-22 13:05:48 -0800</td>\n",
       "      <td>0</td>\n",
       "      <td>NaN</td>\n",
       "    </tr>\n",
       "    <tr>\n",
       "      <th>14628</th>\n",
       "      <td>569588651925098496</td>\n",
       "      <td>2</td>\n",
       "      <td>1.0000</td>\n",
       "      <td>Eastern Time (US &amp; Canada)</td>\n",
       "      <td>Eastern Time (US &amp; Canada)</td>\n",
       "      <td>4</td>\n",
       "      <td>Eastern Time (US &amp; Canada)</td>\n",
       "      <td>jlhalldc</td>\n",
       "      <td>Eastern Time (US &amp; Canada)</td>\n",
       "      <td>0</td>\n",
       "      <td>Thank you. “@AmericanAir: @jlhalldc Customer R...</td>\n",
       "      <td>Eastern Time (US &amp; Canada)</td>\n",
       "      <td>2015-02-22 12:04:51 -0800</td>\n",
       "      <td>Eastern Time (US &amp; Canada)</td>\n",
       "      <td>Eastern Time (US &amp; Canada)</td>\n",
       "    </tr>\n",
       "  </tbody>\n",
       "</table>\n",
       "<p>1418 rows × 15 columns</p>\n",
       "</div>"
      ],
      "text/plain": [
       "                 tweet_id  airline_sentiment  airline_sentiment_confidence  \\\n",
       "11123  568491905903939584                  3                        1.0000   \n",
       "9824   569650751598944256                  3                        1.0000   \n",
       "11322  568213769798578176                  3                        1.0000   \n",
       "10549  569192350607671297                  3                        1.0000   \n",
       "11006  568620349027323905                  3                        1.0000   \n",
       "...                   ...                ...                           ...   \n",
       "14318  569635291490693120                  2                        1.0000   \n",
       "14423  569618056605016064                  2                        1.0000   \n",
       "14430  569616839761743872                  2                        1.0000   \n",
       "14529  569603991551782913                  2                        0.6401   \n",
       "14628  569588651925098496                  2                        1.0000   \n",
       "\n",
       "                   negativereason   negativereason_confidence  airline  \\\n",
       "11123  Central Time (US & Canada)  Central Time (US & Canada)        1   \n",
       "9824   Eastern Time (US & Canada)  Eastern Time (US & Canada)        1   \n",
       "11322                           0                           0        1   \n",
       "10549                           0                           0        1   \n",
       "11006                           0                           0        1   \n",
       "...                           ...                         ...      ...   \n",
       "14318  Eastern Time (US & Canada)  Eastern Time (US & Canada)        4   \n",
       "14423                           0                           0        4   \n",
       "14430  Central Time (US & Canada)  Central Time (US & Canada)        4   \n",
       "14529                           0                           0        4   \n",
       "14628  Eastern Time (US & Canada)  Eastern Time (US & Canada)        4   \n",
       "\n",
       "           airline_sentiment_gold             name  \\\n",
       "11123  Central Time (US & Canada)  jekyllandheid12   \n",
       "9824   Eastern Time (US & Canada)  Little_BeerGirl   \n",
       "11322                           0    LinseyGarwood   \n",
       "10549                           0    The_Dan_Kelly   \n",
       "11006                           0  Allisonjones704   \n",
       "...                           ...              ...   \n",
       "14318  Eastern Time (US & Canada)        ChipAcker   \n",
       "14423                           0      TrueChief77   \n",
       "14430  Central Time (US & Canada)       brentblume   \n",
       "14529                           0  HybridMovementC   \n",
       "14628  Eastern Time (US & Canada)         jlhalldc   \n",
       "\n",
       "              negativereason_gold  retweet_count  \\\n",
       "11123  Central Time (US & Canada)              0   \n",
       "9824   Eastern Time (US & Canada)              0   \n",
       "11322                           0              0   \n",
       "10549                           0              0   \n",
       "11006                           0              0   \n",
       "...                           ...            ...   \n",
       "14318  Eastern Time (US & Canada)              0   \n",
       "14423                           0              0   \n",
       "14430  Central Time (US & Canada)              0   \n",
       "14529                           0              0   \n",
       "14628  Eastern Time (US & Canada)              0   \n",
       "\n",
       "                                                    text  \\\n",
       "11123  @USAirways your app is bad, and you should fee...   \n",
       "9824   @USAirways any way to tell our gate we are goi...   \n",
       "11322  @USAirways ...Loosing a lot of business by usi...   \n",
       "10549  @USAirways chose you for a flight with very ti...   \n",
       "11006  @USAirways I can't even use my return flight h...   \n",
       "...                                                  ...   \n",
       "14318  @AmericanAir 1138 got us to LGA safely. Thanks...   \n",
       "14423  @AmericanAir Flight 2954, Dallas to Grand Junc...   \n",
       "14430  @AmericanAir - yep , they've been good.  Now c...   \n",
       "14529  @AmericanAir  Mad love http://t.co/4ojrSDWPkK ...   \n",
       "14628  Thank you. “@AmericanAir: @jlhalldc Customer R...   \n",
       "\n",
       "                      tweet_coord              tweet_created  \\\n",
       "11123  Central Time (US & Canada)  2015-02-19 11:26:47 -0800   \n",
       "9824   Eastern Time (US & Canada)  2015-02-22 16:11:37 -0800   \n",
       "11322                           0  2015-02-18 17:01:34 -0800   \n",
       "10549                           0  2015-02-21 09:50:06 -0800   \n",
       "11006                           0  2015-02-19 19:57:10 -0800   \n",
       "...                           ...                        ...   \n",
       "14318  Eastern Time (US & Canada)  2015-02-22 15:10:11 -0800   \n",
       "14423                           0  2015-02-22 14:01:42 -0800   \n",
       "14430  Central Time (US & Canada)  2015-02-22 13:56:52 -0800   \n",
       "14529                           0  2015-02-22 13:05:48 -0800   \n",
       "14628  Eastern Time (US & Canada)  2015-02-22 12:04:51 -0800   \n",
       "\n",
       "                   tweet_location               user_timezone  \n",
       "11123  Central Time (US & Canada)  Central Time (US & Canada)  \n",
       "9824   Eastern Time (US & Canada)  Eastern Time (US & Canada)  \n",
       "11322                           0                         NaN  \n",
       "10549                           0                         NaN  \n",
       "11006                           0                         NaN  \n",
       "...                           ...                         ...  \n",
       "14318  Eastern Time (US & Canada)  Eastern Time (US & Canada)  \n",
       "14423                           0                         NaN  \n",
       "14430  Central Time (US & Canada)  Central Time (US & Canada)  \n",
       "14529                           0                         NaN  \n",
       "14628  Eastern Time (US & Canada)  Eastern Time (US & Canada)  \n",
       "\n",
       "[1418 rows x 15 columns]"
      ]
     },
     "execution_count": 40,
     "metadata": {},
     "output_type": "execute_result"
    }
   ],
   "source": [
    "datos_test"
   ]
  },
  {
   "cell_type": "code",
   "execution_count": 41,
   "id": "c7988195-adf7-4dcd-aad8-271a7287f1af",
   "metadata": {},
   "outputs": [],
   "source": [
    "etiq_train = sentiment_df_train.pop('airline_sentiment')\n",
    "etiq_test = datos_test.pop('airline_sentiment')"
   ]
  },
  {
   "cell_type": "code",
   "execution_count": 42,
   "id": "ab563d02-fc5e-45e1-9ac0-e65b3bb18aff",
   "metadata": {},
   "outputs": [
    {
     "data": {
      "text/plain": [
       "191      3\n",
       "10576    3\n",
       "8144     1\n",
       "4665     2\n",
       "2647     2\n",
       "        ..\n",
       "12423    2\n",
       "5972     2\n",
       "8465     2\n",
       "14391    2\n",
       "7900     2\n",
       "Name: airline_sentiment, Length: 5671, dtype: int64"
      ]
     },
     "execution_count": 42,
     "metadata": {},
     "output_type": "execute_result"
    }
   ],
   "source": [
    "etiq_train"
   ]
  },
  {
   "cell_type": "code",
   "execution_count": 43,
   "id": "e1e50a9b-9777-4dbe-bbb6-b164da595f0b",
   "metadata": {},
   "outputs": [
    {
     "data": {
      "text/plain": [
       "11123    3\n",
       "9824     3\n",
       "11322    3\n",
       "10549    3\n",
       "11006    3\n",
       "        ..\n",
       "14318    2\n",
       "14423    2\n",
       "14430    2\n",
       "14529    2\n",
       "14628    2\n",
       "Name: airline_sentiment, Length: 1418, dtype: int64"
      ]
     },
     "execution_count": 43,
     "metadata": {},
     "output_type": "execute_result"
    }
   ],
   "source": [
    "etiq_test"
   ]
  },
  {
   "cell_type": "code",
   "execution_count": 44,
   "id": "c70268fe-9002-48ba-a404-a272602c6eea",
   "metadata": {},
   "outputs": [
    {
     "ename": "ValueError",
     "evalue": "could not convert string to float: 'Eastern Time (US & Canada)'",
     "output_type": "error",
     "traceback": [
      "\u001b[1;31m---------------------------------------------------------------------------\u001b[0m",
      "\u001b[1;31mValueError\u001b[0m                                Traceback (most recent call last)",
      "\u001b[1;32mC:\\Users\\ADMIN-~3\\AppData\\Local\\Temp/ipykernel_15656/3343635901.py\u001b[0m in \u001b[0;36m<module>\u001b[1;34m\u001b[0m\n\u001b[0;32m      4\u001b[0m \u001b[1;32mfrom\u001b[0m \u001b[0msklearn\u001b[0m\u001b[1;33m.\u001b[0m\u001b[0mlinear_model\u001b[0m \u001b[1;32mimport\u001b[0m \u001b[0mLinearRegression\u001b[0m\u001b[1;33m\u001b[0m\u001b[1;33m\u001b[0m\u001b[0m\n\u001b[0;32m      5\u001b[0m \u001b[0mmodelo\u001b[0m \u001b[1;33m=\u001b[0m \u001b[0mLinearRegression\u001b[0m\u001b[1;33m(\u001b[0m\u001b[1;33m)\u001b[0m\u001b[1;33m\u001b[0m\u001b[1;33m\u001b[0m\u001b[0m\n\u001b[1;32m----> 6\u001b[1;33m \u001b[0mmodelo\u001b[0m\u001b[1;33m.\u001b[0m\u001b[0mfit\u001b[0m\u001b[1;33m(\u001b[0m\u001b[0msentiment_df_train\u001b[0m\u001b[1;33m,\u001b[0m\u001b[0metiq_train\u001b[0m\u001b[1;33m)\u001b[0m\u001b[1;33m\u001b[0m\u001b[1;33m\u001b[0m\u001b[0m\n\u001b[0m",
      "\u001b[1;32mC:\\ProgramData\\Anaconda3\\lib\\site-packages\\sklearn\\linear_model\\_base.py\u001b[0m in \u001b[0;36mfit\u001b[1;34m(self, X, y, sample_weight)\u001b[0m\n\u001b[0;32m    660\u001b[0m         \u001b[0maccept_sparse\u001b[0m \u001b[1;33m=\u001b[0m \u001b[1;32mFalse\u001b[0m \u001b[1;32mif\u001b[0m \u001b[0mself\u001b[0m\u001b[1;33m.\u001b[0m\u001b[0mpositive\u001b[0m \u001b[1;32melse\u001b[0m \u001b[1;33m[\u001b[0m\u001b[1;34m\"csr\"\u001b[0m\u001b[1;33m,\u001b[0m \u001b[1;34m\"csc\"\u001b[0m\u001b[1;33m,\u001b[0m \u001b[1;34m\"coo\"\u001b[0m\u001b[1;33m]\u001b[0m\u001b[1;33m\u001b[0m\u001b[1;33m\u001b[0m\u001b[0m\n\u001b[0;32m    661\u001b[0m \u001b[1;33m\u001b[0m\u001b[0m\n\u001b[1;32m--> 662\u001b[1;33m         X, y = self._validate_data(\n\u001b[0m\u001b[0;32m    663\u001b[0m             \u001b[0mX\u001b[0m\u001b[1;33m,\u001b[0m \u001b[0my\u001b[0m\u001b[1;33m,\u001b[0m \u001b[0maccept_sparse\u001b[0m\u001b[1;33m=\u001b[0m\u001b[0maccept_sparse\u001b[0m\u001b[1;33m,\u001b[0m \u001b[0my_numeric\u001b[0m\u001b[1;33m=\u001b[0m\u001b[1;32mTrue\u001b[0m\u001b[1;33m,\u001b[0m \u001b[0mmulti_output\u001b[0m\u001b[1;33m=\u001b[0m\u001b[1;32mTrue\u001b[0m\u001b[1;33m\u001b[0m\u001b[1;33m\u001b[0m\u001b[0m\n\u001b[0;32m    664\u001b[0m         )\n",
      "\u001b[1;32mC:\\ProgramData\\Anaconda3\\lib\\site-packages\\sklearn\\base.py\u001b[0m in \u001b[0;36m_validate_data\u001b[1;34m(self, X, y, reset, validate_separately, **check_params)\u001b[0m\n\u001b[0;32m    579\u001b[0m                 \u001b[0my\u001b[0m \u001b[1;33m=\u001b[0m \u001b[0mcheck_array\u001b[0m\u001b[1;33m(\u001b[0m\u001b[0my\u001b[0m\u001b[1;33m,\u001b[0m \u001b[1;33m**\u001b[0m\u001b[0mcheck_y_params\u001b[0m\u001b[1;33m)\u001b[0m\u001b[1;33m\u001b[0m\u001b[1;33m\u001b[0m\u001b[0m\n\u001b[0;32m    580\u001b[0m             \u001b[1;32melse\u001b[0m\u001b[1;33m:\u001b[0m\u001b[1;33m\u001b[0m\u001b[1;33m\u001b[0m\u001b[0m\n\u001b[1;32m--> 581\u001b[1;33m                 \u001b[0mX\u001b[0m\u001b[1;33m,\u001b[0m \u001b[0my\u001b[0m \u001b[1;33m=\u001b[0m \u001b[0mcheck_X_y\u001b[0m\u001b[1;33m(\u001b[0m\u001b[0mX\u001b[0m\u001b[1;33m,\u001b[0m \u001b[0my\u001b[0m\u001b[1;33m,\u001b[0m \u001b[1;33m**\u001b[0m\u001b[0mcheck_params\u001b[0m\u001b[1;33m)\u001b[0m\u001b[1;33m\u001b[0m\u001b[1;33m\u001b[0m\u001b[0m\n\u001b[0m\u001b[0;32m    582\u001b[0m             \u001b[0mout\u001b[0m \u001b[1;33m=\u001b[0m \u001b[0mX\u001b[0m\u001b[1;33m,\u001b[0m \u001b[0my\u001b[0m\u001b[1;33m\u001b[0m\u001b[1;33m\u001b[0m\u001b[0m\n\u001b[0;32m    583\u001b[0m \u001b[1;33m\u001b[0m\u001b[0m\n",
      "\u001b[1;32mC:\\ProgramData\\Anaconda3\\lib\\site-packages\\sklearn\\utils\\validation.py\u001b[0m in \u001b[0;36mcheck_X_y\u001b[1;34m(X, y, accept_sparse, accept_large_sparse, dtype, order, copy, force_all_finite, ensure_2d, allow_nd, multi_output, ensure_min_samples, ensure_min_features, y_numeric, estimator)\u001b[0m\n\u001b[0;32m    962\u001b[0m         \u001b[1;32mraise\u001b[0m \u001b[0mValueError\u001b[0m\u001b[1;33m(\u001b[0m\u001b[1;34m\"y cannot be None\"\u001b[0m\u001b[1;33m)\u001b[0m\u001b[1;33m\u001b[0m\u001b[1;33m\u001b[0m\u001b[0m\n\u001b[0;32m    963\u001b[0m \u001b[1;33m\u001b[0m\u001b[0m\n\u001b[1;32m--> 964\u001b[1;33m     X = check_array(\n\u001b[0m\u001b[0;32m    965\u001b[0m         \u001b[0mX\u001b[0m\u001b[1;33m,\u001b[0m\u001b[1;33m\u001b[0m\u001b[1;33m\u001b[0m\u001b[0m\n\u001b[0;32m    966\u001b[0m         \u001b[0maccept_sparse\u001b[0m\u001b[1;33m=\u001b[0m\u001b[0maccept_sparse\u001b[0m\u001b[1;33m,\u001b[0m\u001b[1;33m\u001b[0m\u001b[1;33m\u001b[0m\u001b[0m\n",
      "\u001b[1;32mC:\\ProgramData\\Anaconda3\\lib\\site-packages\\sklearn\\utils\\validation.py\u001b[0m in \u001b[0;36mcheck_array\u001b[1;34m(array, accept_sparse, accept_large_sparse, dtype, order, copy, force_all_finite, ensure_2d, allow_nd, ensure_min_samples, ensure_min_features, estimator)\u001b[0m\n\u001b[0;32m    744\u001b[0m                     \u001b[0marray\u001b[0m \u001b[1;33m=\u001b[0m \u001b[0marray\u001b[0m\u001b[1;33m.\u001b[0m\u001b[0mastype\u001b[0m\u001b[1;33m(\u001b[0m\u001b[0mdtype\u001b[0m\u001b[1;33m,\u001b[0m \u001b[0mcasting\u001b[0m\u001b[1;33m=\u001b[0m\u001b[1;34m\"unsafe\"\u001b[0m\u001b[1;33m,\u001b[0m \u001b[0mcopy\u001b[0m\u001b[1;33m=\u001b[0m\u001b[1;32mFalse\u001b[0m\u001b[1;33m)\u001b[0m\u001b[1;33m\u001b[0m\u001b[1;33m\u001b[0m\u001b[0m\n\u001b[0;32m    745\u001b[0m                 \u001b[1;32melse\u001b[0m\u001b[1;33m:\u001b[0m\u001b[1;33m\u001b[0m\u001b[1;33m\u001b[0m\u001b[0m\n\u001b[1;32m--> 746\u001b[1;33m                     \u001b[0marray\u001b[0m \u001b[1;33m=\u001b[0m \u001b[0mnp\u001b[0m\u001b[1;33m.\u001b[0m\u001b[0masarray\u001b[0m\u001b[1;33m(\u001b[0m\u001b[0marray\u001b[0m\u001b[1;33m,\u001b[0m \u001b[0morder\u001b[0m\u001b[1;33m=\u001b[0m\u001b[0morder\u001b[0m\u001b[1;33m,\u001b[0m \u001b[0mdtype\u001b[0m\u001b[1;33m=\u001b[0m\u001b[0mdtype\u001b[0m\u001b[1;33m)\u001b[0m\u001b[1;33m\u001b[0m\u001b[1;33m\u001b[0m\u001b[0m\n\u001b[0m\u001b[0;32m    747\u001b[0m             \u001b[1;32mexcept\u001b[0m \u001b[0mComplexWarning\u001b[0m \u001b[1;32mas\u001b[0m \u001b[0mcomplex_warning\u001b[0m\u001b[1;33m:\u001b[0m\u001b[1;33m\u001b[0m\u001b[1;33m\u001b[0m\u001b[0m\n\u001b[0;32m    748\u001b[0m                 raise ValueError(\n",
      "\u001b[1;32mC:\\ProgramData\\Anaconda3\\lib\\site-packages\\numpy\\core\\_asarray.py\u001b[0m in \u001b[0;36masarray\u001b[1;34m(a, dtype, order, like)\u001b[0m\n\u001b[0;32m    100\u001b[0m         \u001b[1;32mreturn\u001b[0m \u001b[0m_asarray_with_like\u001b[0m\u001b[1;33m(\u001b[0m\u001b[0ma\u001b[0m\u001b[1;33m,\u001b[0m \u001b[0mdtype\u001b[0m\u001b[1;33m=\u001b[0m\u001b[0mdtype\u001b[0m\u001b[1;33m,\u001b[0m \u001b[0morder\u001b[0m\u001b[1;33m=\u001b[0m\u001b[0morder\u001b[0m\u001b[1;33m,\u001b[0m \u001b[0mlike\u001b[0m\u001b[1;33m=\u001b[0m\u001b[0mlike\u001b[0m\u001b[1;33m)\u001b[0m\u001b[1;33m\u001b[0m\u001b[1;33m\u001b[0m\u001b[0m\n\u001b[0;32m    101\u001b[0m \u001b[1;33m\u001b[0m\u001b[0m\n\u001b[1;32m--> 102\u001b[1;33m     \u001b[1;32mreturn\u001b[0m \u001b[0marray\u001b[0m\u001b[1;33m(\u001b[0m\u001b[0ma\u001b[0m\u001b[1;33m,\u001b[0m \u001b[0mdtype\u001b[0m\u001b[1;33m,\u001b[0m \u001b[0mcopy\u001b[0m\u001b[1;33m=\u001b[0m\u001b[1;32mFalse\u001b[0m\u001b[1;33m,\u001b[0m \u001b[0morder\u001b[0m\u001b[1;33m=\u001b[0m\u001b[0morder\u001b[0m\u001b[1;33m)\u001b[0m\u001b[1;33m\u001b[0m\u001b[1;33m\u001b[0m\u001b[0m\n\u001b[0m\u001b[0;32m    103\u001b[0m \u001b[1;33m\u001b[0m\u001b[0m\n\u001b[0;32m    104\u001b[0m \u001b[1;33m\u001b[0m\u001b[0m\n",
      "\u001b[1;32mC:\\ProgramData\\Anaconda3\\lib\\site-packages\\pandas\\core\\generic.py\u001b[0m in \u001b[0;36m__array__\u001b[1;34m(self, dtype)\u001b[0m\n\u001b[0;32m   1991\u001b[0m \u001b[1;33m\u001b[0m\u001b[0m\n\u001b[0;32m   1992\u001b[0m     \u001b[1;32mdef\u001b[0m \u001b[0m__array__\u001b[0m\u001b[1;33m(\u001b[0m\u001b[0mself\u001b[0m\u001b[1;33m,\u001b[0m \u001b[0mdtype\u001b[0m\u001b[1;33m:\u001b[0m \u001b[0mNpDtype\u001b[0m \u001b[1;33m|\u001b[0m \u001b[1;32mNone\u001b[0m \u001b[1;33m=\u001b[0m \u001b[1;32mNone\u001b[0m\u001b[1;33m)\u001b[0m \u001b[1;33m->\u001b[0m \u001b[0mnp\u001b[0m\u001b[1;33m.\u001b[0m\u001b[0mndarray\u001b[0m\u001b[1;33m:\u001b[0m\u001b[1;33m\u001b[0m\u001b[1;33m\u001b[0m\u001b[0m\n\u001b[1;32m-> 1993\u001b[1;33m         \u001b[1;32mreturn\u001b[0m \u001b[0mnp\u001b[0m\u001b[1;33m.\u001b[0m\u001b[0masarray\u001b[0m\u001b[1;33m(\u001b[0m\u001b[0mself\u001b[0m\u001b[1;33m.\u001b[0m\u001b[0m_values\u001b[0m\u001b[1;33m,\u001b[0m \u001b[0mdtype\u001b[0m\u001b[1;33m=\u001b[0m\u001b[0mdtype\u001b[0m\u001b[1;33m)\u001b[0m\u001b[1;33m\u001b[0m\u001b[1;33m\u001b[0m\u001b[0m\n\u001b[0m\u001b[0;32m   1994\u001b[0m \u001b[1;33m\u001b[0m\u001b[0m\n\u001b[0;32m   1995\u001b[0m     def __array_wrap__(\n",
      "\u001b[1;32mC:\\ProgramData\\Anaconda3\\lib\\site-packages\\numpy\\core\\_asarray.py\u001b[0m in \u001b[0;36masarray\u001b[1;34m(a, dtype, order, like)\u001b[0m\n\u001b[0;32m    100\u001b[0m         \u001b[1;32mreturn\u001b[0m \u001b[0m_asarray_with_like\u001b[0m\u001b[1;33m(\u001b[0m\u001b[0ma\u001b[0m\u001b[1;33m,\u001b[0m \u001b[0mdtype\u001b[0m\u001b[1;33m=\u001b[0m\u001b[0mdtype\u001b[0m\u001b[1;33m,\u001b[0m \u001b[0morder\u001b[0m\u001b[1;33m=\u001b[0m\u001b[0morder\u001b[0m\u001b[1;33m,\u001b[0m \u001b[0mlike\u001b[0m\u001b[1;33m=\u001b[0m\u001b[0mlike\u001b[0m\u001b[1;33m)\u001b[0m\u001b[1;33m\u001b[0m\u001b[1;33m\u001b[0m\u001b[0m\n\u001b[0;32m    101\u001b[0m \u001b[1;33m\u001b[0m\u001b[0m\n\u001b[1;32m--> 102\u001b[1;33m     \u001b[1;32mreturn\u001b[0m \u001b[0marray\u001b[0m\u001b[1;33m(\u001b[0m\u001b[0ma\u001b[0m\u001b[1;33m,\u001b[0m \u001b[0mdtype\u001b[0m\u001b[1;33m,\u001b[0m \u001b[0mcopy\u001b[0m\u001b[1;33m=\u001b[0m\u001b[1;32mFalse\u001b[0m\u001b[1;33m,\u001b[0m \u001b[0morder\u001b[0m\u001b[1;33m=\u001b[0m\u001b[0morder\u001b[0m\u001b[1;33m)\u001b[0m\u001b[1;33m\u001b[0m\u001b[1;33m\u001b[0m\u001b[0m\n\u001b[0m\u001b[0;32m    103\u001b[0m \u001b[1;33m\u001b[0m\u001b[0m\n\u001b[0;32m    104\u001b[0m \u001b[1;33m\u001b[0m\u001b[0m\n",
      "\u001b[1;31mValueError\u001b[0m: could not convert string to float: 'Eastern Time (US & Canada)'"
     ]
    }
   ],
   "source": [
    "#Regresion lineal \n",
    "# To be able to apply a linear regression, it is not possible to have the test field in the data set. For this reason, this data set is a text mining problem.\n",
    "# If we want to apply the linear regression model, it is necessary to eliminate the data set from the text column.\n",
    "from sklearn.linear_model import LinearRegression\n",
    "modelo = LinearRegression()\n",
    "modelo.fit(sentiment_df_train,etiq_train)"
   ]
  },
  {
   "cell_type": "code",
   "execution_count": 45,
   "id": "2c2b3047-1191-40b2-9a54-5e6495185efd",
   "metadata": {},
   "outputs": [],
   "source": [
    "new_sentiment_df = df_Tweets[['airline_sentiment', 'airline']].copy()"
   ]
  },
  {
   "cell_type": "code",
   "execution_count": 46,
   "id": "be0aa604-d71f-4c3d-a7df-f0805746933b",
   "metadata": {},
   "outputs": [
    {
     "data": {
      "text/html": [
       "<div>\n",
       "<style scoped>\n",
       "    .dataframe tbody tr th:only-of-type {\n",
       "        vertical-align: middle;\n",
       "    }\n",
       "\n",
       "    .dataframe tbody tr th {\n",
       "        vertical-align: top;\n",
       "    }\n",
       "\n",
       "    .dataframe thead th {\n",
       "        text-align: right;\n",
       "    }\n",
       "</style>\n",
       "<table border=\"1\" class=\"dataframe\">\n",
       "  <thead>\n",
       "    <tr style=\"text-align: right;\">\n",
       "      <th></th>\n",
       "      <th>airline_sentiment</th>\n",
       "      <th>airline</th>\n",
       "    </tr>\n",
       "  </thead>\n",
       "  <tbody>\n",
       "    <tr>\n",
       "      <th>11123</th>\n",
       "      <td>3</td>\n",
       "      <td>1</td>\n",
       "    </tr>\n",
       "    <tr>\n",
       "      <th>6225</th>\n",
       "      <td>3</td>\n",
       "      <td>3</td>\n",
       "    </tr>\n",
       "    <tr>\n",
       "      <th>5154</th>\n",
       "      <td>3</td>\n",
       "      <td>3</td>\n",
       "    </tr>\n",
       "    <tr>\n",
       "      <th>6557</th>\n",
       "      <td>3</td>\n",
       "      <td>3</td>\n",
       "    </tr>\n",
       "    <tr>\n",
       "      <th>9950</th>\n",
       "      <td>3</td>\n",
       "      <td>1</td>\n",
       "    </tr>\n",
       "  </tbody>\n",
       "</table>\n",
       "</div>"
      ],
      "text/plain": [
       "       airline_sentiment  airline\n",
       "11123                  3        1\n",
       "6225                   3        3\n",
       "5154                   3        3\n",
       "6557                   3        3\n",
       "9950                   3        1"
      ]
     },
     "execution_count": 46,
     "metadata": {},
     "output_type": "execute_result"
    }
   ],
   "source": [
    "new_sentiment_df.head(5)"
   ]
  },
  {
   "cell_type": "code",
   "execution_count": 47,
   "id": "b9310a3a-dd53-45c2-bd49-de96ad59aa72",
   "metadata": {},
   "outputs": [],
   "source": [
    "# Separate the data for sample (80%) y test (20%)"
   ]
  },
  {
   "cell_type": "code",
   "execution_count": 48,
   "id": "b63a2da2-61f2-4b7b-8d56-2cc474fab118",
   "metadata": {},
   "outputs": [],
   "source": [
    "df_train = new_sentiment_df.sample(frac=0.8,random_state=0)\n",
    "df_test = new_sentiment_df.drop(df_train.index)"
   ]
  },
  {
   "cell_type": "code",
   "execution_count": 49,
   "id": "27ec21b2-8004-4e8a-9800-1dcbcc43843f",
   "metadata": {},
   "outputs": [
    {
     "data": {
      "text/html": [
       "<div>\n",
       "<style scoped>\n",
       "    .dataframe tbody tr th:only-of-type {\n",
       "        vertical-align: middle;\n",
       "    }\n",
       "\n",
       "    .dataframe tbody tr th {\n",
       "        vertical-align: top;\n",
       "    }\n",
       "\n",
       "    .dataframe thead th {\n",
       "        text-align: right;\n",
       "    }\n",
       "</style>\n",
       "<table border=\"1\" class=\"dataframe\">\n",
       "  <thead>\n",
       "    <tr style=\"text-align: right;\">\n",
       "      <th></th>\n",
       "      <th>airline_sentiment</th>\n",
       "      <th>airline</th>\n",
       "    </tr>\n",
       "  </thead>\n",
       "  <tbody>\n",
       "    <tr>\n",
       "      <th>191</th>\n",
       "      <td>3</td>\n",
       "      <td>6</td>\n",
       "    </tr>\n",
       "    <tr>\n",
       "      <th>10576</th>\n",
       "      <td>3</td>\n",
       "      <td>1</td>\n",
       "    </tr>\n",
       "    <tr>\n",
       "      <th>8144</th>\n",
       "      <td>1</td>\n",
       "      <td>5</td>\n",
       "    </tr>\n",
       "    <tr>\n",
       "      <th>4665</th>\n",
       "      <td>2</td>\n",
       "      <td>3</td>\n",
       "    </tr>\n",
       "    <tr>\n",
       "      <th>2647</th>\n",
       "      <td>2</td>\n",
       "      <td>2</td>\n",
       "    </tr>\n",
       "  </tbody>\n",
       "</table>\n",
       "</div>"
      ],
      "text/plain": [
       "       airline_sentiment  airline\n",
       "191                    3        6\n",
       "10576                  3        1\n",
       "8144                   1        5\n",
       "4665                   2        3\n",
       "2647                   2        2"
      ]
     },
     "execution_count": 49,
     "metadata": {},
     "output_type": "execute_result"
    }
   ],
   "source": [
    "df_train.head(5)"
   ]
  },
  {
   "cell_type": "code",
   "execution_count": 50,
   "id": "6fdfb76a-6b7f-469c-8221-77c3dcaedb94",
   "metadata": {},
   "outputs": [
    {
     "data": {
      "text/html": [
       "<div>\n",
       "<style scoped>\n",
       "    .dataframe tbody tr th:only-of-type {\n",
       "        vertical-align: middle;\n",
       "    }\n",
       "\n",
       "    .dataframe tbody tr th {\n",
       "        vertical-align: top;\n",
       "    }\n",
       "\n",
       "    .dataframe thead th {\n",
       "        text-align: right;\n",
       "    }\n",
       "</style>\n",
       "<table border=\"1\" class=\"dataframe\">\n",
       "  <thead>\n",
       "    <tr style=\"text-align: right;\">\n",
       "      <th></th>\n",
       "      <th>airline_sentiment</th>\n",
       "      <th>airline</th>\n",
       "    </tr>\n",
       "  </thead>\n",
       "  <tbody>\n",
       "    <tr>\n",
       "      <th>11123</th>\n",
       "      <td>3</td>\n",
       "      <td>1</td>\n",
       "    </tr>\n",
       "    <tr>\n",
       "      <th>9824</th>\n",
       "      <td>3</td>\n",
       "      <td>1</td>\n",
       "    </tr>\n",
       "    <tr>\n",
       "      <th>11322</th>\n",
       "      <td>3</td>\n",
       "      <td>1</td>\n",
       "    </tr>\n",
       "    <tr>\n",
       "      <th>10549</th>\n",
       "      <td>3</td>\n",
       "      <td>1</td>\n",
       "    </tr>\n",
       "    <tr>\n",
       "      <th>11006</th>\n",
       "      <td>3</td>\n",
       "      <td>1</td>\n",
       "    </tr>\n",
       "  </tbody>\n",
       "</table>\n",
       "</div>"
      ],
      "text/plain": [
       "       airline_sentiment  airline\n",
       "11123                  3        1\n",
       "9824                   3        1\n",
       "11322                  3        1\n",
       "10549                  3        1\n",
       "11006                  3        1"
      ]
     },
     "execution_count": 50,
     "metadata": {},
     "output_type": "execute_result"
    }
   ],
   "source": [
    "df_test.head(5)"
   ]
  },
  {
   "cell_type": "code",
   "execution_count": 51,
   "id": "533be9da-0f2f-4ba9-8466-8aa55e2073a6",
   "metadata": {},
   "outputs": [],
   "source": [
    "etiq_train = df_train.pop('airline_sentiment')\n",
    "etiq_test = df_test.pop('airline_sentiment')"
   ]
  },
  {
   "cell_type": "code",
   "execution_count": 52,
   "id": "6f2f66ca-f8b9-46da-b7e3-356a61d611b7",
   "metadata": {},
   "outputs": [
    {
     "data": {
      "text/plain": [
       "191      3\n",
       "10576    3\n",
       "8144     1\n",
       "4665     2\n",
       "2647     2\n",
       "        ..\n",
       "12423    2\n",
       "5972     2\n",
       "8465     2\n",
       "14391    2\n",
       "7900     2\n",
       "Name: airline_sentiment, Length: 5671, dtype: int64"
      ]
     },
     "execution_count": 52,
     "metadata": {},
     "output_type": "execute_result"
    }
   ],
   "source": [
    "etiq_train"
   ]
  },
  {
   "cell_type": "code",
   "execution_count": 53,
   "id": "26b969c0-3d44-4dde-b27e-2471e1235224",
   "metadata": {},
   "outputs": [
    {
     "data": {
      "text/plain": [
       "11123    3\n",
       "9824     3\n",
       "11322    3\n",
       "10549    3\n",
       "11006    3\n",
       "        ..\n",
       "14318    2\n",
       "14423    2\n",
       "14430    2\n",
       "14529    2\n",
       "14628    2\n",
       "Name: airline_sentiment, Length: 1418, dtype: int64"
      ]
     },
     "execution_count": 53,
     "metadata": {},
     "output_type": "execute_result"
    }
   ],
   "source": [
    "etiq_test"
   ]
  },
  {
   "cell_type": "code",
   "execution_count": 54,
   "id": "4c29f5e9-8a2a-4754-8208-34677402db2b",
   "metadata": {},
   "outputs": [
    {
     "data": {
      "text/plain": [
       "LinearRegression()"
      ]
     },
     "execution_count": 54,
     "metadata": {},
     "output_type": "execute_result"
    }
   ],
   "source": [
    "#train model \n",
    "from sklearn.linear_model import LinearRegression\n",
    "modelo = LinearRegression()\n",
    "modelo.fit(df_train,etiq_train)"
   ]
  },
  {
   "cell_type": "code",
   "execution_count": 55,
   "id": "5f261cc3-91a0-4918-bb00-2cc77bbb23e8",
   "metadata": {},
   "outputs": [],
   "source": [
    "df_predi = modelo.predict(df_test)"
   ]
  },
  {
   "cell_type": "code",
   "execution_count": 56,
   "id": "63bff77c-eeb1-4121-a906-8b1020b64951",
   "metadata": {},
   "outputs": [
    {
     "name": "stdout",
     "output_type": "stream",
     "text": [
      "Error porcentual : 80.102852\n"
     ]
    }
   ],
   "source": [
    "import numpy as np\n",
    "from sklearn.metrics import mean_squared_error\n",
    "error = np.sqrt(mean_squared_error(etiq_test, df_predi))\n",
    "print(\"Error porcentual : %f\" % (error*100))"
   ]
  },
  {
   "cell_type": "markdown",
   "id": "3572bd2b-ef5c-45ed-abb8-e55cac689264",
   "metadata": {},
   "source": [
    " <font color='blue'>\n",
    "When analyzing this data in this way, our model would have percentage errors of 80%, but this leads us to the fact that it is not possible to analyze the data set according to the problem presented in this way, since this problem is not a regression problem. since the numerical data did not give us a result that we can evaluate, that is why we must work on data mining and association analysis\n"
   ]
  },
  {
   "cell_type": "markdown",
   "id": "87e168b2",
   "metadata": {},
   "source": [
    "<font color='red'>\n",
    "Feedback: \n",
    "    \n",
    "In the analysis, class imbalance is identified, missing values are checked for the features/instances. The argument concerning the data mining task (classification/regression) is satisfactory. Charts are well used to support the analysis. \n",
    "    \n",
    "</font>"
   ]
  },
  {
   "cell_type": "markdown",
   "id": "3cdea0f2-80f2-441c-8d84-a2f2e24dd7a3",
   "metadata": {},
   "source": [
    "# Question 3. Data analysis Part 1.\n",
    "    If you have an association rule mining problem:\n",
    "        a. Explain all the steps needed in the analysis.\n",
    "        b. Explain the meaning of the found itemsets.\n",
    "        c. Select one of the categorical variables in the dataset and apply a classification algorithm of your choice selected from those studied in the course. Report the confusion matrix obtained and    explain the result. Alternatively, take a subset of the continuous attributes in your data set and apply a clustering algorithm, explaining the results. Provide the Python Code.\n",
    "    If you have a text mining problem:\n",
    "        a. Add a label to the documents groups you have been provided and explain why you selected those labels.\n",
    "        b. Apply the word to vector necessary transformations (stop word removal, tokenization, TF-IDF, word frequencies…) . Explain your selection. Provide the Python code.\n",
    "        c. Apply a classification or a clustering algorithm, then highlight the results in your own words. Provide the Python code.\n",
    "        \n",
    "  <font color='blue'>       \n",
    "  The answers in this session are throughout the document where we make it clear that it is an association and data mining problem, where we tried to apply regression techniques and other models to really determine what kind of problem it was.\n",
    "For this data set we have categorical variables that were positive, neutral and negative, for this data set we apply several data visualization techniques with python to be able to carry out an exploratory analysis that will lead us to build an adequate model to obtain the expected results, we also found that the data set was not balanced because we had a class with too much information and we mitigated this by using the smote technique.\n",
    "    \n",
    "we do not add new labels since for the exploratory analysis we determined not to create new labels"
   ]
  },
  {
   "cell_type": "markdown",
   "id": "1c4574cc-8dec-4d37-ad7d-f6df7b5937a6",
   "metadata": {
    "tags": []
   },
   "source": [
    "# TEXT PREPROCESSING AND CLEANING"
   ]
  },
  {
   "cell_type": "code",
   "execution_count": 57,
   "id": "38724f36-d59b-463f-ade7-e9078453f178",
   "metadata": {},
   "outputs": [],
   "source": [
    "df_Tweets_news= pd.read_csv(\"Tweets.csv\")"
   ]
  },
  {
   "cell_type": "code",
   "execution_count": 58,
   "id": "a9230020-6ead-457f-bc4d-4ffaef5f8bb5",
   "metadata": {},
   "outputs": [],
   "source": [
    "# Split text of Sentiments    \n",
    "positive = df_Tweets_news[df_Tweets_news['airline_sentiment'] == 'positive'].text\n",
    "neutral  = df_Tweets_news[df_Tweets_news['airline_sentiment'] == 'neutral'].text\n",
    "negative  = df_Tweets_news[df_Tweets_news['airline_sentiment'] == 'negative'].text"
   ]
  },
  {
   "cell_type": "code",
   "execution_count": 59,
   "id": "b9099d74-69dc-4bdc-b08d-08d0c1f746f5",
   "metadata": {},
   "outputs": [],
   "source": [
    "# convert Sentiments to 0,1,2\n",
    "def convert_Sentiment(sentiment):\n",
    "    if  sentiment == \"positive\":\n",
    "        return 2\n",
    "    elif sentiment == \"neutral\":\n",
    "        return 1\n",
    "    elif sentiment == \"negative\":\n",
    "        return 0"
   ]
  },
  {
   "cell_type": "code",
   "execution_count": 60,
   "id": "c1682f6b-5a56-49d6-a6de-92e16df4e498",
   "metadata": {
    "tags": []
   },
   "outputs": [],
   "source": [
    "# Apply convert_Sentiment function\n",
    "df_Tweets_news.airline_sentiment = df_Tweets_news.airline_sentiment.apply(lambda x : convert_Sentiment(x))"
   ]
  },
  {
   "cell_type": "code",
   "execution_count": 61,
   "id": "e82e311f-9605-44c4-be3a-7235b18527e4",
   "metadata": {},
   "outputs": [
    {
     "data": {
      "text/plain": [
       "0        1\n",
       "1        2\n",
       "2        1\n",
       "3        0\n",
       "4        0\n",
       "        ..\n",
       "14635    2\n",
       "14636    0\n",
       "14637    1\n",
       "14638    0\n",
       "14639    1\n",
       "Name: airline_sentiment, Length: 14640, dtype: int64"
      ]
     },
     "execution_count": 61,
     "metadata": {},
     "output_type": "execute_result"
    }
   ],
   "source": [
    "df_Tweets_news.airline_sentiment"
   ]
  },
  {
   "cell_type": "code",
   "execution_count": 62,
   "id": "86571c79-135a-4bae-9fc7-99397d700b0d",
   "metadata": {},
   "outputs": [],
   "source": [
    "# Remove stop words\n",
    "def remove_stopwords(text):\n",
    "    text = ' '.join([word for word in text.split() if word not in (stopwords.words('english'))])\n",
    "    return text\n",
    "\n",
    "# Remove url  \n",
    "def remove_url(text):\n",
    "    url = re.compile(r'https?://\\S+|www\\.\\S+')\n",
    "    return url.sub(r'',text)\n",
    "\n",
    "# Remove punct\n",
    "def remove_punct(text):\n",
    "    table = str.maketrans('', '', string.punctuation)\n",
    "    return text.translate(table)\n",
    "\n",
    "# Remove html \n",
    "def remove_html(text):\n",
    "    html=re.compile(r'<.*?>')\n",
    "    return html.sub(r'',text)\n",
    "\n",
    "# Remove @username\n",
    "def remove_username(text):\n",
    "    return re.sub('@[^\\s]+','',text)\n",
    "\n",
    "# Remove emojis\n",
    "def remove_emoji(text):\n",
    "    emoji_pattern = re.compile(\"[\"\n",
    "                           u\"\\U0001F600-\\U0001F64F\"  # emoticons\n",
    "                           u\"\\U0001F300-\\U0001F5FF\"  # symbols & pictographs\n",
    "                           u\"\\U0001F680-\\U0001F6FF\"  # transport & map symbols\n",
    "                           u\"\\U0001F1E0-\\U0001F1FF\"  # flags (iOS)\n",
    "                           u\"\\U00002702-\\U000027B0\"\n",
    "                           u\"\\U000024C2-\\U0001F251\"\n",
    "                           \"]+\", flags=re.UNICODE)\n",
    "    return emoji_pattern.sub(r'', text)\n",
    "\n",
    "\n",
    "# Decontraction text\n",
    "def decontraction(text):\n",
    "    text = re.sub(r\"won\\'t\", \" will not\", text)\n",
    "    text = re.sub(r\"won\\'t've\", \" will not have\", text)\n",
    "    text = re.sub(r\"can\\'t\", \" can not\", text)\n",
    "    text = re.sub(r\"don\\'t\", \" do not\", text)\n",
    "    \n",
    "    text = re.sub(r\"can\\'t've\", \" can not have\", text)\n",
    "    text = re.sub(r\"ma\\'am\", \" madam\", text)\n",
    "    text = re.sub(r\"let\\'s\", \" let us\", text)\n",
    "    text = re.sub(r\"ain\\'t\", \" am not\", text)\n",
    "    text = re.sub(r\"shan\\'t\", \" shall not\", text)\n",
    "    text = re.sub(r\"sha\\n't\", \" shall not\", text)\n",
    "    text = re.sub(r\"o\\'clock\", \" of the clock\", text)\n",
    "    text = re.sub(r\"y\\'all\", \" you all\", text)\n",
    "    text = re.sub(r\"n\\'t\", \" not\", text)\n",
    "    text = re.sub(r\"n\\'t've\", \" not have\", text)\n",
    "    text = re.sub(r\"\\'re\", \" are\", text)\n",
    "    text = re.sub(r\"\\'s\", \" is\", text)\n",
    "    text = re.sub(r\"\\'d\", \" would\", text)\n",
    "    text = re.sub(r\"\\'d've\", \" would have\", text)\n",
    "    text = re.sub(r\"\\'ll\", \" will\", text)\n",
    "    text = re.sub(r\"\\'ll've\", \" will have\", text)\n",
    "    text = re.sub(r\"\\'t\", \" not\", text)\n",
    "    text = re.sub(r\"\\'ve\", \" have\", text)\n",
    "    text = re.sub(r\"\\'m\", \" am\", text)\n",
    "    text = re.sub(r\"\\'re\", \" are\", text)\n",
    "    return text  \n",
    "\n",
    "# Seperate alphanumeric\n",
    "def seperate_alphanumeric(text):\n",
    "    words = text\n",
    "    words = re.findall(r\"[^\\W\\d_]+|\\d+\", words)\n",
    "    return \" \".join(words)\n",
    "\n",
    "def cont_rep_char(text):\n",
    "    tchr = text.group(0) \n",
    "    \n",
    "    if len(tchr) > 1:\n",
    "        return tchr[0:2] \n",
    "\n",
    "def unique_char(rep, text):\n",
    "    substitute = re.sub(r'(\\w)\\1+', rep, text)\n",
    "    return substitute\n",
    "\n",
    "def char(text):\n",
    "    substitute = re.sub(r'[^a-zA-Z]',' ',text)\n",
    "    return substitute\n",
    "\n",
    "# combaine negative reason with  tweet (if exsist)\n",
    "df_Tweets_news['final_text'] = df_Tweets_news['negativereason'].fillna('') + ' ' + df_Tweets_news['text'] \n",
    "\n",
    "\n",
    "# Apply functions on tweets\n",
    "df_Tweets_news['final_text'] = df_Tweets_news['final_text'].apply(lambda x : remove_username(x))\n",
    "df_Tweets_news['final_text'] = df_Tweets_news['final_text'].apply(lambda x : remove_url(x))\n",
    "df_Tweets_news['final_text'] = df_Tweets_news['final_text'].apply(lambda x : remove_emoji(x))\n",
    "df_Tweets_news['final_text'] = df_Tweets_news['final_text'].apply(lambda x : decontraction(x))\n",
    "df_Tweets_news['final_text'] = df_Tweets_news['final_text'].apply(lambda x : seperate_alphanumeric(x))\n",
    "df_Tweets_news['final_text'] = df_Tweets_news['final_text'].apply(lambda x : unique_char(cont_rep_char,x))\n",
    "df_Tweets_news['final_text'] = df_Tweets_news['final_text'].apply(lambda x : char(x))\n",
    "df_Tweets_news['final_text'] = df_Tweets_news['final_text'].apply(lambda x : x.lower())\n",
    "df_Tweets_news['final_text'] = df_Tweets_news['final_text'].apply(lambda x : remove_stopwords(x))"
   ]
  },
  {
   "cell_type": "code",
   "execution_count": 63,
   "id": "a240106d-d268-4f23-8bb3-5ab235c18e80",
   "metadata": {},
   "outputs": [
    {
     "data": {
      "text/plain": [
       "0                                                     said\n",
       "1                  plus added commercials experience tacky\n",
       "2                   today must mean need take another trip\n",
       "3        bad flight really aggressive blast obnoxious e...\n",
       "4                             ca tell really big bad thing\n",
       "                               ...                        \n",
       "14635                   thank got different flight chicago\n",
       "14636    customer service issue leaving minutes late fl...\n",
       "14637            please bring american airlines blackberry\n",
       "14638    customer service issue money change flight ans...\n",
       "14639    ppl need know many seats next flight plz put u...\n",
       "Name: final_text, Length: 14640, dtype: object"
      ]
     },
     "execution_count": 63,
     "metadata": {},
     "output_type": "execute_result"
    }
   ],
   "source": [
    "# result\n",
    "df_Tweets_news['final_text']"
   ]
  },
  {
   "cell_type": "code",
   "execution_count": 64,
   "id": "21a577b1-8855-4ace-8e13-6de212daceb8",
   "metadata": {},
   "outputs": [],
   "source": [
    "X = df_Tweets_news['final_text']\n",
    "y = df_Tweets_news['airline_sentiment']"
   ]
  },
  {
   "cell_type": "code",
   "execution_count": 65,
   "id": "101f5e41-ca3b-4e04-aa9e-84f72fbf1c81",
   "metadata": {
    "tags": []
   },
   "outputs": [],
   "source": [
    "# Apply TFIDF on cleaned tweets\n",
    "tfid = TfidfVectorizer()\n",
    "X_final =  tfid.fit_transform(X)"
   ]
  },
  {
   "cell_type": "markdown",
   "id": "828daeda-ed09-4071-9563-d39740dab360",
   "metadata": {},
   "source": [
    "# HANDLING IMBALANCE "
   ]
  },
  {
   "cell_type": "markdown",
   "id": "4f7da813-8a9f-47f6-9cbf-3c98e0a9eb32",
   "metadata": {},
   "source": [
    " <font color='blue'>\n",
    "to solve the problem of unbalanced classes I am going to use SMOTE is a synthetic minority oversampling statistical technique to increase the number of cases in a data set in a balanced way. The component works by spawning new instances from existing minority cases that are provided as input, this will allow me to handle class imbalance."
   ]
  },
  {
   "cell_type": "code",
   "execution_count": 66,
   "id": "6613a053-a6c7-4bb3-83e6-3e78f52cba6b",
   "metadata": {},
   "outputs": [],
   "source": [
    "# Handling imbalanced using SMOTE\n",
    "smote = SMOTE()\n",
    "x_sm,y_sm = smote.fit_resample(X_final,y)"
   ]
  },
  {
   "cell_type": "code",
   "execution_count": 67,
   "id": "2abd2394-9d77-4af9-aa29-ed8c5df1136c",
   "metadata": {
    "tags": []
   },
   "outputs": [],
   "source": [
    "# Split Data into train & test \n",
    "X_train , X_test , y_train , y_test = train_test_split(x_sm , y_sm , test_size=0.2)"
   ]
  },
  {
   "cell_type": "markdown",
   "id": "02ba5b83-da9c-4ea2-9509-49b8650a52fe",
   "metadata": {},
   "source": [
    "# RandomForest"
   ]
  },
  {
   "cell_type": "code",
   "execution_count": 68,
   "id": "5fa4b40a-ede0-44d7-85e2-fb1dfd3e0ce5",
   "metadata": {},
   "outputs": [
    {
     "data": {
      "text/plain": [
       "RandomForestClassifier()"
      ]
     },
     "execution_count": 68,
     "metadata": {},
     "output_type": "execute_result"
    }
   ],
   "source": [
    "rf = RandomForestClassifier()\n",
    "rf.fit(X_train,y_train)"
   ]
  },
  {
   "cell_type": "code",
   "execution_count": 69,
   "id": "70b7484b-2753-47de-94c8-31d51a737e37",
   "metadata": {},
   "outputs": [],
   "source": [
    "rf_prediction =  rf.predict(X_test)"
   ]
  },
  {
   "cell_type": "code",
   "execution_count": 70,
   "id": "595f5605-d9f9-48f4-a520-c15e1d1efc5c",
   "metadata": {},
   "outputs": [
    {
     "data": {
      "text/plain": [
       "0.9602324314508807"
      ]
     },
     "execution_count": 70,
     "metadata": {},
     "output_type": "execute_result"
    }
   ],
   "source": [
    "accuracy_score(rf_prediction,y_test)"
   ]
  },
  {
   "cell_type": "code",
   "execution_count": 71,
   "id": "8beb92ad-4b56-4a02-b28e-216a9b3a85f6",
   "metadata": {},
   "outputs": [
    {
     "data": {
      "text/plain": [
       "0.9602324314508807"
      ]
     },
     "execution_count": 71,
     "metadata": {},
     "output_type": "execute_result"
    }
   ],
   "source": [
    "accuracy_score(rf_prediction,y_test)"
   ]
  },
  {
   "cell_type": "markdown",
   "id": "bf385a84-7f89-4979-8014-dbc62283435c",
   "metadata": {},
   "source": [
    "# XGBClassifier"
   ]
  },
  {
   "cell_type": "code",
   "execution_count": 75,
   "id": "9ae61fff-4ec0-458a-9f8c-9cdc1ca5f187",
   "metadata": {},
   "outputs": [
    {
     "name": "stdout",
     "output_type": "stream",
     "text": [
      "[20:28:37] WARNING: ..\\src\\learner.cc:1115: Starting in XGBoost 1.3.0, the default evaluation metric used with the objective 'multi:softprob' was changed from 'merror' to 'mlogloss'. Explicitly set eval_metric if you'd like to restore the old behavior.\n"
     ]
    },
    {
     "data": {
      "text/plain": [
       "XGBClassifier(base_score=0.5, booster='gbtree', colsample_bylevel=1,\n",
       "              colsample_bynode=1, colsample_bytree=1, enable_categorical=False,\n",
       "              gamma=0, gpu_id=-1, importance_type=None,\n",
       "              interaction_constraints='', learning_rate=0.300000012,\n",
       "              max_delta_step=0, max_depth=6, min_child_weight=1, missing=nan,\n",
       "              monotone_constraints='()', n_estimators=100, n_jobs=8,\n",
       "              num_parallel_tree=1, objective='multi:softprob', predictor='auto',\n",
       "              random_state=0, reg_alpha=0, reg_lambda=1, scale_pos_weight=None,\n",
       "              subsample=1, tree_method='exact', validate_parameters=1,\n",
       "              verbosity=None)"
      ]
     },
     "execution_count": 75,
     "metadata": {},
     "output_type": "execute_result"
    }
   ],
   "source": [
    "xgb = XGBClassifier()\n",
    "xgb.fit(X_train,y_train)"
   ]
  },
  {
   "cell_type": "code",
   "execution_count": 76,
   "id": "36448c37-a660-44b3-86d3-0236709f867d",
   "metadata": {},
   "outputs": [],
   "source": [
    "xgb_prediction =  xgb.predict(X_test)"
   ]
  },
  {
   "cell_type": "code",
   "execution_count": 77,
   "id": "aa722699-9216-4560-ad46-c5ca1e8352f9",
   "metadata": {},
   "outputs": [
    {
     "data": {
      "text/plain": [
       "0.9177410568367532"
      ]
     },
     "execution_count": 77,
     "metadata": {},
     "output_type": "execute_result"
    }
   ],
   "source": [
    "accuracy_score(xgb_prediction,y_test)"
   ]
  },
  {
   "cell_type": "markdown",
   "id": "f6d4fd8e-0aa4-4a3d-b33d-0644633bf300",
   "metadata": {},
   "source": [
    "# GradientBoostingClassifier"
   ]
  },
  {
   "cell_type": "code",
   "execution_count": 78,
   "id": "9492e204-aeda-4044-90dc-87b420b6d8dd",
   "metadata": {},
   "outputs": [
    {
     "data": {
      "text/plain": [
       "GradientBoostingClassifier()"
      ]
     },
     "execution_count": 78,
     "metadata": {},
     "output_type": "execute_result"
    }
   ],
   "source": [
    "gbc = GradientBoostingClassifier()\n",
    "gbc.fit(X_train,y_train)"
   ]
  },
  {
   "cell_type": "code",
   "execution_count": 79,
   "id": "4fa658c2-a8dd-4492-81c7-0a74ace962f1",
   "metadata": {},
   "outputs": [],
   "source": [
    "gbc_prediction =  gbc.predict(X_test)"
   ]
  },
  {
   "cell_type": "code",
   "execution_count": 80,
   "id": "42a92335-a141-434e-87a9-2dec724cd1a8",
   "metadata": {},
   "outputs": [
    {
     "data": {
      "text/plain": [
       "0.8725258761576176"
      ]
     },
     "execution_count": 80,
     "metadata": {},
     "output_type": "execute_result"
    }
   ],
   "source": [
    "accuracy_score(gbc_prediction,y_test)"
   ]
  },
  {
   "cell_type": "markdown",
   "id": "727e3da2-c78a-4d9a-8a44-cfb5f6a9cf00",
   "metadata": {},
   "source": [
    "# Naive Bayes"
   ]
  },
  {
   "cell_type": "code",
   "execution_count": 84,
   "id": "26591b49-74c5-4d72-9f5d-b326e0299809",
   "metadata": {},
   "outputs": [
    {
     "data": {
      "text/plain": [
       "MultinomialNB()"
      ]
     },
     "execution_count": 84,
     "metadata": {},
     "output_type": "execute_result"
    }
   ],
   "source": [
    "nb = MultinomialNB()\n",
    "nb.fit(X_train,y_train)"
   ]
  },
  {
   "cell_type": "code",
   "execution_count": 85,
   "id": "087f002c-a1f3-4ae3-b498-947d3aeb8279",
   "metadata": {},
   "outputs": [],
   "source": [
    "nb_prediction =  nb.predict(X_test)"
   ]
  },
  {
   "cell_type": "code",
   "execution_count": 86,
   "id": "a14c9942-a92e-4f56-b037-759e50bded69",
   "metadata": {},
   "outputs": [
    {
     "data": {
      "text/plain": [
       "0.8549119302705648"
      ]
     },
     "execution_count": 86,
     "metadata": {},
     "output_type": "execute_result"
    }
   ],
   "source": [
    "accuracy_score(nb_prediction,y_test)"
   ]
  },
  {
   "cell_type": "markdown",
   "id": "1bc2ec99-df67-4afd-b20b-3a8ea8f2af45",
   "metadata": {},
   "source": [
    "# Decision Tree"
   ]
  },
  {
   "cell_type": "code",
   "execution_count": 87,
   "id": "02b29b91-6b92-421e-bd92-f142cb208ecd",
   "metadata": {},
   "outputs": [
    {
     "data": {
      "text/plain": [
       "DecisionTreeClassifier()"
      ]
     },
     "execution_count": 87,
     "metadata": {},
     "output_type": "execute_result"
    }
   ],
   "source": [
    "ds = DecisionTreeClassifier()\n",
    "ds.fit(X_train,y_train)"
   ]
  },
  {
   "cell_type": "code",
   "execution_count": 88,
   "id": "b428c8ad-abd1-4a17-9e3d-ca8182c6d713",
   "metadata": {},
   "outputs": [],
   "source": [
    "ds_prediction =  ds.predict(X_test)"
   ]
  },
  {
   "cell_type": "code",
   "execution_count": 89,
   "id": "ae85bd7d-930e-44e8-8de5-254330b60a12",
   "metadata": {},
   "outputs": [
    {
     "data": {
      "text/plain": [
       "0.9460686399128382"
      ]
     },
     "execution_count": 89,
     "metadata": {},
     "output_type": "execute_result"
    }
   ],
   "source": [
    "accuracy_score(ds_prediction,y_test)"
   ]
  },
  {
   "cell_type": "markdown",
   "id": "d457414d-cde8-4a26-b43a-3fe2fc944ed1",
   "metadata": {},
   "source": [
    "# VISUALIZE MODEL PERFORMENCE"
   ]
  },
  {
   "cell_type": "code",
   "execution_count": 92,
   "id": "9fc5eecc-027a-443a-96f9-a8cc79c23b59",
   "metadata": {},
   "outputs": [],
   "source": [
    "cr = classification_report(y_test, rf_prediction)"
   ]
  },
  {
   "cell_type": "code",
   "execution_count": 93,
   "id": "153d5d5f-a8b0-47cf-96ed-a340fa361fd4",
   "metadata": {},
   "outputs": [
    {
     "name": "stdout",
     "output_type": "stream",
     "text": [
      "Classification Report:\n",
      "----------------------\n",
      "               precision    recall  f1-score   support\n",
      "\n",
      "           0       0.98      1.00      0.99      1815\n",
      "           1       0.95      0.94      0.94      1788\n",
      "           2       0.95      0.94      0.95      1904\n",
      "\n",
      "    accuracy                           0.96      5507\n",
      "   macro avg       0.96      0.96      0.96      5507\n",
      "weighted avg       0.96      0.96      0.96      5507\n",
      "\n"
     ]
    },
    {
     "data": {
      "image/png": "[encoded data removed]",
      "text/plain": [
       "<Figure size 576x432 with 2 Axes>"
      ]
     },
     "metadata": {
      "needs_background": "light"
     },
     "output_type": "display_data"
    }
   ],
   "source": [
    "print(\"Classification Report:\\n----------------------\\n\", cr)\n",
    "\n",
    "cm = confusion_matrix(y_test,rf_prediction)\n",
    "\n",
    "\n",
    "# plot confusion matrix \n",
    "plt.figure(figsize=(8,6))\n",
    "sentiment_classes = ['Negative', 'Neutral', 'Positive']\n",
    "sns.heatmap(cm, cmap=plt.cm.Blues, annot=True, fmt='d', \n",
    "            xticklabels=sentiment_classes,\n",
    "            yticklabels=sentiment_classes)\n",
    "plt.title('Confusion matrix', fontsize=16)\n",
    "plt.xlabel('Actual label', fontsize=12)\n",
    "plt.ylabel('Predicted label', fontsize=12)\n",
    "plt.show()"
   ]
  },
  {
   "cell_type": "markdown",
   "id": "36073e96-9934-4aa8-b198-cdc80b1aae38",
   "metadata": {},
   "source": [
    " <font color='blue'>\n",
    "When applying several models to our data set we can see that depending on the model the accuracy of the data can vary in this case we apply a simple analysis showing in each model its effectiveness, the models used were\n",
    "    \n",
    "--GradientBoostingClassifier\n",
    "--Naïve Bayes\n",
    "--XGBClassifier\n",
    "--RandomForest\n",
    "--Decision Tree\n",
    "    \n",
    "For this case and the data that we wanted to evaluate, all the models have a high level of accuracy since they are all above 80%, the one that is closest to what we need is RandomForest, because this model works well since we can used for regression and classification problems and our data set is a classification problem\n",
    "    \n",
    "    \n",
    "the values of our confusion matrix are found on the main diagonal a = 1751 to i= 1749 this corresponds to the values correctly interpreted by the model both as the true positives TP(d) and the net positive values TN(a)\n",
    "\n",
    "the other diagonal represents all the cases where the model has been wrong in b,c,e,f,g and h\n",
    "\n",
    "If we remember, the accuracy (or «accuracy«) represents the percentage of correct predictions against the total. Therefore, it is the quotient between the cases well classified by the model (true positives and true negatives, that is, the values on the diagonal of the confusion matrix), and the sum of all the cases. gives us an accuracy of 0.95% was calculated as follows\n",
    "(1751+1752+1749)/(1751+1752+1749+7+4+26+102+11+105+5507)=5252/5507 =0.95%"
   ]
  },
  {
   "cell_type": "markdown",
   "id": "127f3b57-f550-4f7b-b8ed-7926157da955",
   "metadata": {
    "tags": []
   },
   "source": [
    "# Tokenization & skylearn for a model with continue input data"
   ]
  },
  {
   "cell_type": "code",
   "execution_count": 94,
   "id": "5c39e198-7604-4fd5-b6a2-e6b5cd543779",
   "metadata": {
    "tags": []
   },
   "outputs": [
    {
     "name": "stdout",
     "output_type": "stream",
     "text": [
      "Requirement already satisfied: nltk in c:\\programdata\\anaconda3\\lib\\site-packages (3.6.5)\n",
      "Requirement already satisfied: click in c:\\programdata\\anaconda3\\lib\\site-packages (from nltk) (8.0.3)\n",
      "Requirement already satisfied: joblib in c:\\programdata\\anaconda3\\lib\\site-packages (from nltk) (1.1.0)\n",
      "Requirement already satisfied: regex>=2021.8.3 in c:\\programdata\\anaconda3\\lib\\site-packages (from nltk) (2021.8.3)\n",
      "Requirement already satisfied: tqdm in c:\\programdata\\anaconda3\\lib\\site-packages (from nltk) (4.62.3)\n",
      "Requirement already satisfied: colorama in c:\\programdata\\anaconda3\\lib\\site-packages (from click->nltk) (0.4.4)\n"
     ]
    }
   ],
   "source": [
    "!pip install nltk"
   ]
  },
  {
   "cell_type": "code",
   "execution_count": 95,
   "id": "d5ff3fd3-3d44-49a4-be1f-b64231964912",
   "metadata": {},
   "outputs": [
    {
     "name": "stderr",
     "output_type": "stream",
     "text": [
      "[nltk_data] Downloading package stopwords to C:\\Users\\Admin-\n",
      "[nltk_data]     edigomez\\AppData\\Roaming\\nltk_data...\n",
      "[nltk_data]   Package stopwords is already up-to-date!\n",
      "[nltk_data] Downloading package punkt to C:\\Users\\Admin-\n",
      "[nltk_data]     edigomez\\AppData\\Roaming\\nltk_data...\n",
      "[nltk_data]   Package punkt is already up-to-date!\n"
     ]
    }
   ],
   "source": [
    "import re\n",
    "import nltk\n",
    "from nltk.corpus import stopwords\n",
    "nltk.download('stopwords')\n",
    "from nltk.tokenize import word_tokenize\n",
    "nltk.download('punkt')\n",
    "\n",
    "def clean_text(d):\n",
    "    pattern = r'[^a-zA-Z\\s]'\n",
    "    text = re.sub(pattern, '', d)\n",
    "    return text\n",
    "\n",
    "names = ['delta', 'deltaair', 'united', 'unitedair', 'southwest', 'southwestair', 'usairways',\n",
    "         'virginamerica', 'american', 'americanair', 'jetblue', 'jetblues', 'usairway',\n",
    "         'flight', 'airline', 'airlines']\n",
    "\n",
    "# In 'Twitter Sentiment Analysis - EDA and ML/DL', the name of airlines are not relevant to the sentiment analysis and added to the list of stop words.\n",
    "# So I followed it.\n",
    "def clean_stopword(d):\n",
    "    stop_words = stopwords.words('english')\n",
    "    for name in names:\n",
    "        stop_words.append(name)\n",
    "    return \" \".join([w.lower() for w in d.split() if w.lower() not in stop_words and len(w) > 1])\n",
    "\n",
    "def tokenize(d):\n",
    "    return word_tokenize(d)"
   ]
  },
  {
   "cell_type": "code",
   "execution_count": 96,
   "id": "de399de7-1224-46c2-ae4f-6d24b26814e8",
   "metadata": {},
   "outputs": [
    {
     "data": {
      "text/plain": [
       "0                                     [dhepburn, said]\n",
       "1    [plus, youve, added, commercials, experience, ...\n",
       "2    [didnt, today, must, mean, need, take, another...\n",
       "3    [really, aggressive, blast, obnoxious, enterta...\n",
       "4                            [really, big, bad, thing]\n",
       "Name: final_text, dtype: object"
      ]
     },
     "execution_count": 96,
     "metadata": {},
     "output_type": "execute_result"
    }
   ],
   "source": [
    "df_Tweets_news['final_text']= df_Tweets_news.text.apply(clean_text).apply(clean_stopword).apply(tokenize)\n",
    "df_Tweets_news.final_text.head()"
   ]
  },
  {
   "cell_type": "code",
   "execution_count": 98,
   "id": "166b040a-8ff1-49eb-b079-58c25b16bbc3",
   "metadata": {},
   "outputs": [
    {
     "name": "stdout",
     "output_type": "stream",
     "text": [
      "dhepburn said \n",
      "\n",
      "plus youve added commercials experience tacky \n",
      "\n",
      "trying add boy prince ressie sf thursday lax httptcogsbjcgm \n",
      "\n",
      "put bag plane seattle waiting line talk someone bag status matter \n",
      "\n",
      "waiting day atl since cancelled flightled standby told seats group shows late gets phl\n"
     ]
    }
   ],
   "source": [
    "print(\" \".join(df_Tweets_news.final_text[0]),'\\n')\n",
    "print(\" \".join(df_Tweets_news.final_text[1]),'\\n')\n",
    "print(\" \".join(df_Tweets_news.final_text[100]),'\\n')\n",
    "print(\" \".join(df_Tweets_news.final_text[1000]),'\\n')\n",
    "print(\" \".join(df_Tweets_news.final_text[10000]))"
   ]
  },
  {
   "cell_type": "markdown",
   "id": "7a871206-38cc-4e05-a8e7-c096d05c6ef7",
   "metadata": {},
   "source": [
    " <font color='blue'>\n",
    "VADER (Valence Aware Dictionary and sEntiment Reasoner) is a lexicon and rule-based sentiment analysis tool that is specifically attuned to sentiments expressed in social media. VADER uses a combination of A sentiment lexicon is a list of lexical features (e.g., words) which are generally labeled according to their semantic orientation as either positive or negative. VADER not only tells about the Positivity and Negativity score but also tells us about how positive or negative a sentiment is."
   ]
  },
  {
   "cell_type": "code",
   "execution_count": 99,
   "id": "dc2a40a0-cef1-40a9-bd93-104e607c851a",
   "metadata": {},
   "outputs": [
    {
     "name": "stderr",
     "output_type": "stream",
     "text": [
      "[nltk_data] Downloading package vader_lexicon to C:\\Users\\Admin-\n",
      "[nltk_data]     edigomez\\AppData\\Roaming\\nltk_data...\n",
      "[nltk_data]   Package vader_lexicon is already up-to-date!\n"
     ]
    },
    {
     "data": {
      "text/plain": [
       "{'neg': 0.0, 'neu': 1.0, 'pos': 0.0, 'compound': 0.0}"
      ]
     },
     "execution_count": 99,
     "metadata": {},
     "output_type": "execute_result"
    }
   ],
   "source": [
    "nltk.download('vader_lexicon')\n",
    "vader = SentimentIntensityAnalyzer()\n",
    "vader.polarity_scores(\" \".join(df_Tweets_news.final_text[0]))"
   ]
  },
  {
   "cell_type": "code",
   "execution_count": 100,
   "id": "43bbcc42-c5c1-44da-88d7-ec07c7588760",
   "metadata": {},
   "outputs": [
    {
     "name": "stdout",
     "output_type": "stream",
     "text": [
      "@VirginAmerica What @dhepburn said.\n",
      "dhepburn said\n",
      "{'neg': 0.0, 'neu': 1.0, 'pos': 0.0, 'compound': 0.0} --> Actual Classification: 1 \n",
      "\n",
      "@VirginAmerica status match program.  I applied and it's been three weeks.  Called and emailed with no response.\n",
      "status match program applied three weeks called emailed response\n",
      "{'neg': 0.0, 'neu': 1.0, 'pos': 0.0, 'compound': 0.0} --> Actual Classification: 0 \n",
      "\n",
      "@united in addition, my first flight was delayed an hour and I'm arriving at my destination 8 hrs Late Flight.\n",
      "addition first delayed hour im arriving destination hrs late\n",
      "{'neg': 0.192, 'neu': 0.808, 'pos': 0.0, 'compound': -0.2263} --> Actual Classification: 0 \n",
      "\n",
      "@SouthwestAir - neveryamind I paid $450 for a flight. 250 for a new bag is easy for business class customers, right? http://t.co/vn3JJIa53O\n",
      "neveryamind paid new bag easy business class customers right httptcovnjjiao\n",
      "{'neg': 0.0, 'neu': 0.756, 'pos': 0.244, 'compound': 0.4404} --> Actual Classification: 0 \n",
      "\n"
     ]
    }
   ],
   "source": [
    "texts = [\" \".join(df_Tweets_news.final_text[i]) for i in range(len(df_Tweets_news))]\n",
    "\n",
    "print(df_Tweets_news.text[0])\n",
    "print(texts[0])\n",
    "print(vader.polarity_scores(texts[0]), f'--> Actual Classification: {df_Tweets_news.airline_sentiment[0]}', '\\n')\n",
    "\n",
    "print(df_Tweets_news.text[25])\n",
    "print(texts[25])\n",
    "print(vader.polarity_scores(texts[25]), f'--> Actual Classification: {df_Tweets_news.airline_sentiment[25]}', '\\n')\n",
    "\n",
    "print(df_Tweets_news.text[575])\n",
    "print(texts[575])\n",
    "print(vader.polarity_scores(texts[575]), f'--> Actual Classification: {df_Tweets_news.airline_sentiment[575]}', '\\n')\n",
    "\n",
    "print(df_Tweets_news.text[5000])\n",
    "print(texts[5000])\n",
    "print(vader.polarity_scores(texts[5000]), f'--> Actual Classification: {df_Tweets_news.airline_sentiment[5000]}', '\\n')"
   ]
  },
  {
   "cell_type": "code",
   "execution_count": 101,
   "id": "56e28fef-f2da-44cc-85aa-7c1dede95b05",
   "metadata": {},
   "outputs": [
    {
     "data": {
      "text/plain": [
       "0                                         [dhepburn, said]\n",
       "1        [plus, youve, added, commercials, experience, ...\n",
       "2        [didnt, today, must, mean, need, take, another...\n",
       "3        [really, aggressive, blast, obnoxious, enterta...\n",
       "4                                [really, big, bad, thing]\n",
       "                               ...                        \n",
       "14635                     [thank, got, different, chicago]\n",
       "14636    [leaving, minutes, late, warnings, communicati...\n",
       "14637                          [please, bring, blackberry]\n",
       "14638    [money, change, dont, answer, phones, suggesti...\n",
       "14639    [ppl, need, know, many, seats, next, plz, put,...\n",
       "Name: final_text, Length: 14640, dtype: object"
      ]
     },
     "execution_count": 101,
     "metadata": {},
     "output_type": "execute_result"
    }
   ],
   "source": [
    "#Finalize text to classify\n",
    "df_Tweets_news.final_text"
   ]
  },
  {
   "cell_type": "code",
   "execution_count": 102,
   "id": "6ce9dea4-81fc-491d-885b-1145020f39d7",
   "metadata": {},
   "outputs": [],
   "source": [
    "for i in range(len(df_Tweets_news)):\n",
    "    df_Tweets_news['final_text'][i] = \" \".join(df_Tweets_news['final_text'][i])"
   ]
  },
  {
   "cell_type": "code",
   "execution_count": 103,
   "id": "18b4cf78-2677-4468-be13-1ec5b497be68",
   "metadata": {},
   "outputs": [
    {
     "data": {
      "text/plain": [
       "0                                        dhepburn said\n",
       "1        plus youve added commercials experience tacky\n",
       "2         didnt today must mean need take another trip\n",
       "3    really aggressive blast obnoxious entertainmen...\n",
       "4                                 really big bad thing\n",
       "5    seriously would pay seats didnt playing really...\n",
       "6    yes nearly every time fly vx ear worm wont go ...\n",
       "7    really missed prime opportunity men without ha...\n",
       "8                                        well didntbut\n",
       "9                amazing arrived hour early youre good\n",
       "Name: final_text, dtype: object"
      ]
     },
     "execution_count": 103,
     "metadata": {},
     "output_type": "execute_result"
    }
   ],
   "source": [
    "df_Tweets_news['final_text'][:10]"
   ]
  },
  {
   "cell_type": "code",
   "execution_count": 105,
   "id": "4b4a1778-6155-4f43-b64a-20c317aa54e6",
   "metadata": {},
   "outputs": [],
   "source": [
    "def convert_Sentiment(sentiment):\n",
    "    if  sentiment == \"positive\":\n",
    "        return 2\n",
    "    elif sentiment == \"neutral\":\n",
    "        return 1\n",
    "    elif sentiment == \"negative\":\n",
    "        return 0\n",
    "    \n",
    "df_Tweets_news.airline_sentiment = df_Tweets_news.airline_sentiment.apply(lambda x : convert_Sentiment(x))"
   ]
  },
  {
   "cell_type": "code",
   "execution_count": 106,
   "id": "03a9a44c-bccc-4cc3-a052-ea303af7fb76",
   "metadata": {},
   "outputs": [],
   "source": [
    "X = df_Tweets_news.final_text\n",
    "y = df_Tweets_news.airline_sentiment"
   ]
  },
  {
   "cell_type": "code",
   "execution_count": 107,
   "id": "27aa706a-8359-41b3-adaa-a2ce8d4fb749",
   "metadata": {},
   "outputs": [
    {
     "data": {
      "text/plain": [
       "0                                     [dhepburn, said]\n",
       "1    [plus, youve, added, commercials, experience, ...\n",
       "2    [didnt, today, must, mean, need, take, another...\n",
       "3    [really, aggressive, blast, obnoxious, enterta...\n",
       "4                            [really, big, bad, thing]\n",
       "Name: final_text, dtype: object"
      ]
     },
     "execution_count": 107,
     "metadata": {},
     "output_type": "execute_result"
    }
   ],
   "source": [
    "df_Tweets_news['final_text']= df_Tweets_news.text.apply(clean_text).apply(clean_stopword).apply(tokenize)\n",
    "df_Tweets_news.final_text.head()"
   ]
  },
  {
   "cell_type": "code",
   "execution_count": 108,
   "id": "67ffadad-fe70-4255-8deb-6afff5358e46",
   "metadata": {},
   "outputs": [
    {
     "name": "stdout",
     "output_type": "stream",
     "text": [
      "dhepburn said \n",
      "\n",
      "plus youve added commercials experience tacky \n",
      "\n",
      "trying add boy prince ressie sf thursday lax httptcogsbjcgm \n",
      "\n",
      "put bag plane seattle waiting line talk someone bag status matter \n",
      "\n",
      "waiting day atl since cancelled flightled standby told seats group shows late gets phl\n"
     ]
    }
   ],
   "source": [
    "print(\" \".join(df_Tweets_news.final_text[0]),'\\n')\n",
    "print(\" \".join(df_Tweets_news.final_text[1]),'\\n')\n",
    "print(\" \".join(df_Tweets_news.final_text[100]),'\\n')\n",
    "print(\" \".join(df_Tweets_news.final_text[1000]),'\\n')\n",
    "print(\" \".join(df_Tweets_news.final_text[10000]))"
   ]
  },
  {
   "cell_type": "markdown",
   "id": "b67c6a17-b6e3-459f-a8a2-557be81ebfe5",
   "metadata": {},
   "source": [
    "Machine Learning approach¶\n",
    "\n",
    "ML approach is also known as Document Classificaton. It uses ML/DL algorithm to classify the text data.\n",
    "\n",
    "The most important in ML approach is to convert the text to the vector or other numeric format to make the algorithms understand the text as a feature.\n",
    "\n",
    "    Vectorization : CountVectorizer, TfidfTransformer, Word2Vec\n",
    "    Model: Logistic Regression, RandomForest, MultinomialNB, SupportVectorMachine, BiLSTM\n"
   ]
  },
  {
   "cell_type": "code",
   "execution_count": 109,
   "id": "e7b99aee-2c3d-40f4-8f2e-0a043654c6c8",
   "metadata": {},
   "outputs": [],
   "source": [
    "from sklearn.model_selection import StratifiedKFold, train_test_split\n",
    "from sklearn.feature_extraction.text import CountVectorizer, TfidfVectorizer\n",
    "from sklearn.linear_model import LogisticRegression\n",
    "from sklearn.ensemble import RandomForestClassifier\n",
    "from sklearn.naive_bayes import MultinomialNB\n",
    "from sklearn.svm import SVC\n",
    "from sklearn.metrics import accuracy_score"
   ]
  },
  {
   "cell_type": "code",
   "execution_count": 113,
   "id": "0d6727c3-e9dd-40e1-8d59-9ff17bc9187f",
   "metadata": {},
   "outputs": [
    {
     "data": {
      "text/plain": [
       "0                                            dhepburn said\n",
       "1            plus youve added commercials experience tacky\n",
       "2             didnt today must mean need take another trip\n",
       "3        really aggressive blast obnoxious entertainmen...\n",
       "4                                     really big bad thing\n",
       "                               ...                        \n",
       "14635                          thank got different chicago\n",
       "14636    leaving minutes late warnings communication mi...\n",
       "14637                              please bring blackberry\n",
       "14638    money change dont answer phones suggestions ma...\n",
       "14639    ppl need know many seats next plz put us stand...\n",
       "Name: final_text, Length: 14640, dtype: object"
      ]
     },
     "execution_count": 113,
     "metadata": {},
     "output_type": "execute_result"
    }
   ],
   "source": [
    "df_Tweets_news.final_text"
   ]
  },
  {
   "cell_type": "code",
   "execution_count": 114,
   "id": "32e905fa-b1d6-4666-8a1b-8053015692e8",
   "metadata": {},
   "outputs": [],
   "source": [
    "for i in range(len(df_Tweets_news)):\n",
    "    df_Tweets_news['final_text'][i] = \" \".join(df_Tweets_news['final_text'][i])"
   ]
  },
  {
   "cell_type": "code",
   "execution_count": 115,
   "id": "44653737-769d-4a46-95ff-838716b9b0df",
   "metadata": {
    "scrolled": false
   },
   "outputs": [
    {
     "data": {
      "text/plain": [
       "0                            d h e p b u r n   s a i d\n",
       "1    p l u s   y o u v e   a d d e d   c o m m e r ...\n",
       "2    d i d n t   t o d a y   m u s t   m e a n   n ...\n",
       "3    r e a l l y   a g g r e s s i v e   b l a s t ...\n",
       "4              r e a l l y   b i g   b a d   t h i n g\n",
       "5    s e r i o u s l y   w o u l d   p a y   s e a ...\n",
       "6    y e s   n e a r l y   e v e r y   t i m e   f ...\n",
       "7    r e a l l y   m i s s e d   p r i m e   o p p ...\n",
       "8                            w e l l   d i d n t b u t\n",
       "9    a m a z i n g   a r r i v e d   h o u r   e a ...\n",
       "Name: final_text, dtype: object"
      ]
     },
     "execution_count": 115,
     "metadata": {},
     "output_type": "execute_result"
    }
   ],
   "source": [
    "df_Tweets_news['final_text'][:10]"
   ]
  },
  {
   "cell_type": "markdown",
   "id": "cd216c9c",
   "metadata": {},
   "source": [
    "<font color='red'>\n",
    "Feedback: \n",
    "    \n",
    " Text analysis is good; preprcoessing, transforming, and model development steps are done properly. The models are well explained and the results are satosfactorily discussed. The flow of the analysis is fine and charts/graphs are used to support the analysis parts. However, a preliminary discussion about the costs of errors is missing. \n",
    "    \n",
    "</font>"
   ]
  },
  {
   "cell_type": "markdown",
   "id": "ca3174b0-bda3-4d69-9e74-f82f7ab2f1fc",
   "metadata": {},
   "source": [
    "# Data analysis Part 2.\n",
    "# If in answering Question 3c. you applied a clustering (classification or regression) algorithm, now apply a classification (clustering) algorithm and explain the results. Provide the Python code. % # Provide the evaluation metrics. Explain the evaluation metrics."
   ]
  },
  {
   "cell_type": "markdown",
   "id": "ffdeaa09-324d-4e26-9273-1cf73503ad5e",
   "metadata": {},
   "source": [
    "No classification method was on the model for 3c"
   ]
  },
  {
   "cell_type": "markdown",
   "id": "44d88898-5c53-4897-975a-7e634664df18",
   "metadata": {},
   "source": [
    "# Cost Analisis\n",
    "\n",
    "<font color='blue'>\n",
    "\n",
    "    \n",
    "Cost estimation can become increasingly difficult, time-consuming, and resource-intensive when it cannot be done analytically. If traditional cost estimation techniques are usable under these circumstances, they have important limitations. Data science helps us with some techniques to overcome some of those limitations. Applying machine learning to data reveals non-obvious patterns and relationships that can be used to predict the costs of new assemblies with acceptable accuracy.\n",
    "    \n",
    "We have calculated the accuracy of this classification model, in order to define the accuracy by means of the number of correct decisions divided by the total number of decisions made. this application can be simplistic and easy for machine learning models related to data mining, like the example we just worked on, it is difficult to have precision for this case we do not need it to be exact since in this model some classes are more frequent than others and this can lead us to make mistakes.\n",
    "\n",
    "It is important to understand this difference between accuracy and precision for this cost analysis.\n",
    "accuracy and precision are not equivalent. Precision refers to the dispersion of the set of values ​​obtained from repeated measurements of a quantity. The smaller the dispersion, the greater the precision. Accuracy refers to how close the measured value is to the actual value. In statistical terms, accuracy is related to the bias of an estimate. The smaller the bias, the more accurate an estimate. When the accuracy of a result is expressed, it is expressed by the absolute error, which is the difference between the experimental value and the true value. (https://es.wikipedia.org/wiki/Precisi%C3%B3n_y_exactitud)\n",
    "\n",
    "\n",
    "As we saw in our data analysis, the negative opinions outweigh the neutral and positive ones, and after seeing some analyzes done, such as the scatter plot, our model cannot be neither exact nor precise, for that reason we can go for an estimated binary classification.\n",
    "\n",
    "For this we can use the confusion matrix to be able to simulate or generate a cost conclusion.\n",
    "\n",
    "(https://es.wikipedia.org/wiki/Precisi%C3%B3n_y_exactitud)\n",
    "That is, accuracy is the ratio of true results (both true positives (TP) and true negatives (TN)) to the total number of cases examined (true positives, false positives, true negatives, false negatives). In clear context for semantics, it is often referred to as \"Rand accuracy\" or \"Rand index\".8910 It is a parameter of the test.\n",
    "     \n",
    "An accuracy of 100% means that the measured values ​​are exactly the same as the given ones.\n",
    "\n",
    "On the other hand, the precision or positive predictive value is defined as the proportion of true positives against all positive results (both true positives and false positives).\n",
    "    \n",
    "based on the logistic classification model we could take where the total T = 5507 where the P = 1887 and the N = 1842 and the NT = 1778\n",
    "    \n",
    "the data set does not include any significant figures for estimating cost-based values.\n",
    "\n",
    "1. accuaracy = number of correct decisions made / total number of decisions made\n",
    "  accuray = 1887/5507 = 0.32\n",
    "\n",
    "We must also keep in mind that unbalanced classes can be a problem to take the cost estimate\n",
    "\n",
    "By taking this data arbitrarily we can determine that if an opinion is negative it must have a cost, but if the opinion is negative but the model evaluated it as positive this can lead to a higher cost or else one or positive or the model takes it as negative.\n",
    "    \n",
    "    \n",
    "    Classification Report:\n",
    "----------------------\n",
    "               precision    recall  f1-score   support\n",
    "\n",
    "           0       0.98      1.00      0.99      1815\n",
    "           1       0.95      0.94      0.94      1788\n",
    "           2       0.95      0.94      0.95      1904\n",
    "\n",
    "    accuracy                           0.96      5507\n",
    "   macro avg       0.96      0.96      0.96      5507\n",
    "weighted avg       0.96      0.96      0.96      5507\n",
    "    \n",
    "    \n",
    "    As a conclusion we can understand that our model has an accuracy of 96% which if we use the confusion matrix to estimate the cost we could say that the metrics are exact and the cost benefit would be high.\n",
    "\n",
    "but also keep in mind that this analysis is based on unrealistic assumptions.\n"
   ]
  }
 ],
 "metadata": {
  "kernelspec": {
   "display_name": "Python 3 (ipykernel)",
   "language": "python",
   "name": "python3"
  },
  "language_info": {
   "codemirror_mode": {
    "name": "ipython",
    "version": 3
   },
   "file_extension": ".py",
   "mimetype": "text/x-python",
   "name": "python",
   "nbconvert_exporter": "python",
   "pygments_lexer": "ipython3",
   "version": "3.9.7"
  },
  "toc-showtags": true
 },
 "nbformat": 4,
 "nbformat_minor": 5
}
